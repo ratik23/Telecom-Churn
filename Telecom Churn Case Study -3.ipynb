{
 "cells": [
  {
   "cell_type": "markdown",
   "metadata": {},
   "source": [
    "## Importing libraries "
   ]
  },
  {
   "cell_type": "code",
   "execution_count": 1,
   "metadata": {},
   "outputs": [],
   "source": [
    "# Loading packages\n",
    "import pandas as pd \n",
    "import numpy as np \n",
    "import matplotlib.pyplot as plt\n",
    "%matplotlib inline\n",
    "\n",
    "import warnings\n",
    "warnings.filterwarnings(\"ignore\")"
   ]
  },
  {
   "cell_type": "markdown",
   "metadata": {},
   "source": [
    "## Loading and Understanding Dataset"
   ]
  },
  {
   "cell_type": "code",
   "execution_count": 2,
   "metadata": {},
   "outputs": [],
   "source": [
    "# loading dataset\n",
    "df = pd.read_csv('telecom_churn_data.csv')"
   ]
  },
  {
   "cell_type": "code",
   "execution_count": 3,
   "metadata": {},
   "outputs": [
    {
     "data": {
      "text/html": [
       "<div>\n",
       "<style scoped>\n",
       "    .dataframe tbody tr th:only-of-type {\n",
       "        vertical-align: middle;\n",
       "    }\n",
       "\n",
       "    .dataframe tbody tr th {\n",
       "        vertical-align: top;\n",
       "    }\n",
       "\n",
       "    .dataframe thead th {\n",
       "        text-align: right;\n",
       "    }\n",
       "</style>\n",
       "<table border=\"1\" class=\"dataframe\">\n",
       "  <thead>\n",
       "    <tr style=\"text-align: right;\">\n",
       "      <th></th>\n",
       "      <th>mobile_number</th>\n",
       "      <th>circle_id</th>\n",
       "      <th>loc_og_t2o_mou</th>\n",
       "      <th>std_og_t2o_mou</th>\n",
       "      <th>loc_ic_t2o_mou</th>\n",
       "      <th>last_date_of_month_6</th>\n",
       "      <th>last_date_of_month_7</th>\n",
       "      <th>last_date_of_month_8</th>\n",
       "      <th>last_date_of_month_9</th>\n",
       "      <th>arpu_6</th>\n",
       "      <th>...</th>\n",
       "      <th>sachet_3g_9</th>\n",
       "      <th>fb_user_6</th>\n",
       "      <th>fb_user_7</th>\n",
       "      <th>fb_user_8</th>\n",
       "      <th>fb_user_9</th>\n",
       "      <th>aon</th>\n",
       "      <th>aug_vbc_3g</th>\n",
       "      <th>jul_vbc_3g</th>\n",
       "      <th>jun_vbc_3g</th>\n",
       "      <th>sep_vbc_3g</th>\n",
       "    </tr>\n",
       "  </thead>\n",
       "  <tbody>\n",
       "    <tr>\n",
       "      <th>0</th>\n",
       "      <td>7000842753</td>\n",
       "      <td>109</td>\n",
       "      <td>0.0</td>\n",
       "      <td>0.0</td>\n",
       "      <td>0.0</td>\n",
       "      <td>6/30/2014</td>\n",
       "      <td>7/31/2014</td>\n",
       "      <td>8/31/2014</td>\n",
       "      <td>9/30/2014</td>\n",
       "      <td>197.385</td>\n",
       "      <td>...</td>\n",
       "      <td>0</td>\n",
       "      <td>1.0</td>\n",
       "      <td>1.0</td>\n",
       "      <td>1.0</td>\n",
       "      <td>NaN</td>\n",
       "      <td>968</td>\n",
       "      <td>30.4</td>\n",
       "      <td>0.0</td>\n",
       "      <td>101.20</td>\n",
       "      <td>3.58</td>\n",
       "    </tr>\n",
       "    <tr>\n",
       "      <th>1</th>\n",
       "      <td>7001865778</td>\n",
       "      <td>109</td>\n",
       "      <td>0.0</td>\n",
       "      <td>0.0</td>\n",
       "      <td>0.0</td>\n",
       "      <td>6/30/2014</td>\n",
       "      <td>7/31/2014</td>\n",
       "      <td>8/31/2014</td>\n",
       "      <td>9/30/2014</td>\n",
       "      <td>34.047</td>\n",
       "      <td>...</td>\n",
       "      <td>0</td>\n",
       "      <td>NaN</td>\n",
       "      <td>1.0</td>\n",
       "      <td>1.0</td>\n",
       "      <td>NaN</td>\n",
       "      <td>1006</td>\n",
       "      <td>0.0</td>\n",
       "      <td>0.0</td>\n",
       "      <td>0.00</td>\n",
       "      <td>0.00</td>\n",
       "    </tr>\n",
       "    <tr>\n",
       "      <th>2</th>\n",
       "      <td>7001625959</td>\n",
       "      <td>109</td>\n",
       "      <td>0.0</td>\n",
       "      <td>0.0</td>\n",
       "      <td>0.0</td>\n",
       "      <td>6/30/2014</td>\n",
       "      <td>7/31/2014</td>\n",
       "      <td>8/31/2014</td>\n",
       "      <td>9/30/2014</td>\n",
       "      <td>167.690</td>\n",
       "      <td>...</td>\n",
       "      <td>0</td>\n",
       "      <td>NaN</td>\n",
       "      <td>NaN</td>\n",
       "      <td>NaN</td>\n",
       "      <td>1.0</td>\n",
       "      <td>1103</td>\n",
       "      <td>0.0</td>\n",
       "      <td>0.0</td>\n",
       "      <td>4.17</td>\n",
       "      <td>0.00</td>\n",
       "    </tr>\n",
       "    <tr>\n",
       "      <th>3</th>\n",
       "      <td>7001204172</td>\n",
       "      <td>109</td>\n",
       "      <td>0.0</td>\n",
       "      <td>0.0</td>\n",
       "      <td>0.0</td>\n",
       "      <td>6/30/2014</td>\n",
       "      <td>7/31/2014</td>\n",
       "      <td>8/31/2014</td>\n",
       "      <td>9/30/2014</td>\n",
       "      <td>221.338</td>\n",
       "      <td>...</td>\n",
       "      <td>0</td>\n",
       "      <td>NaN</td>\n",
       "      <td>NaN</td>\n",
       "      <td>NaN</td>\n",
       "      <td>NaN</td>\n",
       "      <td>2491</td>\n",
       "      <td>0.0</td>\n",
       "      <td>0.0</td>\n",
       "      <td>0.00</td>\n",
       "      <td>0.00</td>\n",
       "    </tr>\n",
       "    <tr>\n",
       "      <th>4</th>\n",
       "      <td>7000142493</td>\n",
       "      <td>109</td>\n",
       "      <td>0.0</td>\n",
       "      <td>0.0</td>\n",
       "      <td>0.0</td>\n",
       "      <td>6/30/2014</td>\n",
       "      <td>7/31/2014</td>\n",
       "      <td>8/31/2014</td>\n",
       "      <td>9/30/2014</td>\n",
       "      <td>261.636</td>\n",
       "      <td>...</td>\n",
       "      <td>0</td>\n",
       "      <td>0.0</td>\n",
       "      <td>NaN</td>\n",
       "      <td>NaN</td>\n",
       "      <td>NaN</td>\n",
       "      <td>1526</td>\n",
       "      <td>0.0</td>\n",
       "      <td>0.0</td>\n",
       "      <td>0.00</td>\n",
       "      <td>0.00</td>\n",
       "    </tr>\n",
       "  </tbody>\n",
       "</table>\n",
       "<p>5 rows × 226 columns</p>\n",
       "</div>"
      ],
      "text/plain": [
       "   mobile_number  circle_id  loc_og_t2o_mou  std_og_t2o_mou  loc_ic_t2o_mou  \\\n",
       "0     7000842753        109             0.0             0.0             0.0   \n",
       "1     7001865778        109             0.0             0.0             0.0   \n",
       "2     7001625959        109             0.0             0.0             0.0   \n",
       "3     7001204172        109             0.0             0.0             0.0   \n",
       "4     7000142493        109             0.0             0.0             0.0   \n",
       "\n",
       "  last_date_of_month_6 last_date_of_month_7 last_date_of_month_8  \\\n",
       "0            6/30/2014            7/31/2014            8/31/2014   \n",
       "1            6/30/2014            7/31/2014            8/31/2014   \n",
       "2            6/30/2014            7/31/2014            8/31/2014   \n",
       "3            6/30/2014            7/31/2014            8/31/2014   \n",
       "4            6/30/2014            7/31/2014            8/31/2014   \n",
       "\n",
       "  last_date_of_month_9   arpu_6  ...  sachet_3g_9  fb_user_6  fb_user_7  \\\n",
       "0            9/30/2014  197.385  ...            0        1.0        1.0   \n",
       "1            9/30/2014   34.047  ...            0        NaN        1.0   \n",
       "2            9/30/2014  167.690  ...            0        NaN        NaN   \n",
       "3            9/30/2014  221.338  ...            0        NaN        NaN   \n",
       "4            9/30/2014  261.636  ...            0        0.0        NaN   \n",
       "\n",
       "   fb_user_8  fb_user_9   aon  aug_vbc_3g  jul_vbc_3g  jun_vbc_3g  sep_vbc_3g  \n",
       "0        1.0        NaN   968        30.4         0.0      101.20        3.58  \n",
       "1        1.0        NaN  1006         0.0         0.0        0.00        0.00  \n",
       "2        NaN        1.0  1103         0.0         0.0        4.17        0.00  \n",
       "3        NaN        NaN  2491         0.0         0.0        0.00        0.00  \n",
       "4        NaN        NaN  1526         0.0         0.0        0.00        0.00  \n",
       "\n",
       "[5 rows x 226 columns]"
      ]
     },
     "execution_count": 3,
     "metadata": {},
     "output_type": "execute_result"
    }
   ],
   "source": [
    "# viewing dataset\n",
    "df.head()"
   ]
  },
  {
   "cell_type": "code",
   "execution_count": 4,
   "metadata": {},
   "outputs": [
    {
     "name": "stdout",
     "output_type": "stream",
     "text": [
      "<class 'pandas.core.frame.DataFrame'>\n",
      "RangeIndex: 99999 entries, 0 to 99998\n",
      "Data columns (total 226 columns):\n",
      " #   Column                    Dtype  \n",
      "---  ------                    -----  \n",
      " 0   mobile_number             int64  \n",
      " 1   circle_id                 int64  \n",
      " 2   loc_og_t2o_mou            float64\n",
      " 3   std_og_t2o_mou            float64\n",
      " 4   loc_ic_t2o_mou            float64\n",
      " 5   last_date_of_month_6      object \n",
      " 6   last_date_of_month_7      object \n",
      " 7   last_date_of_month_8      object \n",
      " 8   last_date_of_month_9      object \n",
      " 9   arpu_6                    float64\n",
      " 10  arpu_7                    float64\n",
      " 11  arpu_8                    float64\n",
      " 12  arpu_9                    float64\n",
      " 13  onnet_mou_6               float64\n",
      " 14  onnet_mou_7               float64\n",
      " 15  onnet_mou_8               float64\n",
      " 16  onnet_mou_9               float64\n",
      " 17  offnet_mou_6              float64\n",
      " 18  offnet_mou_7              float64\n",
      " 19  offnet_mou_8              float64\n",
      " 20  offnet_mou_9              float64\n",
      " 21  roam_ic_mou_6             float64\n",
      " 22  roam_ic_mou_7             float64\n",
      " 23  roam_ic_mou_8             float64\n",
      " 24  roam_ic_mou_9             float64\n",
      " 25  roam_og_mou_6             float64\n",
      " 26  roam_og_mou_7             float64\n",
      " 27  roam_og_mou_8             float64\n",
      " 28  roam_og_mou_9             float64\n",
      " 29  loc_og_t2t_mou_6          float64\n",
      " 30  loc_og_t2t_mou_7          float64\n",
      " 31  loc_og_t2t_mou_8          float64\n",
      " 32  loc_og_t2t_mou_9          float64\n",
      " 33  loc_og_t2m_mou_6          float64\n",
      " 34  loc_og_t2m_mou_7          float64\n",
      " 35  loc_og_t2m_mou_8          float64\n",
      " 36  loc_og_t2m_mou_9          float64\n",
      " 37  loc_og_t2f_mou_6          float64\n",
      " 38  loc_og_t2f_mou_7          float64\n",
      " 39  loc_og_t2f_mou_8          float64\n",
      " 40  loc_og_t2f_mou_9          float64\n",
      " 41  loc_og_t2c_mou_6          float64\n",
      " 42  loc_og_t2c_mou_7          float64\n",
      " 43  loc_og_t2c_mou_8          float64\n",
      " 44  loc_og_t2c_mou_9          float64\n",
      " 45  loc_og_mou_6              float64\n",
      " 46  loc_og_mou_7              float64\n",
      " 47  loc_og_mou_8              float64\n",
      " 48  loc_og_mou_9              float64\n",
      " 49  std_og_t2t_mou_6          float64\n",
      " 50  std_og_t2t_mou_7          float64\n",
      " 51  std_og_t2t_mou_8          float64\n",
      " 52  std_og_t2t_mou_9          float64\n",
      " 53  std_og_t2m_mou_6          float64\n",
      " 54  std_og_t2m_mou_7          float64\n",
      " 55  std_og_t2m_mou_8          float64\n",
      " 56  std_og_t2m_mou_9          float64\n",
      " 57  std_og_t2f_mou_6          float64\n",
      " 58  std_og_t2f_mou_7          float64\n",
      " 59  std_og_t2f_mou_8          float64\n",
      " 60  std_og_t2f_mou_9          float64\n",
      " 61  std_og_t2c_mou_6          float64\n",
      " 62  std_og_t2c_mou_7          float64\n",
      " 63  std_og_t2c_mou_8          float64\n",
      " 64  std_og_t2c_mou_9          float64\n",
      " 65  std_og_mou_6              float64\n",
      " 66  std_og_mou_7              float64\n",
      " 67  std_og_mou_8              float64\n",
      " 68  std_og_mou_9              float64\n",
      " 69  isd_og_mou_6              float64\n",
      " 70  isd_og_mou_7              float64\n",
      " 71  isd_og_mou_8              float64\n",
      " 72  isd_og_mou_9              float64\n",
      " 73  spl_og_mou_6              float64\n",
      " 74  spl_og_mou_7              float64\n",
      " 75  spl_og_mou_8              float64\n",
      " 76  spl_og_mou_9              float64\n",
      " 77  og_others_6               float64\n",
      " 78  og_others_7               float64\n",
      " 79  og_others_8               float64\n",
      " 80  og_others_9               float64\n",
      " 81  total_og_mou_6            float64\n",
      " 82  total_og_mou_7            float64\n",
      " 83  total_og_mou_8            float64\n",
      " 84  total_og_mou_9            float64\n",
      " 85  loc_ic_t2t_mou_6          float64\n",
      " 86  loc_ic_t2t_mou_7          float64\n",
      " 87  loc_ic_t2t_mou_8          float64\n",
      " 88  loc_ic_t2t_mou_9          float64\n",
      " 89  loc_ic_t2m_mou_6          float64\n",
      " 90  loc_ic_t2m_mou_7          float64\n",
      " 91  loc_ic_t2m_mou_8          float64\n",
      " 92  loc_ic_t2m_mou_9          float64\n",
      " 93  loc_ic_t2f_mou_6          float64\n",
      " 94  loc_ic_t2f_mou_7          float64\n",
      " 95  loc_ic_t2f_mou_8          float64\n",
      " 96  loc_ic_t2f_mou_9          float64\n",
      " 97  loc_ic_mou_6              float64\n",
      " 98  loc_ic_mou_7              float64\n",
      " 99  loc_ic_mou_8              float64\n",
      " 100 loc_ic_mou_9              float64\n",
      " 101 std_ic_t2t_mou_6          float64\n",
      " 102 std_ic_t2t_mou_7          float64\n",
      " 103 std_ic_t2t_mou_8          float64\n",
      " 104 std_ic_t2t_mou_9          float64\n",
      " 105 std_ic_t2m_mou_6          float64\n",
      " 106 std_ic_t2m_mou_7          float64\n",
      " 107 std_ic_t2m_mou_8          float64\n",
      " 108 std_ic_t2m_mou_9          float64\n",
      " 109 std_ic_t2f_mou_6          float64\n",
      " 110 std_ic_t2f_mou_7          float64\n",
      " 111 std_ic_t2f_mou_8          float64\n",
      " 112 std_ic_t2f_mou_9          float64\n",
      " 113 std_ic_t2o_mou_6          float64\n",
      " 114 std_ic_t2o_mou_7          float64\n",
      " 115 std_ic_t2o_mou_8          float64\n",
      " 116 std_ic_t2o_mou_9          float64\n",
      " 117 std_ic_mou_6              float64\n",
      " 118 std_ic_mou_7              float64\n",
      " 119 std_ic_mou_8              float64\n",
      " 120 std_ic_mou_9              float64\n",
      " 121 total_ic_mou_6            float64\n",
      " 122 total_ic_mou_7            float64\n",
      " 123 total_ic_mou_8            float64\n",
      " 124 total_ic_mou_9            float64\n",
      " 125 spl_ic_mou_6              float64\n",
      " 126 spl_ic_mou_7              float64\n",
      " 127 spl_ic_mou_8              float64\n",
      " 128 spl_ic_mou_9              float64\n",
      " 129 isd_ic_mou_6              float64\n",
      " 130 isd_ic_mou_7              float64\n",
      " 131 isd_ic_mou_8              float64\n",
      " 132 isd_ic_mou_9              float64\n",
      " 133 ic_others_6               float64\n",
      " 134 ic_others_7               float64\n",
      " 135 ic_others_8               float64\n",
      " 136 ic_others_9               float64\n",
      " 137 total_rech_num_6          int64  \n",
      " 138 total_rech_num_7          int64  \n",
      " 139 total_rech_num_8          int64  \n",
      " 140 total_rech_num_9          int64  \n",
      " 141 total_rech_amt_6          int64  \n",
      " 142 total_rech_amt_7          int64  \n",
      " 143 total_rech_amt_8          int64  \n",
      " 144 total_rech_amt_9          int64  \n",
      " 145 max_rech_amt_6            int64  \n",
      " 146 max_rech_amt_7            int64  \n",
      " 147 max_rech_amt_8            int64  \n",
      " 148 max_rech_amt_9            int64  \n",
      " 149 date_of_last_rech_6       object \n",
      " 150 date_of_last_rech_7       object \n",
      " 151 date_of_last_rech_8       object \n",
      " 152 date_of_last_rech_9       object \n",
      " 153 last_day_rch_amt_6        int64  \n",
      " 154 last_day_rch_amt_7        int64  \n",
      " 155 last_day_rch_amt_8        int64  \n",
      " 156 last_day_rch_amt_9        int64  \n",
      " 157 date_of_last_rech_data_6  object \n",
      " 158 date_of_last_rech_data_7  object \n",
      " 159 date_of_last_rech_data_8  object \n",
      " 160 date_of_last_rech_data_9  object \n",
      " 161 total_rech_data_6         float64\n",
      " 162 total_rech_data_7         float64\n",
      " 163 total_rech_data_8         float64\n",
      " 164 total_rech_data_9         float64\n",
      " 165 max_rech_data_6           float64\n",
      " 166 max_rech_data_7           float64\n",
      " 167 max_rech_data_8           float64\n",
      " 168 max_rech_data_9           float64\n",
      " 169 count_rech_2g_6           float64\n",
      " 170 count_rech_2g_7           float64\n",
      " 171 count_rech_2g_8           float64\n",
      " 172 count_rech_2g_9           float64\n",
      " 173 count_rech_3g_6           float64\n",
      " 174 count_rech_3g_7           float64\n",
      " 175 count_rech_3g_8           float64\n",
      " 176 count_rech_3g_9           float64\n",
      " 177 av_rech_amt_data_6        float64\n",
      " 178 av_rech_amt_data_7        float64\n",
      " 179 av_rech_amt_data_8        float64\n",
      " 180 av_rech_amt_data_9        float64\n",
      " 181 vol_2g_mb_6               float64\n",
      " 182 vol_2g_mb_7               float64\n",
      " 183 vol_2g_mb_8               float64\n",
      " 184 vol_2g_mb_9               float64\n",
      " 185 vol_3g_mb_6               float64\n",
      " 186 vol_3g_mb_7               float64\n",
      " 187 vol_3g_mb_8               float64\n",
      " 188 vol_3g_mb_9               float64\n",
      " 189 arpu_3g_6                 float64\n",
      " 190 arpu_3g_7                 float64\n",
      " 191 arpu_3g_8                 float64\n",
      " 192 arpu_3g_9                 float64\n",
      " 193 arpu_2g_6                 float64\n",
      " 194 arpu_2g_7                 float64\n",
      " 195 arpu_2g_8                 float64\n",
      " 196 arpu_2g_9                 float64\n",
      " 197 night_pck_user_6          float64\n",
      " 198 night_pck_user_7          float64\n",
      " 199 night_pck_user_8          float64\n",
      " 200 night_pck_user_9          float64\n",
      " 201 monthly_2g_6              int64  \n",
      " 202 monthly_2g_7              int64  \n",
      " 203 monthly_2g_8              int64  \n",
      " 204 monthly_2g_9              int64  \n",
      " 205 sachet_2g_6               int64  \n",
      " 206 sachet_2g_7               int64  \n",
      " 207 sachet_2g_8               int64  \n",
      " 208 sachet_2g_9               int64  \n",
      " 209 monthly_3g_6              int64  \n",
      " 210 monthly_3g_7              int64  \n",
      " 211 monthly_3g_8              int64  \n",
      " 212 monthly_3g_9              int64  \n",
      " 213 sachet_3g_6               int64  \n",
      " 214 sachet_3g_7               int64  \n",
      " 215 sachet_3g_8               int64  \n",
      " 216 sachet_3g_9               int64  \n",
      " 217 fb_user_6                 float64\n",
      " 218 fb_user_7                 float64\n",
      " 219 fb_user_8                 float64\n",
      " 220 fb_user_9                 float64\n",
      " 221 aon                       int64  \n",
      " 222 aug_vbc_3g                float64\n",
      " 223 jul_vbc_3g                float64\n",
      " 224 jun_vbc_3g                float64\n",
      " 225 sep_vbc_3g                float64\n",
      "dtypes: float64(179), int64(35), object(12)\n",
      "memory usage: 172.4+ MB\n"
     ]
    }
   ],
   "source": [
    "# viewing important information of dataset\n",
    "df.info(verbose=True)"
   ]
  },
  {
   "cell_type": "code",
   "execution_count": 5,
   "metadata": {},
   "outputs": [
    {
     "data": {
      "text/html": [
       "<div>\n",
       "<style scoped>\n",
       "    .dataframe tbody tr th:only-of-type {\n",
       "        vertical-align: middle;\n",
       "    }\n",
       "\n",
       "    .dataframe tbody tr th {\n",
       "        vertical-align: top;\n",
       "    }\n",
       "\n",
       "    .dataframe thead th {\n",
       "        text-align: right;\n",
       "    }\n",
       "</style>\n",
       "<table border=\"1\" class=\"dataframe\">\n",
       "  <thead>\n",
       "    <tr style=\"text-align: right;\">\n",
       "      <th></th>\n",
       "      <th>mobile_number</th>\n",
       "      <th>circle_id</th>\n",
       "      <th>loc_og_t2o_mou</th>\n",
       "      <th>std_og_t2o_mou</th>\n",
       "      <th>loc_ic_t2o_mou</th>\n",
       "      <th>last_date_of_month_6</th>\n",
       "      <th>last_date_of_month_7</th>\n",
       "      <th>last_date_of_month_8</th>\n",
       "      <th>last_date_of_month_9</th>\n",
       "      <th>arpu_6</th>\n",
       "      <th>...</th>\n",
       "      <th>sachet_3g_9</th>\n",
       "      <th>fb_user_6</th>\n",
       "      <th>fb_user_7</th>\n",
       "      <th>fb_user_8</th>\n",
       "      <th>fb_user_9</th>\n",
       "      <th>aon</th>\n",
       "      <th>aug_vbc_3g</th>\n",
       "      <th>jul_vbc_3g</th>\n",
       "      <th>jun_vbc_3g</th>\n",
       "      <th>sep_vbc_3g</th>\n",
       "    </tr>\n",
       "  </thead>\n",
       "  <tbody>\n",
       "    <tr>\n",
       "      <th>count</th>\n",
       "      <td>9.999900e+04</td>\n",
       "      <td>99999.0</td>\n",
       "      <td>98981.0</td>\n",
       "      <td>98981.0</td>\n",
       "      <td>98981.0</td>\n",
       "      <td>99999</td>\n",
       "      <td>99398</td>\n",
       "      <td>98899</td>\n",
       "      <td>98340</td>\n",
       "      <td>99999.000000</td>\n",
       "      <td>...</td>\n",
       "      <td>99999.000000</td>\n",
       "      <td>25153.000000</td>\n",
       "      <td>25571.000000</td>\n",
       "      <td>26339.000000</td>\n",
       "      <td>25922.000000</td>\n",
       "      <td>99999.000000</td>\n",
       "      <td>99999.000000</td>\n",
       "      <td>99999.000000</td>\n",
       "      <td>99999.000000</td>\n",
       "      <td>99999.000000</td>\n",
       "    </tr>\n",
       "    <tr>\n",
       "      <th>unique</th>\n",
       "      <td>NaN</td>\n",
       "      <td>NaN</td>\n",
       "      <td>NaN</td>\n",
       "      <td>NaN</td>\n",
       "      <td>NaN</td>\n",
       "      <td>1</td>\n",
       "      <td>1</td>\n",
       "      <td>1</td>\n",
       "      <td>1</td>\n",
       "      <td>NaN</td>\n",
       "      <td>...</td>\n",
       "      <td>NaN</td>\n",
       "      <td>NaN</td>\n",
       "      <td>NaN</td>\n",
       "      <td>NaN</td>\n",
       "      <td>NaN</td>\n",
       "      <td>NaN</td>\n",
       "      <td>NaN</td>\n",
       "      <td>NaN</td>\n",
       "      <td>NaN</td>\n",
       "      <td>NaN</td>\n",
       "    </tr>\n",
       "    <tr>\n",
       "      <th>top</th>\n",
       "      <td>NaN</td>\n",
       "      <td>NaN</td>\n",
       "      <td>NaN</td>\n",
       "      <td>NaN</td>\n",
       "      <td>NaN</td>\n",
       "      <td>6/30/2014</td>\n",
       "      <td>7/31/2014</td>\n",
       "      <td>8/31/2014</td>\n",
       "      <td>9/30/2014</td>\n",
       "      <td>NaN</td>\n",
       "      <td>...</td>\n",
       "      <td>NaN</td>\n",
       "      <td>NaN</td>\n",
       "      <td>NaN</td>\n",
       "      <td>NaN</td>\n",
       "      <td>NaN</td>\n",
       "      <td>NaN</td>\n",
       "      <td>NaN</td>\n",
       "      <td>NaN</td>\n",
       "      <td>NaN</td>\n",
       "      <td>NaN</td>\n",
       "    </tr>\n",
       "    <tr>\n",
       "      <th>freq</th>\n",
       "      <td>NaN</td>\n",
       "      <td>NaN</td>\n",
       "      <td>NaN</td>\n",
       "      <td>NaN</td>\n",
       "      <td>NaN</td>\n",
       "      <td>99999</td>\n",
       "      <td>99398</td>\n",
       "      <td>98899</td>\n",
       "      <td>98340</td>\n",
       "      <td>NaN</td>\n",
       "      <td>...</td>\n",
       "      <td>NaN</td>\n",
       "      <td>NaN</td>\n",
       "      <td>NaN</td>\n",
       "      <td>NaN</td>\n",
       "      <td>NaN</td>\n",
       "      <td>NaN</td>\n",
       "      <td>NaN</td>\n",
       "      <td>NaN</td>\n",
       "      <td>NaN</td>\n",
       "      <td>NaN</td>\n",
       "    </tr>\n",
       "    <tr>\n",
       "      <th>mean</th>\n",
       "      <td>7.001207e+09</td>\n",
       "      <td>109.0</td>\n",
       "      <td>0.0</td>\n",
       "      <td>0.0</td>\n",
       "      <td>0.0</td>\n",
       "      <td>NaN</td>\n",
       "      <td>NaN</td>\n",
       "      <td>NaN</td>\n",
       "      <td>NaN</td>\n",
       "      <td>282.987358</td>\n",
       "      <td>...</td>\n",
       "      <td>0.084581</td>\n",
       "      <td>0.914404</td>\n",
       "      <td>0.908764</td>\n",
       "      <td>0.890808</td>\n",
       "      <td>0.860968</td>\n",
       "      <td>1219.854749</td>\n",
       "      <td>68.170248</td>\n",
       "      <td>66.839062</td>\n",
       "      <td>60.021204</td>\n",
       "      <td>3.299373</td>\n",
       "    </tr>\n",
       "    <tr>\n",
       "      <th>std</th>\n",
       "      <td>6.956694e+05</td>\n",
       "      <td>0.0</td>\n",
       "      <td>0.0</td>\n",
       "      <td>0.0</td>\n",
       "      <td>0.0</td>\n",
       "      <td>NaN</td>\n",
       "      <td>NaN</td>\n",
       "      <td>NaN</td>\n",
       "      <td>NaN</td>\n",
       "      <td>328.439770</td>\n",
       "      <td>...</td>\n",
       "      <td>0.650457</td>\n",
       "      <td>0.279772</td>\n",
       "      <td>0.287950</td>\n",
       "      <td>0.311885</td>\n",
       "      <td>0.345987</td>\n",
       "      <td>954.733842</td>\n",
       "      <td>267.580450</td>\n",
       "      <td>271.201856</td>\n",
       "      <td>253.938223</td>\n",
       "      <td>32.408353</td>\n",
       "    </tr>\n",
       "    <tr>\n",
       "      <th>min</th>\n",
       "      <td>7.000000e+09</td>\n",
       "      <td>109.0</td>\n",
       "      <td>0.0</td>\n",
       "      <td>0.0</td>\n",
       "      <td>0.0</td>\n",
       "      <td>NaN</td>\n",
       "      <td>NaN</td>\n",
       "      <td>NaN</td>\n",
       "      <td>NaN</td>\n",
       "      <td>-2258.709000</td>\n",
       "      <td>...</td>\n",
       "      <td>0.000000</td>\n",
       "      <td>0.000000</td>\n",
       "      <td>0.000000</td>\n",
       "      <td>0.000000</td>\n",
       "      <td>0.000000</td>\n",
       "      <td>180.000000</td>\n",
       "      <td>0.000000</td>\n",
       "      <td>0.000000</td>\n",
       "      <td>0.000000</td>\n",
       "      <td>0.000000</td>\n",
       "    </tr>\n",
       "    <tr>\n",
       "      <th>25%</th>\n",
       "      <td>7.000606e+09</td>\n",
       "      <td>109.0</td>\n",
       "      <td>0.0</td>\n",
       "      <td>0.0</td>\n",
       "      <td>0.0</td>\n",
       "      <td>NaN</td>\n",
       "      <td>NaN</td>\n",
       "      <td>NaN</td>\n",
       "      <td>NaN</td>\n",
       "      <td>93.411500</td>\n",
       "      <td>...</td>\n",
       "      <td>0.000000</td>\n",
       "      <td>1.000000</td>\n",
       "      <td>1.000000</td>\n",
       "      <td>1.000000</td>\n",
       "      <td>1.000000</td>\n",
       "      <td>467.000000</td>\n",
       "      <td>0.000000</td>\n",
       "      <td>0.000000</td>\n",
       "      <td>0.000000</td>\n",
       "      <td>0.000000</td>\n",
       "    </tr>\n",
       "    <tr>\n",
       "      <th>50%</th>\n",
       "      <td>7.001205e+09</td>\n",
       "      <td>109.0</td>\n",
       "      <td>0.0</td>\n",
       "      <td>0.0</td>\n",
       "      <td>0.0</td>\n",
       "      <td>NaN</td>\n",
       "      <td>NaN</td>\n",
       "      <td>NaN</td>\n",
       "      <td>NaN</td>\n",
       "      <td>197.704000</td>\n",
       "      <td>...</td>\n",
       "      <td>0.000000</td>\n",
       "      <td>1.000000</td>\n",
       "      <td>1.000000</td>\n",
       "      <td>1.000000</td>\n",
       "      <td>1.000000</td>\n",
       "      <td>863.000000</td>\n",
       "      <td>0.000000</td>\n",
       "      <td>0.000000</td>\n",
       "      <td>0.000000</td>\n",
       "      <td>0.000000</td>\n",
       "    </tr>\n",
       "    <tr>\n",
       "      <th>75%</th>\n",
       "      <td>7.001812e+09</td>\n",
       "      <td>109.0</td>\n",
       "      <td>0.0</td>\n",
       "      <td>0.0</td>\n",
       "      <td>0.0</td>\n",
       "      <td>NaN</td>\n",
       "      <td>NaN</td>\n",
       "      <td>NaN</td>\n",
       "      <td>NaN</td>\n",
       "      <td>371.060000</td>\n",
       "      <td>...</td>\n",
       "      <td>0.000000</td>\n",
       "      <td>1.000000</td>\n",
       "      <td>1.000000</td>\n",
       "      <td>1.000000</td>\n",
       "      <td>1.000000</td>\n",
       "      <td>1807.500000</td>\n",
       "      <td>0.000000</td>\n",
       "      <td>0.000000</td>\n",
       "      <td>0.000000</td>\n",
       "      <td>0.000000</td>\n",
       "    </tr>\n",
       "    <tr>\n",
       "      <th>max</th>\n",
       "      <td>7.002411e+09</td>\n",
       "      <td>109.0</td>\n",
       "      <td>0.0</td>\n",
       "      <td>0.0</td>\n",
       "      <td>0.0</td>\n",
       "      <td>NaN</td>\n",
       "      <td>NaN</td>\n",
       "      <td>NaN</td>\n",
       "      <td>NaN</td>\n",
       "      <td>27731.088000</td>\n",
       "      <td>...</td>\n",
       "      <td>49.000000</td>\n",
       "      <td>1.000000</td>\n",
       "      <td>1.000000</td>\n",
       "      <td>1.000000</td>\n",
       "      <td>1.000000</td>\n",
       "      <td>4337.000000</td>\n",
       "      <td>12916.220000</td>\n",
       "      <td>9165.600000</td>\n",
       "      <td>11166.210000</td>\n",
       "      <td>2618.570000</td>\n",
       "    </tr>\n",
       "  </tbody>\n",
       "</table>\n",
       "<p>11 rows × 226 columns</p>\n",
       "</div>"
      ],
      "text/plain": [
       "        mobile_number  circle_id  loc_og_t2o_mou  std_og_t2o_mou  \\\n",
       "count    9.999900e+04    99999.0         98981.0         98981.0   \n",
       "unique            NaN        NaN             NaN             NaN   \n",
       "top               NaN        NaN             NaN             NaN   \n",
       "freq              NaN        NaN             NaN             NaN   \n",
       "mean     7.001207e+09      109.0             0.0             0.0   \n",
       "std      6.956694e+05        0.0             0.0             0.0   \n",
       "min      7.000000e+09      109.0             0.0             0.0   \n",
       "25%      7.000606e+09      109.0             0.0             0.0   \n",
       "50%      7.001205e+09      109.0             0.0             0.0   \n",
       "75%      7.001812e+09      109.0             0.0             0.0   \n",
       "max      7.002411e+09      109.0             0.0             0.0   \n",
       "\n",
       "        loc_ic_t2o_mou last_date_of_month_6 last_date_of_month_7  \\\n",
       "count          98981.0                99999                99398   \n",
       "unique             NaN                    1                    1   \n",
       "top                NaN            6/30/2014            7/31/2014   \n",
       "freq               NaN                99999                99398   \n",
       "mean               0.0                  NaN                  NaN   \n",
       "std                0.0                  NaN                  NaN   \n",
       "min                0.0                  NaN                  NaN   \n",
       "25%                0.0                  NaN                  NaN   \n",
       "50%                0.0                  NaN                  NaN   \n",
       "75%                0.0                  NaN                  NaN   \n",
       "max                0.0                  NaN                  NaN   \n",
       "\n",
       "       last_date_of_month_8 last_date_of_month_9        arpu_6  ...  \\\n",
       "count                 98899                98340  99999.000000  ...   \n",
       "unique                    1                    1           NaN  ...   \n",
       "top               8/31/2014            9/30/2014           NaN  ...   \n",
       "freq                  98899                98340           NaN  ...   \n",
       "mean                    NaN                  NaN    282.987358  ...   \n",
       "std                     NaN                  NaN    328.439770  ...   \n",
       "min                     NaN                  NaN  -2258.709000  ...   \n",
       "25%                     NaN                  NaN     93.411500  ...   \n",
       "50%                     NaN                  NaN    197.704000  ...   \n",
       "75%                     NaN                  NaN    371.060000  ...   \n",
       "max                     NaN                  NaN  27731.088000  ...   \n",
       "\n",
       "         sachet_3g_9     fb_user_6     fb_user_7     fb_user_8     fb_user_9  \\\n",
       "count   99999.000000  25153.000000  25571.000000  26339.000000  25922.000000   \n",
       "unique           NaN           NaN           NaN           NaN           NaN   \n",
       "top              NaN           NaN           NaN           NaN           NaN   \n",
       "freq             NaN           NaN           NaN           NaN           NaN   \n",
       "mean        0.084581      0.914404      0.908764      0.890808      0.860968   \n",
       "std         0.650457      0.279772      0.287950      0.311885      0.345987   \n",
       "min         0.000000      0.000000      0.000000      0.000000      0.000000   \n",
       "25%         0.000000      1.000000      1.000000      1.000000      1.000000   \n",
       "50%         0.000000      1.000000      1.000000      1.000000      1.000000   \n",
       "75%         0.000000      1.000000      1.000000      1.000000      1.000000   \n",
       "max        49.000000      1.000000      1.000000      1.000000      1.000000   \n",
       "\n",
       "                 aon    aug_vbc_3g    jul_vbc_3g    jun_vbc_3g    sep_vbc_3g  \n",
       "count   99999.000000  99999.000000  99999.000000  99999.000000  99999.000000  \n",
       "unique           NaN           NaN           NaN           NaN           NaN  \n",
       "top              NaN           NaN           NaN           NaN           NaN  \n",
       "freq             NaN           NaN           NaN           NaN           NaN  \n",
       "mean     1219.854749     68.170248     66.839062     60.021204      3.299373  \n",
       "std       954.733842    267.580450    271.201856    253.938223     32.408353  \n",
       "min       180.000000      0.000000      0.000000      0.000000      0.000000  \n",
       "25%       467.000000      0.000000      0.000000      0.000000      0.000000  \n",
       "50%       863.000000      0.000000      0.000000      0.000000      0.000000  \n",
       "75%      1807.500000      0.000000      0.000000      0.000000      0.000000  \n",
       "max      4337.000000  12916.220000   9165.600000  11166.210000   2618.570000  \n",
       "\n",
       "[11 rows x 226 columns]"
      ]
     },
     "execution_count": 5,
     "metadata": {},
     "output_type": "execute_result"
    }
   ],
   "source": [
    "# viewing important features of dataset\n",
    "df.describe(include='all')"
   ]
  },
  {
   "cell_type": "code",
   "execution_count": 6,
   "metadata": {},
   "outputs": [
    {
     "data": {
      "text/plain": [
       "(99999, 226)"
      ]
     },
     "execution_count": 6,
     "metadata": {},
     "output_type": "execute_result"
    }
   ],
   "source": [
    "# checking shape of dataset\n",
    "df.shape"
   ]
  },
  {
   "cell_type": "code",
   "execution_count": 7,
   "metadata": {},
   "outputs": [
    {
     "data": {
      "text/plain": [
       "count_rech_2g_6             74.846748\n",
       "date_of_last_rech_data_6    74.846748\n",
       "count_rech_3g_6             74.846748\n",
       "av_rech_amt_data_6          74.846748\n",
       "max_rech_data_6             74.846748\n",
       "                              ...    \n",
       "last_day_rch_amt_6           0.000000\n",
       "last_day_rch_amt_7           0.000000\n",
       "last_day_rch_amt_8           0.000000\n",
       "last_day_rch_amt_9           0.000000\n",
       "mobile_number                0.000000\n",
       "Length: 226, dtype: float64"
      ]
     },
     "execution_count": 7,
     "metadata": {},
     "output_type": "execute_result"
    }
   ],
   "source": [
    "# checking null values of dataset\n",
    "null_percen=df.isnull().sum()/len(df)*100\n",
    "null_percen.sort_values(ascending=False)"
   ]
  },
  {
   "cell_type": "code",
   "execution_count": 8,
   "metadata": {},
   "outputs": [
    {
     "data": {
      "text/plain": [
       "Index(['mobile_number', 'circle_id', 'loc_og_t2o_mou', 'std_og_t2o_mou',\n",
       "       'loc_ic_t2o_mou', 'last_date_of_month_6', 'last_date_of_month_7',\n",
       "       'last_date_of_month_8', 'last_date_of_month_9', 'arpu_6',\n",
       "       ...\n",
       "       'sachet_3g_9', 'fb_user_6', 'fb_user_7', 'fb_user_8', 'fb_user_9',\n",
       "       'aon', 'aug_vbc_3g', 'jul_vbc_3g', 'jun_vbc_3g', 'sep_vbc_3g'],\n",
       "      dtype='object', length=226)"
      ]
     },
     "execution_count": 8,
     "metadata": {},
     "output_type": "execute_result"
    }
   ],
   "source": [
    "# checking columns of dataset\n",
    "df.columns"
   ]
  },
  {
   "cell_type": "markdown",
   "metadata": {},
   "source": [
    "## imputing missing values"
   ]
  },
  {
   "cell_type": "code",
   "execution_count": 9,
   "metadata": {},
   "outputs": [],
   "source": [
    "# some recharge columns have min value of 1 while others don't\n",
    "recharge_date = ['total_rech_data_6', 'total_rech_data_7', 'total_rech_data_8', 'total_rech_data_9',\n",
    "                 'count_rech_2g_6', 'count_rech_2g_7', 'count_rech_2g_8', 'count_rech_2g_9',\n",
    "                 'count_rech_3g_6', 'count_rech_3g_7', 'count_rech_3g_8', 'count_rech_3g_9',\n",
    "                 'max_rech_data_6', 'max_rech_data_7', 'max_rech_data_8', 'max_rech_data_9',\n",
    "                 'av_rech_amt_data_6', 'av_rech_amt_data_7', 'av_rech_amt_data_8', 'av_rech_amt_data_9',\n",
    "                 ]"
   ]
  },
  {
   "cell_type": "code",
   "execution_count": 10,
   "metadata": {
    "scrolled": true
   },
   "outputs": [
    {
     "data": {
      "text/html": [
       "<div>\n",
       "<style scoped>\n",
       "    .dataframe tbody tr th:only-of-type {\n",
       "        vertical-align: middle;\n",
       "    }\n",
       "\n",
       "    .dataframe tbody tr th {\n",
       "        vertical-align: top;\n",
       "    }\n",
       "\n",
       "    .dataframe thead th {\n",
       "        text-align: right;\n",
       "    }\n",
       "</style>\n",
       "<table border=\"1\" class=\"dataframe\">\n",
       "  <thead>\n",
       "    <tr style=\"text-align: right;\">\n",
       "      <th></th>\n",
       "      <th>total_rech_data_6</th>\n",
       "      <th>total_rech_data_7</th>\n",
       "      <th>total_rech_data_8</th>\n",
       "      <th>total_rech_data_9</th>\n",
       "      <th>count_rech_2g_6</th>\n",
       "      <th>count_rech_2g_7</th>\n",
       "      <th>count_rech_2g_8</th>\n",
       "      <th>count_rech_2g_9</th>\n",
       "      <th>count_rech_3g_6</th>\n",
       "      <th>count_rech_3g_7</th>\n",
       "      <th>count_rech_3g_8</th>\n",
       "      <th>count_rech_3g_9</th>\n",
       "      <th>max_rech_data_6</th>\n",
       "      <th>max_rech_data_7</th>\n",
       "      <th>max_rech_data_8</th>\n",
       "      <th>max_rech_data_9</th>\n",
       "      <th>av_rech_amt_data_6</th>\n",
       "      <th>av_rech_amt_data_7</th>\n",
       "      <th>av_rech_amt_data_8</th>\n",
       "      <th>av_rech_amt_data_9</th>\n",
       "    </tr>\n",
       "  </thead>\n",
       "  <tbody>\n",
       "    <tr>\n",
       "      <th>count</th>\n",
       "      <td>25153.000000</td>\n",
       "      <td>25571.000000</td>\n",
       "      <td>26339.000000</td>\n",
       "      <td>25922.000000</td>\n",
       "      <td>25153.000000</td>\n",
       "      <td>25571.000000</td>\n",
       "      <td>26339.000000</td>\n",
       "      <td>25922.000000</td>\n",
       "      <td>25153.000000</td>\n",
       "      <td>25571.000000</td>\n",
       "      <td>26339.000000</td>\n",
       "      <td>25922.000000</td>\n",
       "      <td>25153.000000</td>\n",
       "      <td>25571.000000</td>\n",
       "      <td>26339.000000</td>\n",
       "      <td>25922.00000</td>\n",
       "      <td>25153.000000</td>\n",
       "      <td>25571.000000</td>\n",
       "      <td>26339.000000</td>\n",
       "      <td>25922.000000</td>\n",
       "    </tr>\n",
       "    <tr>\n",
       "      <th>mean</th>\n",
       "      <td>2.463802</td>\n",
       "      <td>2.666419</td>\n",
       "      <td>2.651999</td>\n",
       "      <td>2.441170</td>\n",
       "      <td>1.864668</td>\n",
       "      <td>2.044699</td>\n",
       "      <td>2.016288</td>\n",
       "      <td>1.781807</td>\n",
       "      <td>0.599133</td>\n",
       "      <td>0.621720</td>\n",
       "      <td>0.635711</td>\n",
       "      <td>0.659363</td>\n",
       "      <td>126.393392</td>\n",
       "      <td>126.729459</td>\n",
       "      <td>125.717301</td>\n",
       "      <td>124.94144</td>\n",
       "      <td>192.600982</td>\n",
       "      <td>200.981292</td>\n",
       "      <td>197.526489</td>\n",
       "      <td>192.734315</td>\n",
       "    </tr>\n",
       "    <tr>\n",
       "      <th>std</th>\n",
       "      <td>2.789128</td>\n",
       "      <td>3.031593</td>\n",
       "      <td>3.074987</td>\n",
       "      <td>2.516339</td>\n",
       "      <td>2.570254</td>\n",
       "      <td>2.768332</td>\n",
       "      <td>2.720132</td>\n",
       "      <td>2.214701</td>\n",
       "      <td>1.274428</td>\n",
       "      <td>1.394524</td>\n",
       "      <td>1.422827</td>\n",
       "      <td>1.411513</td>\n",
       "      <td>108.477235</td>\n",
       "      <td>109.765267</td>\n",
       "      <td>109.437851</td>\n",
       "      <td>111.36376</td>\n",
       "      <td>192.646318</td>\n",
       "      <td>196.791224</td>\n",
       "      <td>191.301305</td>\n",
       "      <td>188.400286</td>\n",
       "    </tr>\n",
       "    <tr>\n",
       "      <th>min</th>\n",
       "      <td>1.000000</td>\n",
       "      <td>1.000000</td>\n",
       "      <td>1.000000</td>\n",
       "      <td>1.000000</td>\n",
       "      <td>0.000000</td>\n",
       "      <td>0.000000</td>\n",
       "      <td>0.000000</td>\n",
       "      <td>0.000000</td>\n",
       "      <td>0.000000</td>\n",
       "      <td>0.000000</td>\n",
       "      <td>0.000000</td>\n",
       "      <td>0.000000</td>\n",
       "      <td>1.000000</td>\n",
       "      <td>1.000000</td>\n",
       "      <td>1.000000</td>\n",
       "      <td>1.00000</td>\n",
       "      <td>1.000000</td>\n",
       "      <td>0.500000</td>\n",
       "      <td>0.500000</td>\n",
       "      <td>1.000000</td>\n",
       "    </tr>\n",
       "    <tr>\n",
       "      <th>25%</th>\n",
       "      <td>1.000000</td>\n",
       "      <td>1.000000</td>\n",
       "      <td>1.000000</td>\n",
       "      <td>1.000000</td>\n",
       "      <td>1.000000</td>\n",
       "      <td>1.000000</td>\n",
       "      <td>1.000000</td>\n",
       "      <td>1.000000</td>\n",
       "      <td>0.000000</td>\n",
       "      <td>0.000000</td>\n",
       "      <td>0.000000</td>\n",
       "      <td>0.000000</td>\n",
       "      <td>25.000000</td>\n",
       "      <td>25.000000</td>\n",
       "      <td>25.000000</td>\n",
       "      <td>25.00000</td>\n",
       "      <td>82.000000</td>\n",
       "      <td>92.000000</td>\n",
       "      <td>87.000000</td>\n",
       "      <td>69.000000</td>\n",
       "    </tr>\n",
       "    <tr>\n",
       "      <th>50%</th>\n",
       "      <td>1.000000</td>\n",
       "      <td>1.000000</td>\n",
       "      <td>1.000000</td>\n",
       "      <td>2.000000</td>\n",
       "      <td>1.000000</td>\n",
       "      <td>1.000000</td>\n",
       "      <td>1.000000</td>\n",
       "      <td>1.000000</td>\n",
       "      <td>0.000000</td>\n",
       "      <td>0.000000</td>\n",
       "      <td>0.000000</td>\n",
       "      <td>0.000000</td>\n",
       "      <td>145.000000</td>\n",
       "      <td>145.000000</td>\n",
       "      <td>145.000000</td>\n",
       "      <td>145.00000</td>\n",
       "      <td>154.000000</td>\n",
       "      <td>154.000000</td>\n",
       "      <td>154.000000</td>\n",
       "      <td>164.000000</td>\n",
       "    </tr>\n",
       "    <tr>\n",
       "      <th>75%</th>\n",
       "      <td>3.000000</td>\n",
       "      <td>3.000000</td>\n",
       "      <td>3.000000</td>\n",
       "      <td>3.000000</td>\n",
       "      <td>2.000000</td>\n",
       "      <td>2.000000</td>\n",
       "      <td>2.000000</td>\n",
       "      <td>2.000000</td>\n",
       "      <td>1.000000</td>\n",
       "      <td>1.000000</td>\n",
       "      <td>1.000000</td>\n",
       "      <td>1.000000</td>\n",
       "      <td>177.000000</td>\n",
       "      <td>177.000000</td>\n",
       "      <td>179.000000</td>\n",
       "      <td>179.00000</td>\n",
       "      <td>252.000000</td>\n",
       "      <td>252.000000</td>\n",
       "      <td>252.000000</td>\n",
       "      <td>252.000000</td>\n",
       "    </tr>\n",
       "    <tr>\n",
       "      <th>max</th>\n",
       "      <td>61.000000</td>\n",
       "      <td>54.000000</td>\n",
       "      <td>60.000000</td>\n",
       "      <td>84.000000</td>\n",
       "      <td>42.000000</td>\n",
       "      <td>48.000000</td>\n",
       "      <td>44.000000</td>\n",
       "      <td>40.000000</td>\n",
       "      <td>29.000000</td>\n",
       "      <td>35.000000</td>\n",
       "      <td>45.000000</td>\n",
       "      <td>49.000000</td>\n",
       "      <td>1555.000000</td>\n",
       "      <td>1555.000000</td>\n",
       "      <td>1555.000000</td>\n",
       "      <td>1555.00000</td>\n",
       "      <td>7546.000000</td>\n",
       "      <td>4365.000000</td>\n",
       "      <td>4076.000000</td>\n",
       "      <td>4061.000000</td>\n",
       "    </tr>\n",
       "  </tbody>\n",
       "</table>\n",
       "</div>"
      ],
      "text/plain": [
       "       total_rech_data_6  total_rech_data_7  total_rech_data_8  \\\n",
       "count       25153.000000       25571.000000       26339.000000   \n",
       "mean            2.463802           2.666419           2.651999   \n",
       "std             2.789128           3.031593           3.074987   \n",
       "min             1.000000           1.000000           1.000000   \n",
       "25%             1.000000           1.000000           1.000000   \n",
       "50%             1.000000           1.000000           1.000000   \n",
       "75%             3.000000           3.000000           3.000000   \n",
       "max            61.000000          54.000000          60.000000   \n",
       "\n",
       "       total_rech_data_9  count_rech_2g_6  count_rech_2g_7  count_rech_2g_8  \\\n",
       "count       25922.000000     25153.000000     25571.000000     26339.000000   \n",
       "mean            2.441170         1.864668         2.044699         2.016288   \n",
       "std             2.516339         2.570254         2.768332         2.720132   \n",
       "min             1.000000         0.000000         0.000000         0.000000   \n",
       "25%             1.000000         1.000000         1.000000         1.000000   \n",
       "50%             2.000000         1.000000         1.000000         1.000000   \n",
       "75%             3.000000         2.000000         2.000000         2.000000   \n",
       "max            84.000000        42.000000        48.000000        44.000000   \n",
       "\n",
       "       count_rech_2g_9  count_rech_3g_6  count_rech_3g_7  count_rech_3g_8  \\\n",
       "count     25922.000000     25153.000000     25571.000000     26339.000000   \n",
       "mean          1.781807         0.599133         0.621720         0.635711   \n",
       "std           2.214701         1.274428         1.394524         1.422827   \n",
       "min           0.000000         0.000000         0.000000         0.000000   \n",
       "25%           1.000000         0.000000         0.000000         0.000000   \n",
       "50%           1.000000         0.000000         0.000000         0.000000   \n",
       "75%           2.000000         1.000000         1.000000         1.000000   \n",
       "max          40.000000        29.000000        35.000000        45.000000   \n",
       "\n",
       "       count_rech_3g_9  max_rech_data_6  max_rech_data_7  max_rech_data_8  \\\n",
       "count     25922.000000     25153.000000     25571.000000     26339.000000   \n",
       "mean          0.659363       126.393392       126.729459       125.717301   \n",
       "std           1.411513       108.477235       109.765267       109.437851   \n",
       "min           0.000000         1.000000         1.000000         1.000000   \n",
       "25%           0.000000        25.000000        25.000000        25.000000   \n",
       "50%           0.000000       145.000000       145.000000       145.000000   \n",
       "75%           1.000000       177.000000       177.000000       179.000000   \n",
       "max          49.000000      1555.000000      1555.000000      1555.000000   \n",
       "\n",
       "       max_rech_data_9  av_rech_amt_data_6  av_rech_amt_data_7  \\\n",
       "count      25922.00000        25153.000000        25571.000000   \n",
       "mean         124.94144          192.600982          200.981292   \n",
       "std          111.36376          192.646318          196.791224   \n",
       "min            1.00000            1.000000            0.500000   \n",
       "25%           25.00000           82.000000           92.000000   \n",
       "50%          145.00000          154.000000          154.000000   \n",
       "75%          179.00000          252.000000          252.000000   \n",
       "max         1555.00000         7546.000000         4365.000000   \n",
       "\n",
       "       av_rech_amt_data_8  av_rech_amt_data_9  \n",
       "count        26339.000000        25922.000000  \n",
       "mean           197.526489          192.734315  \n",
       "std            191.301305          188.400286  \n",
       "min              0.500000            1.000000  \n",
       "25%             87.000000           69.000000  \n",
       "50%            154.000000          164.000000  \n",
       "75%            252.000000          252.000000  \n",
       "max           4076.000000         4061.000000  "
      ]
     },
     "execution_count": 10,
     "metadata": {},
     "output_type": "execute_result"
    }
   ],
   "source": [
    "# reviewing recharge columns with value one\n",
    "df[recharge_date].describe(include='all')"
   ]
  },
  {
   "cell_type": "markdown",
   "metadata": {},
   "source": [
    "## Handling missing values"
   ]
  },
  {
   "cell_type": "code",
   "execution_count": 11,
   "metadata": {},
   "outputs": [
    {
     "data": {
      "text/html": [
       "<div>\n",
       "<style scoped>\n",
       "    .dataframe tbody tr th:only-of-type {\n",
       "        vertical-align: middle;\n",
       "    }\n",
       "\n",
       "    .dataframe tbody tr th {\n",
       "        vertical-align: top;\n",
       "    }\n",
       "\n",
       "    .dataframe thead th {\n",
       "        text-align: right;\n",
       "    }\n",
       "</style>\n",
       "<table border=\"1\" class=\"dataframe\">\n",
       "  <thead>\n",
       "    <tr style=\"text-align: right;\">\n",
       "      <th></th>\n",
       "      <th>total_rech_data_6</th>\n",
       "      <th>date_of_last_rech_data_6</th>\n",
       "    </tr>\n",
       "  </thead>\n",
       "  <tbody>\n",
       "    <tr>\n",
       "      <th>1</th>\n",
       "      <td>NaN</td>\n",
       "      <td>NaN</td>\n",
       "    </tr>\n",
       "    <tr>\n",
       "      <th>2</th>\n",
       "      <td>NaN</td>\n",
       "      <td>NaN</td>\n",
       "    </tr>\n",
       "    <tr>\n",
       "      <th>3</th>\n",
       "      <td>NaN</td>\n",
       "      <td>NaN</td>\n",
       "    </tr>\n",
       "    <tr>\n",
       "      <th>5</th>\n",
       "      <td>NaN</td>\n",
       "      <td>NaN</td>\n",
       "    </tr>\n",
       "    <tr>\n",
       "      <th>6</th>\n",
       "      <td>NaN</td>\n",
       "      <td>NaN</td>\n",
       "    </tr>\n",
       "    <tr>\n",
       "      <th>7</th>\n",
       "      <td>NaN</td>\n",
       "      <td>NaN</td>\n",
       "    </tr>\n",
       "    <tr>\n",
       "      <th>8</th>\n",
       "      <td>NaN</td>\n",
       "      <td>NaN</td>\n",
       "    </tr>\n",
       "    <tr>\n",
       "      <th>9</th>\n",
       "      <td>NaN</td>\n",
       "      <td>NaN</td>\n",
       "    </tr>\n",
       "    <tr>\n",
       "      <th>10</th>\n",
       "      <td>NaN</td>\n",
       "      <td>NaN</td>\n",
       "    </tr>\n",
       "    <tr>\n",
       "      <th>11</th>\n",
       "      <td>NaN</td>\n",
       "      <td>NaN</td>\n",
       "    </tr>\n",
       "    <tr>\n",
       "      <th>12</th>\n",
       "      <td>NaN</td>\n",
       "      <td>NaN</td>\n",
       "    </tr>\n",
       "    <tr>\n",
       "      <th>13</th>\n",
       "      <td>NaN</td>\n",
       "      <td>NaN</td>\n",
       "    </tr>\n",
       "    <tr>\n",
       "      <th>14</th>\n",
       "      <td>NaN</td>\n",
       "      <td>NaN</td>\n",
       "    </tr>\n",
       "    <tr>\n",
       "      <th>15</th>\n",
       "      <td>NaN</td>\n",
       "      <td>NaN</td>\n",
       "    </tr>\n",
       "    <tr>\n",
       "      <th>16</th>\n",
       "      <td>NaN</td>\n",
       "      <td>NaN</td>\n",
       "    </tr>\n",
       "    <tr>\n",
       "      <th>17</th>\n",
       "      <td>NaN</td>\n",
       "      <td>NaN</td>\n",
       "    </tr>\n",
       "    <tr>\n",
       "      <th>18</th>\n",
       "      <td>NaN</td>\n",
       "      <td>NaN</td>\n",
       "    </tr>\n",
       "    <tr>\n",
       "      <th>20</th>\n",
       "      <td>NaN</td>\n",
       "      <td>NaN</td>\n",
       "    </tr>\n",
       "    <tr>\n",
       "      <th>21</th>\n",
       "      <td>NaN</td>\n",
       "      <td>NaN</td>\n",
       "    </tr>\n",
       "    <tr>\n",
       "      <th>22</th>\n",
       "      <td>NaN</td>\n",
       "      <td>NaN</td>\n",
       "    </tr>\n",
       "  </tbody>\n",
       "</table>\n",
       "</div>"
      ],
      "text/plain": [
       "    total_rech_data_6 date_of_last_rech_data_6\n",
       "1                 NaN                      NaN\n",
       "2                 NaN                      NaN\n",
       "3                 NaN                      NaN\n",
       "5                 NaN                      NaN\n",
       "6                 NaN                      NaN\n",
       "7                 NaN                      NaN\n",
       "8                 NaN                      NaN\n",
       "9                 NaN                      NaN\n",
       "10                NaN                      NaN\n",
       "11                NaN                      NaN\n",
       "12                NaN                      NaN\n",
       "13                NaN                      NaN\n",
       "14                NaN                      NaN\n",
       "15                NaN                      NaN\n",
       "16                NaN                      NaN\n",
       "17                NaN                      NaN\n",
       "18                NaN                      NaN\n",
       "20                NaN                      NaN\n",
       "21                NaN                      NaN\n",
       "22                NaN                      NaN"
      ]
     },
     "execution_count": 11,
     "metadata": {},
     "output_type": "execute_result"
    }
   ],
   "source": [
    "# recharge date and the recharge value are missing together that means the customer didn't recharge\n",
    "df.loc[df.total_rech_data_6.isnull() & df.date_of_last_rech_data_6.isnull(), [\"total_rech_data_6\", \"date_of_last_rech_data_6\"]].head(20)"
   ]
  },
  {
   "cell_type": "code",
   "execution_count": 12,
   "metadata": {},
   "outputs": [],
   "source": [
    "# imputing zero in columns where customer didn't recharge\n",
    "zero_impute = ['total_rech_data_6', 'total_rech_data_7', 'total_rech_data_8', 'total_rech_data_9',\n",
    "        'av_rech_amt_data_6', 'av_rech_amt_data_7', 'av_rech_amt_data_8', 'av_rech_amt_data_9',\n",
    "        'max_rech_data_6', 'max_rech_data_7', 'max_rech_data_8', 'max_rech_data_9']"
   ]
  },
  {
   "cell_type": "code",
   "execution_count": 13,
   "metadata": {},
   "outputs": [],
   "source": [
    "# imputing zeros\n",
    "df[zero_impute] = df[zero_impute].apply(lambda x: x.fillna(0))"
   ]
  },
  {
   "cell_type": "code",
   "execution_count": 14,
   "metadata": {},
   "outputs": [
    {
     "name": "stdout",
     "output_type": "stream",
     "text": [
      "Missing value percent:\n",
      "\n",
      "total_rech_data_6     0.0\n",
      "total_rech_data_7     0.0\n",
      "total_rech_data_8     0.0\n",
      "total_rech_data_9     0.0\n",
      "av_rech_amt_data_6    0.0\n",
      "av_rech_amt_data_7    0.0\n",
      "av_rech_amt_data_8    0.0\n",
      "av_rech_amt_data_9    0.0\n",
      "max_rech_data_6       0.0\n",
      "max_rech_data_7       0.0\n",
      "max_rech_data_8       0.0\n",
      "max_rech_data_9       0.0\n",
      "dtype: float64\n"
     ]
    }
   ],
   "source": [
    "# checking that zero is imputed correctly \n",
    "print(\"Missing value percent:\\n\")\n",
    "print(df[zero_impute].isnull().sum()*100/df.shape[1])"
   ]
  },
  {
   "cell_type": "code",
   "execution_count": 15,
   "metadata": {},
   "outputs": [],
   "source": [
    "# dropping id and date columns\n",
    "df = df.drop(['mobile_number', 'circle_id','last_date_of_month_6', 'last_date_of_month_7', 'last_date_of_month_8', 'last_date_of_month_9',\n",
    "             'date_of_last_rech_6', 'date_of_last_rech_7', 'date_of_last_rech_8', 'date_of_last_rech_9',\n",
    "             'date_of_last_rech_data_6',\n",
    "             'date_of_last_rech_data_7',\n",
    "             'date_of_last_rech_data_8',\n",
    "             'date_of_last_rech_data_9'], axis=1)"
   ]
  },
  {
   "cell_type": "code",
   "execution_count": 16,
   "metadata": {},
   "outputs": [
    {
     "name": "stdout",
     "output_type": "stream",
     "text": [
      "Shape after dropping:  (99999, 212)\n"
     ]
    }
   ],
   "source": [
    "# checking shape after dropping columns\n",
    "print(\"Shape after dropping: \", df.shape)"
   ]
  },
  {
   "cell_type": "markdown",
   "metadata": {},
   "source": [
    "### Replace NaN values in categorical columns"
   ]
  },
  {
   "cell_type": "code",
   "execution_count": 17,
   "metadata": {},
   "outputs": [],
   "source": [
    "# assigning categorial columns to a new variable\n",
    "categorial_col= ['night_pck_user_6',\n",
    "             'night_pck_user_7',\n",
    "             'night_pck_user_8',\n",
    "             'night_pck_user_9',\n",
    "             'fb_user_6',\n",
    "             'fb_user_7',\n",
    "             'fb_user_8',\n",
    "             'fb_user_9']"
   ]
  },
  {
   "cell_type": "code",
   "execution_count": 18,
   "metadata": {},
   "outputs": [],
   "source": [
    "# filling categorical columns with '-1'\n",
    "df[categorial_col] = df[categorial_col].apply(lambda x:x.fillna(-1))"
   ]
  },
  {
   "cell_type": "code",
   "execution_count": 19,
   "metadata": {},
   "outputs": [
    {
     "name": "stdout",
     "output_type": "stream",
     "text": [
      "Missing value percent:\n",
      "\n",
      "night_pck_user_6    0.0\n",
      "night_pck_user_7    0.0\n",
      "night_pck_user_8    0.0\n",
      "night_pck_user_9    0.0\n",
      "fb_user_6           0.0\n",
      "fb_user_7           0.0\n",
      "fb_user_8           0.0\n",
      "fb_user_9           0.0\n",
      "dtype: float64\n"
     ]
    }
   ],
   "source": [
    "# checking null values\n",
    "print(\"Missing value percent:\\n\")\n",
    "print(df[categorial_col].isnull().sum()*100/df.shape[0])"
   ]
  },
  {
   "cell_type": "code",
   "execution_count": 20,
   "metadata": {},
   "outputs": [
    {
     "data": {
      "text/plain": [
       "arpu_2g_6             74.846748\n",
       "count_rech_2g_6       74.846748\n",
       "arpu_3g_6             74.846748\n",
       "count_rech_3g_6       74.846748\n",
       "arpu_2g_7             74.428744\n",
       "                        ...    \n",
       "total_rech_data_6      0.000000\n",
       "last_day_rch_amt_9     0.000000\n",
       "last_day_rch_amt_8     0.000000\n",
       "last_day_rch_amt_7     0.000000\n",
       "sep_vbc_3g             0.000000\n",
       "Length: 212, dtype: float64"
      ]
     },
     "execution_count": 20,
     "metadata": {},
     "output_type": "execute_result"
    }
   ],
   "source": [
    "# Checking null values\n",
    "null_percen=df.isnull().sum()/len(df)*100\n",
    "null_percen.sort_values(ascending=False)"
   ]
  },
  {
   "cell_type": "code",
   "execution_count": 21,
   "metadata": {},
   "outputs": [],
   "source": [
    "# removing columns with more than 50% null values\n",
    "def removeNulls(dataframe,percent=0.50):\n",
    "    df = dataframe.copy()\n",
    "    ishape = df.shape\n",
    "    colnames = (df.isnull().sum()/len(df))\n",
    "    colnames = list(colnames[colnames.values>=percent].index)\n",
    "    df.drop(labels = colnames,axis =1,inplace=True)        \n",
    "    print(\"Number of Columns dropped\\t: \",len(colnames))    \n",
    "    print(\"\\nOld dataset rows,columns\",ishape,\"\\nNew dataset rows,columns\",df.shape)\n",
    "    return df"
   ]
  },
  {
   "cell_type": "code",
   "execution_count": 22,
   "metadata": {},
   "outputs": [
    {
     "name": "stdout",
     "output_type": "stream",
     "text": [
      "Number of Columns dropped\t:  16\n",
      "\n",
      "Old dataset rows,columns (99999, 212) \n",
      "New dataset rows,columns (99999, 196)\n"
     ]
    }
   ],
   "source": [
    "df = removeNulls(df,percent = 0.50)"
   ]
  },
  {
   "cell_type": "code",
   "execution_count": 23,
   "metadata": {},
   "outputs": [
    {
     "data": {
      "text/plain": [
       "std_og_mou_9          7.745077\n",
       "ic_others_9           7.745077\n",
       "std_ic_mou_9          7.745077\n",
       "spl_og_mou_9          7.745077\n",
       "loc_og_t2m_mou_9      7.745077\n",
       "                        ...   \n",
       "total_rech_data_6     0.000000\n",
       "last_day_rch_amt_9    0.000000\n",
       "last_day_rch_amt_8    0.000000\n",
       "last_day_rch_amt_7    0.000000\n",
       "sep_vbc_3g            0.000000\n",
       "Length: 196, dtype: float64"
      ]
     },
     "execution_count": 23,
     "metadata": {},
     "output_type": "execute_result"
    }
   ],
   "source": [
    "# checking remaining null values\n",
    "null_percen=df.isnull().sum()/len(df)*100\n",
    "null_percen.sort_values(ascending=False)"
   ]
  },
  {
   "cell_type": "code",
   "execution_count": 24,
   "metadata": {},
   "outputs": [
    {
     "data": {
      "text/html": [
       "<div>\n",
       "<style scoped>\n",
       "    .dataframe tbody tr th:only-of-type {\n",
       "        vertical-align: middle;\n",
       "    }\n",
       "\n",
       "    .dataframe tbody tr th {\n",
       "        vertical-align: top;\n",
       "    }\n",
       "\n",
       "    .dataframe thead th {\n",
       "        text-align: right;\n",
       "    }\n",
       "</style>\n",
       "<table border=\"1\" class=\"dataframe\">\n",
       "  <thead>\n",
       "    <tr style=\"text-align: right;\">\n",
       "      <th></th>\n",
       "      <th>loc_og_t2o_mou</th>\n",
       "      <th>std_og_t2o_mou</th>\n",
       "      <th>loc_ic_t2o_mou</th>\n",
       "      <th>arpu_6</th>\n",
       "      <th>arpu_7</th>\n",
       "      <th>arpu_8</th>\n",
       "      <th>arpu_9</th>\n",
       "      <th>onnet_mou_6</th>\n",
       "      <th>onnet_mou_7</th>\n",
       "      <th>onnet_mou_8</th>\n",
       "      <th>...</th>\n",
       "      <th>sachet_3g_9</th>\n",
       "      <th>fb_user_6</th>\n",
       "      <th>fb_user_7</th>\n",
       "      <th>fb_user_8</th>\n",
       "      <th>fb_user_9</th>\n",
       "      <th>aon</th>\n",
       "      <th>aug_vbc_3g</th>\n",
       "      <th>jul_vbc_3g</th>\n",
       "      <th>jun_vbc_3g</th>\n",
       "      <th>sep_vbc_3g</th>\n",
       "    </tr>\n",
       "  </thead>\n",
       "  <tbody>\n",
       "    <tr>\n",
       "      <th>0</th>\n",
       "      <td>0.0</td>\n",
       "      <td>0.0</td>\n",
       "      <td>0.0</td>\n",
       "      <td>197.385</td>\n",
       "      <td>214.816</td>\n",
       "      <td>213.803</td>\n",
       "      <td>21.100</td>\n",
       "      <td>NaN</td>\n",
       "      <td>NaN</td>\n",
       "      <td>0.00</td>\n",
       "      <td>...</td>\n",
       "      <td>0</td>\n",
       "      <td>1.0</td>\n",
       "      <td>1.0</td>\n",
       "      <td>1.0</td>\n",
       "      <td>-1.0</td>\n",
       "      <td>968</td>\n",
       "      <td>30.40</td>\n",
       "      <td>0.00</td>\n",
       "      <td>101.20</td>\n",
       "      <td>3.58</td>\n",
       "    </tr>\n",
       "    <tr>\n",
       "      <th>1</th>\n",
       "      <td>0.0</td>\n",
       "      <td>0.0</td>\n",
       "      <td>0.0</td>\n",
       "      <td>34.047</td>\n",
       "      <td>355.074</td>\n",
       "      <td>268.321</td>\n",
       "      <td>86.285</td>\n",
       "      <td>24.11</td>\n",
       "      <td>78.68</td>\n",
       "      <td>7.68</td>\n",
       "      <td>...</td>\n",
       "      <td>0</td>\n",
       "      <td>-1.0</td>\n",
       "      <td>1.0</td>\n",
       "      <td>1.0</td>\n",
       "      <td>-1.0</td>\n",
       "      <td>1006</td>\n",
       "      <td>0.00</td>\n",
       "      <td>0.00</td>\n",
       "      <td>0.00</td>\n",
       "      <td>0.00</td>\n",
       "    </tr>\n",
       "    <tr>\n",
       "      <th>2</th>\n",
       "      <td>0.0</td>\n",
       "      <td>0.0</td>\n",
       "      <td>0.0</td>\n",
       "      <td>167.690</td>\n",
       "      <td>189.058</td>\n",
       "      <td>210.226</td>\n",
       "      <td>290.714</td>\n",
       "      <td>11.54</td>\n",
       "      <td>55.24</td>\n",
       "      <td>37.26</td>\n",
       "      <td>...</td>\n",
       "      <td>0</td>\n",
       "      <td>-1.0</td>\n",
       "      <td>-1.0</td>\n",
       "      <td>-1.0</td>\n",
       "      <td>1.0</td>\n",
       "      <td>1103</td>\n",
       "      <td>0.00</td>\n",
       "      <td>0.00</td>\n",
       "      <td>4.17</td>\n",
       "      <td>0.00</td>\n",
       "    </tr>\n",
       "    <tr>\n",
       "      <th>3</th>\n",
       "      <td>0.0</td>\n",
       "      <td>0.0</td>\n",
       "      <td>0.0</td>\n",
       "      <td>221.338</td>\n",
       "      <td>251.102</td>\n",
       "      <td>508.054</td>\n",
       "      <td>389.500</td>\n",
       "      <td>99.91</td>\n",
       "      <td>54.39</td>\n",
       "      <td>310.98</td>\n",
       "      <td>...</td>\n",
       "      <td>0</td>\n",
       "      <td>-1.0</td>\n",
       "      <td>-1.0</td>\n",
       "      <td>-1.0</td>\n",
       "      <td>-1.0</td>\n",
       "      <td>2491</td>\n",
       "      <td>0.00</td>\n",
       "      <td>0.00</td>\n",
       "      <td>0.00</td>\n",
       "      <td>0.00</td>\n",
       "    </tr>\n",
       "    <tr>\n",
       "      <th>4</th>\n",
       "      <td>0.0</td>\n",
       "      <td>0.0</td>\n",
       "      <td>0.0</td>\n",
       "      <td>261.636</td>\n",
       "      <td>309.876</td>\n",
       "      <td>238.174</td>\n",
       "      <td>163.426</td>\n",
       "      <td>50.31</td>\n",
       "      <td>149.44</td>\n",
       "      <td>83.89</td>\n",
       "      <td>...</td>\n",
       "      <td>0</td>\n",
       "      <td>0.0</td>\n",
       "      <td>-1.0</td>\n",
       "      <td>-1.0</td>\n",
       "      <td>-1.0</td>\n",
       "      <td>1526</td>\n",
       "      <td>0.00</td>\n",
       "      <td>0.00</td>\n",
       "      <td>0.00</td>\n",
       "      <td>0.00</td>\n",
       "    </tr>\n",
       "    <tr>\n",
       "      <th>...</th>\n",
       "      <td>...</td>\n",
       "      <td>...</td>\n",
       "      <td>...</td>\n",
       "      <td>...</td>\n",
       "      <td>...</td>\n",
       "      <td>...</td>\n",
       "      <td>...</td>\n",
       "      <td>...</td>\n",
       "      <td>...</td>\n",
       "      <td>...</td>\n",
       "      <td>...</td>\n",
       "      <td>...</td>\n",
       "      <td>...</td>\n",
       "      <td>...</td>\n",
       "      <td>...</td>\n",
       "      <td>...</td>\n",
       "      <td>...</td>\n",
       "      <td>...</td>\n",
       "      <td>...</td>\n",
       "      <td>...</td>\n",
       "      <td>...</td>\n",
       "    </tr>\n",
       "    <tr>\n",
       "      <th>99994</th>\n",
       "      <td>0.0</td>\n",
       "      <td>0.0</td>\n",
       "      <td>0.0</td>\n",
       "      <td>18.471</td>\n",
       "      <td>69.161</td>\n",
       "      <td>57.530</td>\n",
       "      <td>29.950</td>\n",
       "      <td>5.40</td>\n",
       "      <td>3.36</td>\n",
       "      <td>5.91</td>\n",
       "      <td>...</td>\n",
       "      <td>0</td>\n",
       "      <td>-1.0</td>\n",
       "      <td>-1.0</td>\n",
       "      <td>-1.0</td>\n",
       "      <td>-1.0</td>\n",
       "      <td>3199</td>\n",
       "      <td>0.00</td>\n",
       "      <td>0.00</td>\n",
       "      <td>0.00</td>\n",
       "      <td>0.00</td>\n",
       "    </tr>\n",
       "    <tr>\n",
       "      <th>99995</th>\n",
       "      <td>0.0</td>\n",
       "      <td>0.0</td>\n",
       "      <td>0.0</td>\n",
       "      <td>112.201</td>\n",
       "      <td>77.811</td>\n",
       "      <td>79.081</td>\n",
       "      <td>140.835</td>\n",
       "      <td>29.26</td>\n",
       "      <td>18.13</td>\n",
       "      <td>16.06</td>\n",
       "      <td>...</td>\n",
       "      <td>0</td>\n",
       "      <td>-1.0</td>\n",
       "      <td>-1.0</td>\n",
       "      <td>-1.0</td>\n",
       "      <td>-1.0</td>\n",
       "      <td>2052</td>\n",
       "      <td>0.00</td>\n",
       "      <td>0.00</td>\n",
       "      <td>0.00</td>\n",
       "      <td>0.00</td>\n",
       "    </tr>\n",
       "    <tr>\n",
       "      <th>99996</th>\n",
       "      <td>0.0</td>\n",
       "      <td>0.0</td>\n",
       "      <td>0.0</td>\n",
       "      <td>229.187</td>\n",
       "      <td>0.000</td>\n",
       "      <td>0.000</td>\n",
       "      <td>0.000</td>\n",
       "      <td>1.11</td>\n",
       "      <td>NaN</td>\n",
       "      <td>NaN</td>\n",
       "      <td>...</td>\n",
       "      <td>0</td>\n",
       "      <td>1.0</td>\n",
       "      <td>-1.0</td>\n",
       "      <td>-1.0</td>\n",
       "      <td>-1.0</td>\n",
       "      <td>185</td>\n",
       "      <td>0.00</td>\n",
       "      <td>0.00</td>\n",
       "      <td>0.00</td>\n",
       "      <td>0.00</td>\n",
       "    </tr>\n",
       "    <tr>\n",
       "      <th>99997</th>\n",
       "      <td>0.0</td>\n",
       "      <td>0.0</td>\n",
       "      <td>0.0</td>\n",
       "      <td>322.991</td>\n",
       "      <td>303.386</td>\n",
       "      <td>606.817</td>\n",
       "      <td>731.010</td>\n",
       "      <td>0.00</td>\n",
       "      <td>0.00</td>\n",
       "      <td>0.00</td>\n",
       "      <td>...</td>\n",
       "      <td>0</td>\n",
       "      <td>1.0</td>\n",
       "      <td>1.0</td>\n",
       "      <td>1.0</td>\n",
       "      <td>1.0</td>\n",
       "      <td>478</td>\n",
       "      <td>1445.74</td>\n",
       "      <td>1151.03</td>\n",
       "      <td>1173.18</td>\n",
       "      <td>0.00</td>\n",
       "    </tr>\n",
       "    <tr>\n",
       "      <th>99998</th>\n",
       "      <td>0.0</td>\n",
       "      <td>0.0</td>\n",
       "      <td>0.0</td>\n",
       "      <td>687.065</td>\n",
       "      <td>0.000</td>\n",
       "      <td>0.000</td>\n",
       "      <td>0.000</td>\n",
       "      <td>84.34</td>\n",
       "      <td>NaN</td>\n",
       "      <td>NaN</td>\n",
       "      <td>...</td>\n",
       "      <td>0</td>\n",
       "      <td>1.0</td>\n",
       "      <td>-1.0</td>\n",
       "      <td>-1.0</td>\n",
       "      <td>-1.0</td>\n",
       "      <td>751</td>\n",
       "      <td>0.00</td>\n",
       "      <td>0.00</td>\n",
       "      <td>0.00</td>\n",
       "      <td>0.00</td>\n",
       "    </tr>\n",
       "  </tbody>\n",
       "</table>\n",
       "<p>99999 rows × 196 columns</p>\n",
       "</div>"
      ],
      "text/plain": [
       "       loc_og_t2o_mou  std_og_t2o_mou  loc_ic_t2o_mou   arpu_6   arpu_7  \\\n",
       "0                 0.0             0.0             0.0  197.385  214.816   \n",
       "1                 0.0             0.0             0.0   34.047  355.074   \n",
       "2                 0.0             0.0             0.0  167.690  189.058   \n",
       "3                 0.0             0.0             0.0  221.338  251.102   \n",
       "4                 0.0             0.0             0.0  261.636  309.876   \n",
       "...               ...             ...             ...      ...      ...   \n",
       "99994             0.0             0.0             0.0   18.471   69.161   \n",
       "99995             0.0             0.0             0.0  112.201   77.811   \n",
       "99996             0.0             0.0             0.0  229.187    0.000   \n",
       "99997             0.0             0.0             0.0  322.991  303.386   \n",
       "99998             0.0             0.0             0.0  687.065    0.000   \n",
       "\n",
       "        arpu_8   arpu_9  onnet_mou_6  onnet_mou_7  onnet_mou_8  ...  \\\n",
       "0      213.803   21.100          NaN          NaN         0.00  ...   \n",
       "1      268.321   86.285        24.11        78.68         7.68  ...   \n",
       "2      210.226  290.714        11.54        55.24        37.26  ...   \n",
       "3      508.054  389.500        99.91        54.39       310.98  ...   \n",
       "4      238.174  163.426        50.31       149.44        83.89  ...   \n",
       "...        ...      ...          ...          ...          ...  ...   \n",
       "99994   57.530   29.950         5.40         3.36         5.91  ...   \n",
       "99995   79.081  140.835        29.26        18.13        16.06  ...   \n",
       "99996    0.000    0.000         1.11          NaN          NaN  ...   \n",
       "99997  606.817  731.010         0.00         0.00         0.00  ...   \n",
       "99998    0.000    0.000        84.34          NaN          NaN  ...   \n",
       "\n",
       "       sachet_3g_9  fb_user_6  fb_user_7  fb_user_8  fb_user_9   aon  \\\n",
       "0                0        1.0        1.0        1.0       -1.0   968   \n",
       "1                0       -1.0        1.0        1.0       -1.0  1006   \n",
       "2                0       -1.0       -1.0       -1.0        1.0  1103   \n",
       "3                0       -1.0       -1.0       -1.0       -1.0  2491   \n",
       "4                0        0.0       -1.0       -1.0       -1.0  1526   \n",
       "...            ...        ...        ...        ...        ...   ...   \n",
       "99994            0       -1.0       -1.0       -1.0       -1.0  3199   \n",
       "99995            0       -1.0       -1.0       -1.0       -1.0  2052   \n",
       "99996            0        1.0       -1.0       -1.0       -1.0   185   \n",
       "99997            0        1.0        1.0        1.0        1.0   478   \n",
       "99998            0        1.0       -1.0       -1.0       -1.0   751   \n",
       "\n",
       "       aug_vbc_3g  jul_vbc_3g  jun_vbc_3g  sep_vbc_3g  \n",
       "0           30.40        0.00      101.20        3.58  \n",
       "1            0.00        0.00        0.00        0.00  \n",
       "2            0.00        0.00        4.17        0.00  \n",
       "3            0.00        0.00        0.00        0.00  \n",
       "4            0.00        0.00        0.00        0.00  \n",
       "...           ...         ...         ...         ...  \n",
       "99994        0.00        0.00        0.00        0.00  \n",
       "99995        0.00        0.00        0.00        0.00  \n",
       "99996        0.00        0.00        0.00        0.00  \n",
       "99997     1445.74     1151.03     1173.18        0.00  \n",
       "99998        0.00        0.00        0.00        0.00  \n",
       "\n",
       "[99999 rows x 196 columns]"
      ]
     },
     "execution_count": 24,
     "metadata": {},
     "output_type": "execute_result"
    }
   ],
   "source": [
    "df"
   ]
  },
  {
   "cell_type": "code",
   "execution_count": 25,
   "metadata": {},
   "outputs": [],
   "source": [
    "# imputing mean in remaining null values\n",
    "df = df.fillna(df.mean())"
   ]
  },
  {
   "cell_type": "code",
   "execution_count": 26,
   "metadata": {},
   "outputs": [
    {
     "data": {
      "text/html": [
       "<div>\n",
       "<style scoped>\n",
       "    .dataframe tbody tr th:only-of-type {\n",
       "        vertical-align: middle;\n",
       "    }\n",
       "\n",
       "    .dataframe tbody tr th {\n",
       "        vertical-align: top;\n",
       "    }\n",
       "\n",
       "    .dataframe thead th {\n",
       "        text-align: right;\n",
       "    }\n",
       "</style>\n",
       "<table border=\"1\" class=\"dataframe\">\n",
       "  <thead>\n",
       "    <tr style=\"text-align: right;\">\n",
       "      <th></th>\n",
       "      <th>loc_og_t2o_mou</th>\n",
       "      <th>std_og_t2o_mou</th>\n",
       "      <th>loc_ic_t2o_mou</th>\n",
       "      <th>arpu_6</th>\n",
       "      <th>arpu_7</th>\n",
       "      <th>arpu_8</th>\n",
       "      <th>arpu_9</th>\n",
       "      <th>onnet_mou_6</th>\n",
       "      <th>onnet_mou_7</th>\n",
       "      <th>onnet_mou_8</th>\n",
       "      <th>...</th>\n",
       "      <th>sachet_3g_9</th>\n",
       "      <th>fb_user_6</th>\n",
       "      <th>fb_user_7</th>\n",
       "      <th>fb_user_8</th>\n",
       "      <th>fb_user_9</th>\n",
       "      <th>aon</th>\n",
       "      <th>aug_vbc_3g</th>\n",
       "      <th>jul_vbc_3g</th>\n",
       "      <th>jun_vbc_3g</th>\n",
       "      <th>sep_vbc_3g</th>\n",
       "    </tr>\n",
       "  </thead>\n",
       "  <tbody>\n",
       "    <tr>\n",
       "      <th>0</th>\n",
       "      <td>0.0</td>\n",
       "      <td>0.0</td>\n",
       "      <td>0.0</td>\n",
       "      <td>197.385</td>\n",
       "      <td>214.816</td>\n",
       "      <td>213.803</td>\n",
       "      <td>21.100</td>\n",
       "      <td>132.395875</td>\n",
       "      <td>133.670805</td>\n",
       "      <td>0.000000</td>\n",
       "      <td>...</td>\n",
       "      <td>0</td>\n",
       "      <td>1.0</td>\n",
       "      <td>1.0</td>\n",
       "      <td>1.0</td>\n",
       "      <td>-1.0</td>\n",
       "      <td>968</td>\n",
       "      <td>30.40</td>\n",
       "      <td>0.00</td>\n",
       "      <td>101.20</td>\n",
       "      <td>3.58</td>\n",
       "    </tr>\n",
       "    <tr>\n",
       "      <th>1</th>\n",
       "      <td>0.0</td>\n",
       "      <td>0.0</td>\n",
       "      <td>0.0</td>\n",
       "      <td>34.047</td>\n",
       "      <td>355.074</td>\n",
       "      <td>268.321</td>\n",
       "      <td>86.285</td>\n",
       "      <td>24.110000</td>\n",
       "      <td>78.680000</td>\n",
       "      <td>7.680000</td>\n",
       "      <td>...</td>\n",
       "      <td>0</td>\n",
       "      <td>-1.0</td>\n",
       "      <td>1.0</td>\n",
       "      <td>1.0</td>\n",
       "      <td>-1.0</td>\n",
       "      <td>1006</td>\n",
       "      <td>0.00</td>\n",
       "      <td>0.00</td>\n",
       "      <td>0.00</td>\n",
       "      <td>0.00</td>\n",
       "    </tr>\n",
       "    <tr>\n",
       "      <th>2</th>\n",
       "      <td>0.0</td>\n",
       "      <td>0.0</td>\n",
       "      <td>0.0</td>\n",
       "      <td>167.690</td>\n",
       "      <td>189.058</td>\n",
       "      <td>210.226</td>\n",
       "      <td>290.714</td>\n",
       "      <td>11.540000</td>\n",
       "      <td>55.240000</td>\n",
       "      <td>37.260000</td>\n",
       "      <td>...</td>\n",
       "      <td>0</td>\n",
       "      <td>-1.0</td>\n",
       "      <td>-1.0</td>\n",
       "      <td>-1.0</td>\n",
       "      <td>1.0</td>\n",
       "      <td>1103</td>\n",
       "      <td>0.00</td>\n",
       "      <td>0.00</td>\n",
       "      <td>4.17</td>\n",
       "      <td>0.00</td>\n",
       "    </tr>\n",
       "    <tr>\n",
       "      <th>3</th>\n",
       "      <td>0.0</td>\n",
       "      <td>0.0</td>\n",
       "      <td>0.0</td>\n",
       "      <td>221.338</td>\n",
       "      <td>251.102</td>\n",
       "      <td>508.054</td>\n",
       "      <td>389.500</td>\n",
       "      <td>99.910000</td>\n",
       "      <td>54.390000</td>\n",
       "      <td>310.980000</td>\n",
       "      <td>...</td>\n",
       "      <td>0</td>\n",
       "      <td>-1.0</td>\n",
       "      <td>-1.0</td>\n",
       "      <td>-1.0</td>\n",
       "      <td>-1.0</td>\n",
       "      <td>2491</td>\n",
       "      <td>0.00</td>\n",
       "      <td>0.00</td>\n",
       "      <td>0.00</td>\n",
       "      <td>0.00</td>\n",
       "    </tr>\n",
       "    <tr>\n",
       "      <th>4</th>\n",
       "      <td>0.0</td>\n",
       "      <td>0.0</td>\n",
       "      <td>0.0</td>\n",
       "      <td>261.636</td>\n",
       "      <td>309.876</td>\n",
       "      <td>238.174</td>\n",
       "      <td>163.426</td>\n",
       "      <td>50.310000</td>\n",
       "      <td>149.440000</td>\n",
       "      <td>83.890000</td>\n",
       "      <td>...</td>\n",
       "      <td>0</td>\n",
       "      <td>0.0</td>\n",
       "      <td>-1.0</td>\n",
       "      <td>-1.0</td>\n",
       "      <td>-1.0</td>\n",
       "      <td>1526</td>\n",
       "      <td>0.00</td>\n",
       "      <td>0.00</td>\n",
       "      <td>0.00</td>\n",
       "      <td>0.00</td>\n",
       "    </tr>\n",
       "    <tr>\n",
       "      <th>...</th>\n",
       "      <td>...</td>\n",
       "      <td>...</td>\n",
       "      <td>...</td>\n",
       "      <td>...</td>\n",
       "      <td>...</td>\n",
       "      <td>...</td>\n",
       "      <td>...</td>\n",
       "      <td>...</td>\n",
       "      <td>...</td>\n",
       "      <td>...</td>\n",
       "      <td>...</td>\n",
       "      <td>...</td>\n",
       "      <td>...</td>\n",
       "      <td>...</td>\n",
       "      <td>...</td>\n",
       "      <td>...</td>\n",
       "      <td>...</td>\n",
       "      <td>...</td>\n",
       "      <td>...</td>\n",
       "      <td>...</td>\n",
       "      <td>...</td>\n",
       "    </tr>\n",
       "    <tr>\n",
       "      <th>99994</th>\n",
       "      <td>0.0</td>\n",
       "      <td>0.0</td>\n",
       "      <td>0.0</td>\n",
       "      <td>18.471</td>\n",
       "      <td>69.161</td>\n",
       "      <td>57.530</td>\n",
       "      <td>29.950</td>\n",
       "      <td>5.400000</td>\n",
       "      <td>3.360000</td>\n",
       "      <td>5.910000</td>\n",
       "      <td>...</td>\n",
       "      <td>0</td>\n",
       "      <td>-1.0</td>\n",
       "      <td>-1.0</td>\n",
       "      <td>-1.0</td>\n",
       "      <td>-1.0</td>\n",
       "      <td>3199</td>\n",
       "      <td>0.00</td>\n",
       "      <td>0.00</td>\n",
       "      <td>0.00</td>\n",
       "      <td>0.00</td>\n",
       "    </tr>\n",
       "    <tr>\n",
       "      <th>99995</th>\n",
       "      <td>0.0</td>\n",
       "      <td>0.0</td>\n",
       "      <td>0.0</td>\n",
       "      <td>112.201</td>\n",
       "      <td>77.811</td>\n",
       "      <td>79.081</td>\n",
       "      <td>140.835</td>\n",
       "      <td>29.260000</td>\n",
       "      <td>18.130000</td>\n",
       "      <td>16.060000</td>\n",
       "      <td>...</td>\n",
       "      <td>0</td>\n",
       "      <td>-1.0</td>\n",
       "      <td>-1.0</td>\n",
       "      <td>-1.0</td>\n",
       "      <td>-1.0</td>\n",
       "      <td>2052</td>\n",
       "      <td>0.00</td>\n",
       "      <td>0.00</td>\n",
       "      <td>0.00</td>\n",
       "      <td>0.00</td>\n",
       "    </tr>\n",
       "    <tr>\n",
       "      <th>99996</th>\n",
       "      <td>0.0</td>\n",
       "      <td>0.0</td>\n",
       "      <td>0.0</td>\n",
       "      <td>229.187</td>\n",
       "      <td>0.000</td>\n",
       "      <td>0.000</td>\n",
       "      <td>0.000</td>\n",
       "      <td>1.110000</td>\n",
       "      <td>133.670805</td>\n",
       "      <td>133.018098</td>\n",
       "      <td>...</td>\n",
       "      <td>0</td>\n",
       "      <td>1.0</td>\n",
       "      <td>-1.0</td>\n",
       "      <td>-1.0</td>\n",
       "      <td>-1.0</td>\n",
       "      <td>185</td>\n",
       "      <td>0.00</td>\n",
       "      <td>0.00</td>\n",
       "      <td>0.00</td>\n",
       "      <td>0.00</td>\n",
       "    </tr>\n",
       "    <tr>\n",
       "      <th>99997</th>\n",
       "      <td>0.0</td>\n",
       "      <td>0.0</td>\n",
       "      <td>0.0</td>\n",
       "      <td>322.991</td>\n",
       "      <td>303.386</td>\n",
       "      <td>606.817</td>\n",
       "      <td>731.010</td>\n",
       "      <td>0.000000</td>\n",
       "      <td>0.000000</td>\n",
       "      <td>0.000000</td>\n",
       "      <td>...</td>\n",
       "      <td>0</td>\n",
       "      <td>1.0</td>\n",
       "      <td>1.0</td>\n",
       "      <td>1.0</td>\n",
       "      <td>1.0</td>\n",
       "      <td>478</td>\n",
       "      <td>1445.74</td>\n",
       "      <td>1151.03</td>\n",
       "      <td>1173.18</td>\n",
       "      <td>0.00</td>\n",
       "    </tr>\n",
       "    <tr>\n",
       "      <th>99998</th>\n",
       "      <td>0.0</td>\n",
       "      <td>0.0</td>\n",
       "      <td>0.0</td>\n",
       "      <td>687.065</td>\n",
       "      <td>0.000</td>\n",
       "      <td>0.000</td>\n",
       "      <td>0.000</td>\n",
       "      <td>84.340000</td>\n",
       "      <td>133.670805</td>\n",
       "      <td>133.018098</td>\n",
       "      <td>...</td>\n",
       "      <td>0</td>\n",
       "      <td>1.0</td>\n",
       "      <td>-1.0</td>\n",
       "      <td>-1.0</td>\n",
       "      <td>-1.0</td>\n",
       "      <td>751</td>\n",
       "      <td>0.00</td>\n",
       "      <td>0.00</td>\n",
       "      <td>0.00</td>\n",
       "      <td>0.00</td>\n",
       "    </tr>\n",
       "  </tbody>\n",
       "</table>\n",
       "<p>99999 rows × 196 columns</p>\n",
       "</div>"
      ],
      "text/plain": [
       "       loc_og_t2o_mou  std_og_t2o_mou  loc_ic_t2o_mou   arpu_6   arpu_7  \\\n",
       "0                 0.0             0.0             0.0  197.385  214.816   \n",
       "1                 0.0             0.0             0.0   34.047  355.074   \n",
       "2                 0.0             0.0             0.0  167.690  189.058   \n",
       "3                 0.0             0.0             0.0  221.338  251.102   \n",
       "4                 0.0             0.0             0.0  261.636  309.876   \n",
       "...               ...             ...             ...      ...      ...   \n",
       "99994             0.0             0.0             0.0   18.471   69.161   \n",
       "99995             0.0             0.0             0.0  112.201   77.811   \n",
       "99996             0.0             0.0             0.0  229.187    0.000   \n",
       "99997             0.0             0.0             0.0  322.991  303.386   \n",
       "99998             0.0             0.0             0.0  687.065    0.000   \n",
       "\n",
       "        arpu_8   arpu_9  onnet_mou_6  onnet_mou_7  onnet_mou_8  ...  \\\n",
       "0      213.803   21.100   132.395875   133.670805     0.000000  ...   \n",
       "1      268.321   86.285    24.110000    78.680000     7.680000  ...   \n",
       "2      210.226  290.714    11.540000    55.240000    37.260000  ...   \n",
       "3      508.054  389.500    99.910000    54.390000   310.980000  ...   \n",
       "4      238.174  163.426    50.310000   149.440000    83.890000  ...   \n",
       "...        ...      ...          ...          ...          ...  ...   \n",
       "99994   57.530   29.950     5.400000     3.360000     5.910000  ...   \n",
       "99995   79.081  140.835    29.260000    18.130000    16.060000  ...   \n",
       "99996    0.000    0.000     1.110000   133.670805   133.018098  ...   \n",
       "99997  606.817  731.010     0.000000     0.000000     0.000000  ...   \n",
       "99998    0.000    0.000    84.340000   133.670805   133.018098  ...   \n",
       "\n",
       "       sachet_3g_9  fb_user_6  fb_user_7  fb_user_8  fb_user_9   aon  \\\n",
       "0                0        1.0        1.0        1.0       -1.0   968   \n",
       "1                0       -1.0        1.0        1.0       -1.0  1006   \n",
       "2                0       -1.0       -1.0       -1.0        1.0  1103   \n",
       "3                0       -1.0       -1.0       -1.0       -1.0  2491   \n",
       "4                0        0.0       -1.0       -1.0       -1.0  1526   \n",
       "...            ...        ...        ...        ...        ...   ...   \n",
       "99994            0       -1.0       -1.0       -1.0       -1.0  3199   \n",
       "99995            0       -1.0       -1.0       -1.0       -1.0  2052   \n",
       "99996            0        1.0       -1.0       -1.0       -1.0   185   \n",
       "99997            0        1.0        1.0        1.0        1.0   478   \n",
       "99998            0        1.0       -1.0       -1.0       -1.0   751   \n",
       "\n",
       "       aug_vbc_3g  jul_vbc_3g  jun_vbc_3g  sep_vbc_3g  \n",
       "0           30.40        0.00      101.20        3.58  \n",
       "1            0.00        0.00        0.00        0.00  \n",
       "2            0.00        0.00        4.17        0.00  \n",
       "3            0.00        0.00        0.00        0.00  \n",
       "4            0.00        0.00        0.00        0.00  \n",
       "...           ...         ...         ...         ...  \n",
       "99994        0.00        0.00        0.00        0.00  \n",
       "99995        0.00        0.00        0.00        0.00  \n",
       "99996        0.00        0.00        0.00        0.00  \n",
       "99997     1445.74     1151.03     1173.18        0.00  \n",
       "99998        0.00        0.00        0.00        0.00  \n",
       "\n",
       "[99999 rows x 196 columns]"
      ]
     },
     "execution_count": 26,
     "metadata": {},
     "output_type": "execute_result"
    }
   ],
   "source": [
    "df"
   ]
  },
  {
   "cell_type": "code",
   "execution_count": 27,
   "metadata": {},
   "outputs": [
    {
     "data": {
      "text/plain": [
       "sep_vbc_3g        0.0\n",
       "og_others_7       0.0\n",
       "spl_og_mou_9      0.0\n",
       "spl_og_mou_8      0.0\n",
       "spl_og_mou_7      0.0\n",
       "                 ... \n",
       "ic_others_7       0.0\n",
       "ic_others_6       0.0\n",
       "isd_ic_mou_9      0.0\n",
       "isd_ic_mou_8      0.0\n",
       "loc_og_t2o_mou    0.0\n",
       "Length: 196, dtype: float64"
      ]
     },
     "execution_count": 27,
     "metadata": {},
     "output_type": "execute_result"
    }
   ],
   "source": [
    "# checking null values\n",
    "null_percen=df.isnull().sum()/len(df)*100\n",
    "null_percen.sort_values(ascending=False)"
   ]
  },
  {
   "cell_type": "markdown",
   "metadata": {},
   "source": [
    "## Filtering High Value Customer"
   ]
  },
  {
   "cell_type": "code",
   "execution_count": 28,
   "metadata": {},
   "outputs": [],
   "source": [
    "# calculating average recharge done by customer in June and July\n",
    "df['avg_rech_amt_6_7'] = (df['total_rech_amt_6'] + df['total_rech_amt_7'])/2"
   ]
  },
  {
   "cell_type": "code",
   "execution_count": 29,
   "metadata": {},
   "outputs": [
    {
     "name": "stdout",
     "output_type": "stream",
     "text": [
      "Recharge Amount 70th percetile: 368.5.\n"
     ]
    }
   ],
   "source": [
    "# look at the 70th percentile recharge amount\n",
    "print('Recharge Amount 70th percetile: {0}.'.format(df.avg_rech_amt_6_7.quantile(0.7)))"
   ]
  },
  {
   "cell_type": "code",
   "execution_count": 30,
   "metadata": {},
   "outputs": [],
   "source": [
    "# retain only those customers who have recharged their mobiles with more than or equal to 70th percentile amount\n",
    "df_filter = df.loc[df.avg_rech_amt_6_7 >= 368.5]"
   ]
  },
  {
   "cell_type": "code",
   "execution_count": 31,
   "metadata": {},
   "outputs": [
    {
     "data": {
      "text/plain": [
       "(30011, 197)"
      ]
     },
     "execution_count": 31,
     "metadata": {},
     "output_type": "execute_result"
    }
   ],
   "source": [
    "df_filter = df_filter.reset_index(drop=True)\n",
    "df_filter.shape"
   ]
  },
  {
   "cell_type": "markdown",
   "metadata": {},
   "source": [
    "### Derive Churn"
   ]
  },
  {
   "cell_type": "code",
   "execution_count": 32,
   "metadata": {},
   "outputs": [],
   "source": [
    "# calculate total incoming and outgoing minutes of usage\n",
    "\n",
    "df_filter['total_calls_9'] = df_filter.total_ic_mou_9 + df_filter.total_og_mou_9"
   ]
  },
  {
   "cell_type": "code",
   "execution_count": 33,
   "metadata": {},
   "outputs": [],
   "source": [
    "# calculate 2g and 3g data consumption\n",
    "\n",
    "df_filter['total_internet_9'] =  df_filter.vol_2g_mb_9 + df_filter.vol_3g_mb_9"
   ]
  },
  {
   "cell_type": "code",
   "execution_count": 34,
   "metadata": {},
   "outputs": [],
   "source": [
    "# create churn variable: those who have not used either calls or internet in the month of September are customers who have churned\n",
    "\n",
    "# 0 - not churn, 1 - churn\n",
    "\n",
    "df_filter['churn'] = df_filter.apply(lambda row: 1 if (row.total_calls_9 == 0 and row.total_internet_9 == 0) else 0, axis=1)"
   ]
  },
  {
   "cell_type": "code",
   "execution_count": 35,
   "metadata": {},
   "outputs": [],
   "source": [
    "# delete derived variables\n",
    "df_filter = df_filter.drop(['total_calls_9', 'total_internet_9'], axis=1)"
   ]
  },
  {
   "cell_type": "code",
   "execution_count": 36,
   "metadata": {},
   "outputs": [
    {
     "name": "stdout",
     "output_type": "stream",
     "text": [
      "Churn Percentage:\n",
      "0    91.359835\n",
      "1     8.640165\n",
      "Name: churn, dtype: float64\n"
     ]
    }
   ],
   "source": [
    "# print churn ratio# change data type to category\n",
    "\n",
    "df_filter.churn = df_filter.churn.astype(\"category\")\n",
    "\n",
    "# print churn ratio\n",
    "\n",
    "print(\"Churn Percentage:\")\n",
    "print(df_filter.churn.value_counts()*100/df_filter.shape[0])"
   ]
  },
  {
   "cell_type": "code",
   "execution_count": 37,
   "metadata": {},
   "outputs": [
    {
     "data": {
      "text/plain": [
       "(30011, 151)"
      ]
     },
     "execution_count": 37,
     "metadata": {},
     "output_type": "execute_result"
    }
   ],
   "source": [
    "# delete all variables relating to 9th month\n",
    "df_filter=df_filter.filter(regex='[^9]$' ,axis=1)\n",
    "df_filter.shape"
   ]
  },
  {
   "cell_type": "code",
   "execution_count": 38,
   "metadata": {},
   "outputs": [
    {
     "name": "stdout",
     "output_type": "stream",
     "text": [
      "loc_og_t2o_mou\n",
      "std_og_t2o_mou\n",
      "loc_ic_t2o_mou\n",
      "arpu_6\n",
      "arpu_7\n",
      "arpu_8\n",
      "onnet_mou_6\n",
      "onnet_mou_7\n",
      "onnet_mou_8\n",
      "offnet_mou_6\n",
      "offnet_mou_7\n",
      "offnet_mou_8\n",
      "roam_ic_mou_6\n",
      "roam_ic_mou_7\n",
      "roam_ic_mou_8\n",
      "roam_og_mou_6\n",
      "roam_og_mou_7\n",
      "roam_og_mou_8\n",
      "loc_og_t2t_mou_6\n",
      "loc_og_t2t_mou_7\n",
      "loc_og_t2t_mou_8\n",
      "loc_og_t2m_mou_6\n",
      "loc_og_t2m_mou_7\n",
      "loc_og_t2m_mou_8\n",
      "loc_og_t2f_mou_6\n",
      "loc_og_t2f_mou_7\n",
      "loc_og_t2f_mou_8\n",
      "loc_og_t2c_mou_6\n",
      "loc_og_t2c_mou_7\n",
      "loc_og_t2c_mou_8\n",
      "loc_og_mou_6\n",
      "loc_og_mou_7\n",
      "loc_og_mou_8\n",
      "std_og_t2t_mou_6\n",
      "std_og_t2t_mou_7\n",
      "std_og_t2t_mou_8\n",
      "std_og_t2m_mou_6\n",
      "std_og_t2m_mou_7\n",
      "std_og_t2m_mou_8\n",
      "std_og_t2f_mou_6\n",
      "std_og_t2f_mou_7\n",
      "std_og_t2f_mou_8\n",
      "std_og_t2c_mou_6\n",
      "std_og_t2c_mou_7\n",
      "std_og_t2c_mou_8\n",
      "std_og_mou_6\n",
      "std_og_mou_7\n",
      "std_og_mou_8\n",
      "isd_og_mou_6\n",
      "isd_og_mou_7\n",
      "isd_og_mou_8\n",
      "spl_og_mou_6\n",
      "spl_og_mou_7\n",
      "spl_og_mou_8\n",
      "og_others_6\n",
      "og_others_7\n",
      "og_others_8\n",
      "total_og_mou_6\n",
      "total_og_mou_7\n",
      "total_og_mou_8\n",
      "loc_ic_t2t_mou_6\n",
      "loc_ic_t2t_mou_7\n",
      "loc_ic_t2t_mou_8\n",
      "loc_ic_t2m_mou_6\n",
      "loc_ic_t2m_mou_7\n",
      "loc_ic_t2m_mou_8\n",
      "loc_ic_t2f_mou_6\n",
      "loc_ic_t2f_mou_7\n",
      "loc_ic_t2f_mou_8\n",
      "loc_ic_mou_6\n",
      "loc_ic_mou_7\n",
      "loc_ic_mou_8\n",
      "std_ic_t2t_mou_6\n",
      "std_ic_t2t_mou_7\n",
      "std_ic_t2t_mou_8\n",
      "std_ic_t2m_mou_6\n",
      "std_ic_t2m_mou_7\n",
      "std_ic_t2m_mou_8\n",
      "std_ic_t2f_mou_6\n",
      "std_ic_t2f_mou_7\n",
      "std_ic_t2f_mou_8\n",
      "std_ic_t2o_mou_6\n",
      "std_ic_t2o_mou_7\n",
      "std_ic_t2o_mou_8\n",
      "std_ic_mou_6\n",
      "std_ic_mou_7\n",
      "std_ic_mou_8\n",
      "total_ic_mou_6\n",
      "total_ic_mou_7\n",
      "total_ic_mou_8\n",
      "spl_ic_mou_6\n",
      "spl_ic_mou_7\n",
      "spl_ic_mou_8\n",
      "isd_ic_mou_6\n",
      "isd_ic_mou_7\n",
      "isd_ic_mou_8\n",
      "ic_others_6\n",
      "ic_others_7\n",
      "ic_others_8\n",
      "total_rech_num_6\n",
      "total_rech_num_7\n",
      "total_rech_num_8\n",
      "total_rech_amt_6\n",
      "total_rech_amt_7\n",
      "total_rech_amt_8\n",
      "max_rech_amt_6\n",
      "max_rech_amt_7\n",
      "max_rech_amt_8\n",
      "last_day_rch_amt_6\n",
      "last_day_rch_amt_7\n",
      "last_day_rch_amt_8\n",
      "total_rech_data_6\n",
      "total_rech_data_7\n",
      "total_rech_data_8\n",
      "max_rech_data_6\n",
      "max_rech_data_7\n",
      "max_rech_data_8\n",
      "av_rech_amt_data_6\n",
      "av_rech_amt_data_7\n",
      "av_rech_amt_data_8\n",
      "vol_2g_mb_6\n",
      "vol_2g_mb_7\n",
      "vol_2g_mb_8\n",
      "vol_3g_mb_6\n",
      "vol_3g_mb_7\n",
      "vol_3g_mb_8\n",
      "night_pck_user_6\n",
      "night_pck_user_7\n",
      "night_pck_user_8\n",
      "monthly_2g_6\n",
      "monthly_2g_7\n",
      "monthly_2g_8\n",
      "sachet_2g_6\n",
      "sachet_2g_7\n",
      "sachet_2g_8\n",
      "monthly_3g_6\n",
      "monthly_3g_7\n",
      "monthly_3g_8\n",
      "sachet_3g_6\n",
      "sachet_3g_7\n",
      "sachet_3g_8\n",
      "fb_user_6\n",
      "fb_user_7\n",
      "fb_user_8\n",
      "aon\n",
      "aug_vbc_3g\n",
      "jul_vbc_3g\n",
      "jun_vbc_3g\n",
      "sep_vbc_3g\n",
      "avg_rech_amt_6_7\n",
      "churn\n"
     ]
    }
   ],
   "source": [
    "for column in df_filter.columns:\n",
    "    print(column)"
   ]
  },
  {
   "cell_type": "markdown",
   "metadata": {},
   "source": [
    "##  Derived variable"
   ]
  },
  {
   "cell_type": "code",
   "execution_count": 39,
   "metadata": {},
   "outputs": [],
   "source": [
    "# Getting the difference in the Minutes of usage - voice calls in action phase compared to good phase\n",
    "df_filter['total_og_mou_diff']=df_filter['total_og_mou_8']-((df_filter['total_og_mou_6']+df_filter['total_og_mou_7'])/2)"
   ]
  },
  {
   "cell_type": "code",
   "execution_count": 40,
   "metadata": {},
   "outputs": [],
   "source": [
    "# mulitplying number of recharges with average recharge amount\n",
    "\n",
    "df_filter['data_recharge_6'] = df_filter.total_rech_data_6 * df_filter.av_rech_amt_data_6\n",
    "df_filter['data_recharge_7'] = df_filter.total_rech_data_7 * df_filter.av_rech_amt_data_7\n",
    "df_filter['data_recharge_8'] = df_filter.total_rech_data_8 * df_filter.av_rech_amt_data_8"
   ]
  },
  {
   "cell_type": "code",
   "execution_count": 41,
   "metadata": {},
   "outputs": [],
   "source": [
    "#Getting the difference in the amount of recharge for data done in action phase compared to good phase\n",
    "df_filter['data_recharge_diff']=df_filter['data_recharge_8']-((df_filter['data_recharge_6']+df_filter['data_recharge_7'])/2)"
   ]
  },
  {
   "cell_type": "code",
   "execution_count": 42,
   "metadata": {},
   "outputs": [],
   "source": [
    "#Getting the difference in the 2g and 3fg data usage in action phase compared to good phase\n",
    "df_filter['vol_2g_mb_diff'] = df_filter.vol_2g_mb_8 - ((df_filter.vol_2g_mb_6 + df_filter.vol_2g_mb_7)/2)\n",
    "\n",
    "df_filter['vol_3g_mb_diff'] = df_filter.vol_3g_mb_8 - ((df_filter.vol_3g_mb_6 + df_filter.vol_3g_mb_7)/2)"
   ]
  },
  {
   "cell_type": "code",
   "execution_count": 43,
   "metadata": {},
   "outputs": [],
   "source": [
    "#Getting the difference in max recharge of data in action phase compared to good phase\n",
    "df_filter['max_rech_data_diff'] = df_filter.max_rech_data_8 - ((df_filter.max_rech_data_6 + df_filter.max_rech_data_7)/2)"
   ]
  },
  {
   "cell_type": "code",
   "execution_count": 44,
   "metadata": {},
   "outputs": [],
   "source": [
    "#Getting the difference in Average revenue per user in action phase compared to good phase\n",
    "df_filter['arpu_diff'] = df_filter.arpu_8 - ((df_filter.arpu_6 + df_filter.arpu_7)/2)"
   ]
  },
  {
   "cell_type": "markdown",
   "metadata": {},
   "source": [
    "## EDA"
   ]
  },
  {
   "cell_type": "code",
   "execution_count": 45,
   "metadata": {},
   "outputs": [],
   "source": [
    "# importing packages\n",
    "import seaborn as sns\n",
    "import matplotlib.pyplot as plt"
   ]
  },
  {
   "cell_type": "code",
   "execution_count": 46,
   "metadata": {},
   "outputs": [
    {
     "data": {
      "text/plain": [
       "<matplotlib.axes._subplots.AxesSubplot at 0x1df5685aa00>"
      ]
     },
     "execution_count": 46,
     "metadata": {},
     "output_type": "execute_result"
    },
    {
     "data": {
      "image/png": "[encoded data removed]",
      "text/plain": [
       "<Figure size 1440x504 with 1 Axes>"
      ]
     },
     "metadata": {
      "needs_background": "light"
     },
     "output_type": "display_data"
    }
   ],
   "source": [
    "#Distribution graph\n",
    "\n",
    "fig = plt.figure(figsize=[20,7])\n",
    "plt.axvline(x=368.5,color='red')\n",
    "sns.distplot(df_filter['avg_rech_amt_6_7'])"
   ]
  },
  {
   "cell_type": "code",
   "execution_count": 47,
   "metadata": {},
   "outputs": [],
   "source": [
    "df_1 = df_filter.copy()"
   ]
  },
  {
   "cell_type": "code",
   "execution_count": 48,
   "metadata": {},
   "outputs": [
    {
     "data": {
      "text/plain": [
       "<matplotlib.axes._subplots.AxesSubplot at 0x1df58df22e0>"
      ]
     },
     "execution_count": 48,
     "metadata": {},
     "output_type": "execute_result"
    },
    {
     "data": {
      "image/png": "[encoded data removed]",
      "text/plain": [
       "<Figure size 576x1080 with 3 Axes>"
      ]
     },
     "metadata": {
      "needs_background": "light"
     },
     "output_type": "display_data"
    }
   ],
   "source": [
    "# Total incoming minutes of usage\n",
    "\n",
    "plt.figure(figsize=(8,15))\n",
    "plt.subplot(3,1,1)\n",
    "sns.boxplot(x='churn',y='total_ic_mou_6',data=df_1)\n",
    "plt.subplot(3,1,2)\n",
    "sns.boxplot(x='churn',y='total_ic_mou_7',data=df_1)\n",
    "plt.subplot(3,1,3)\n",
    "sns.boxplot(x='churn',y='total_ic_mou_8',data=df_1)"
   ]
  },
  {
   "cell_type": "code",
   "execution_count": 49,
   "metadata": {},
   "outputs": [
    {
     "data": {
      "text/plain": [
       "<matplotlib.axes._subplots.AxesSubplot at 0x1df5d0919d0>"
      ]
     },
     "execution_count": 49,
     "metadata": {},
     "output_type": "execute_result"
    },
    {
     "data": {
      "image/png": "[encoded data removed]",
      "text/plain": [
       "<Figure size 576x1080 with 3 Axes>"
      ]
     },
     "metadata": {
      "needs_background": "light"
     },
     "output_type": "display_data"
    }
   ],
   "source": [
    "# Total outgoing minutes of usage\n",
    "plt.figure(figsize=(8,15))\n",
    "plt.subplot(3,1,1)\n",
    "sns.boxplot(x='churn',y='total_og_mou_6',data=df_1)\n",
    "plt.subplot(3,1,2)\n",
    "sns.boxplot(x='churn',y='total_og_mou_7',data=df_1)\n",
    "plt.subplot(3,1,3)\n",
    "sns.boxplot(x='churn',y='total_og_mou_8',data=df_1)"
   ]
  },
  {
   "cell_type": "code",
   "execution_count": 50,
   "metadata": {},
   "outputs": [
    {
     "data": {
      "text/plain": [
       "<matplotlib.axes._subplots.AxesSubplot at 0x1df5d157700>"
      ]
     },
     "execution_count": 50,
     "metadata": {},
     "output_type": "execute_result"
    },
    {
     "data": {
      "image/png": "[encoded data removed]",
      "text/plain": [
       "<Figure size 432x288 with 1 Axes>"
      ]
     },
     "metadata": {
      "needs_background": "light"
     },
     "output_type": "display_data"
    }
   ],
   "source": [
    "# Age on network\n",
    "sns.boxplot(x='churn', y='aon', data=df_1)"
   ]
  },
  {
   "cell_type": "code",
   "execution_count": 51,
   "metadata": {},
   "outputs": [
    {
     "data": {
      "text/plain": [
       "1.0     9356\n",
       "2.0     5552\n",
       "3.0     3814\n",
       "4.0     2414\n",
       "7.0     1970\n",
       "8.0     1698\n",
       "5.0     1632\n",
       "6.0     1581\n",
       "9.0     1068\n",
       "10.0     797\n",
       "0.0       89\n",
       "11.0      37\n",
       "12.0       3\n",
       "Name: aon, dtype: int64"
      ]
     },
     "execution_count": 51,
     "metadata": {},
     "output_type": "execute_result"
    }
   ],
   "source": [
    "#Making buckets for aon variable\n",
    "buckets = df_1.aon/365\n",
    "buckets = round(buckets,0)\n",
    "buckets.value_counts()"
   ]
  },
  {
   "cell_type": "code",
   "execution_count": 52,
   "metadata": {},
   "outputs": [
    {
     "data": {
      "text/plain": [
       "<matplotlib.axes._subplots.AxesSubplot at 0x1df5d1bd6a0>"
      ]
     },
     "execution_count": 52,
     "metadata": {},
     "output_type": "execute_result"
    },
    {
     "data": {
      "image/png": "[encoded data removed]",
      "text/plain": [
       "<Figure size 432x288 with 1 Axes>"
      ]
     },
     "metadata": {
      "needs_background": "light"
     },
     "output_type": "display_data"
    }
   ],
   "source": [
    "sns.countplot(buckets)"
   ]
  },
  {
   "cell_type": "markdown",
   "metadata": {},
   "source": [
    "More number of customers have 1 year as the age on the network"
   ]
  },
  {
   "cell_type": "code",
   "execution_count": 53,
   "metadata": {},
   "outputs": [
    {
     "data": {
      "text/plain": [
       "<matplotlib.axes._subplots.AxesSubplot at 0x1df58e9c580>"
      ]
     },
     "execution_count": 53,
     "metadata": {},
     "output_type": "execute_result"
    },
    {
     "data": {
      "image/png": "[encoded data removed]",
      "text/plain": [
       "<Figure size 576x1080 with 3 Axes>"
      ]
     },
     "metadata": {
      "needs_background": "light"
     },
     "output_type": "display_data"
    }
   ],
   "source": [
    "# Data recharge\n",
    "plt.figure(figsize=(8,15))\n",
    "plt.subplot(3,1,1)\n",
    "sns.boxplot(x='churn',y='data_recharge_6',data=df_1)\n",
    "plt.subplot(3,1,2)\n",
    "sns.boxplot(x='churn',y='data_recharge_7',data=df_1)\n",
    "plt.subplot(3,1,3)\n",
    "sns.boxplot(x='churn',y='data_recharge_8',data=df_1)"
   ]
  },
  {
   "cell_type": "code",
   "execution_count": 54,
   "metadata": {},
   "outputs": [
    {
     "data": {
      "text/plain": [
       "churn\n",
       "0    299.013227\n",
       "1    215.350945\n",
       "Name: data_recharge_6, dtype: float64"
      ]
     },
     "execution_count": 54,
     "metadata": {},
     "output_type": "execute_result"
    }
   ],
   "source": [
    "df_1.groupby('churn')['data_recharge_6'].mean()"
   ]
  },
  {
   "cell_type": "code",
   "execution_count": 55,
   "metadata": {},
   "outputs": [
    {
     "data": {
      "text/plain": [
       "churn\n",
       "0    352.346797\n",
       "1    210.901978\n",
       "Name: data_recharge_7, dtype: float64"
      ]
     },
     "execution_count": 55,
     "metadata": {},
     "output_type": "execute_result"
    }
   ],
   "source": [
    "df_1.groupby('churn')['data_recharge_7'].mean()"
   ]
  },
  {
   "cell_type": "code",
   "execution_count": 56,
   "metadata": {},
   "outputs": [
    {
     "data": {
      "text/plain": [
       "churn\n",
       "0    337.944593\n",
       "1     53.999445\n",
       "Name: data_recharge_8, dtype: float64"
      ]
     },
     "execution_count": 56,
     "metadata": {},
     "output_type": "execute_result"
    }
   ],
   "source": [
    "df_1.groupby('churn')['data_recharge_8'].mean()"
   ]
  },
  {
   "cell_type": "markdown",
   "metadata": {},
   "source": [
    "The data recharge is decreasing gradually for churn customers"
   ]
  },
  {
   "cell_type": "code",
   "execution_count": 57,
   "metadata": {},
   "outputs": [
    {
     "data": {
      "text/plain": [
       "churn\n",
       "0    686.861113\n",
       "1    808.441188\n",
       "Name: total_rech_amt_6, dtype: float64"
      ]
     },
     "execution_count": 57,
     "metadata": {},
     "output_type": "execute_result"
    }
   ],
   "source": [
    "df_1.groupby('churn')['total_rech_amt_6'].mean()"
   ]
  },
  {
   "cell_type": "code",
   "execution_count": 58,
   "metadata": {},
   "outputs": [
    {
     "data": {
      "text/plain": [
       "churn\n",
       "0    701.449705\n",
       "1    637.946008\n",
       "Name: total_rech_amt_7, dtype: float64"
      ]
     },
     "execution_count": 58,
     "metadata": {},
     "output_type": "execute_result"
    }
   ],
   "source": [
    "df_1.groupby('churn')['total_rech_amt_7'].mean()"
   ]
  },
  {
   "cell_type": "code",
   "execution_count": 59,
   "metadata": {},
   "outputs": [
    {
     "data": {
      "text/plain": [
       "churn\n",
       "0    647.192501\n",
       "1    258.846895\n",
       "Name: total_rech_amt_8, dtype: float64"
      ]
     },
     "execution_count": 59,
     "metadata": {},
     "output_type": "execute_result"
    }
   ],
   "source": [
    "df_1.groupby('churn')['total_rech_amt_8'].mean()"
   ]
  },
  {
   "cell_type": "markdown",
   "metadata": {},
   "source": [
    "Same behaviour with total recharge amount"
   ]
  },
  {
   "cell_type": "code",
   "execution_count": 60,
   "metadata": {},
   "outputs": [
    {
     "data": {
      "text/plain": [
       "<matplotlib.axes._subplots.AxesSubplot at 0x1df56a857c0>"
      ]
     },
     "execution_count": 60,
     "metadata": {},
     "output_type": "execute_result"
    },
    {
     "data": {
      "image/png": "[encoded data removed]",
      "text/plain": [
       "<Figure size 432x288 with 1 Axes>"
      ]
     },
     "metadata": {
      "needs_background": "light"
     },
     "output_type": "display_data"
    }
   ],
   "source": [
    "sns.boxplot(x='churn', y='total_og_mou_diff', data=df_1)"
   ]
  },
  {
   "cell_type": "markdown",
   "metadata": {},
   "source": [
    "1) Those who churned, tend to spend lesser amount for recharge during action phase\n",
    "\n",
    "2) Difference is negative suggesting amount is lower in action phase"
   ]
  },
  {
   "cell_type": "code",
   "execution_count": 61,
   "metadata": {},
   "outputs": [
    {
     "data": {
      "text/plain": [
       "<matplotlib.axes._subplots.AxesSubplot at 0x1df5d4b27f0>"
      ]
     },
     "execution_count": 61,
     "metadata": {},
     "output_type": "execute_result"
    },
    {
     "data": {
      "image/png": "[encoded data removed]",
      "text/plain": [
       "<Figure size 432x288 with 1 Axes>"
      ]
     },
     "metadata": {
      "needs_background": "light"
     },
     "output_type": "display_data"
    }
   ],
   "source": [
    "sns.boxplot(x='churn', y='data_recharge_diff', data=df_1)"
   ]
  },
  {
   "cell_type": "code",
   "execution_count": 62,
   "metadata": {},
   "outputs": [
    {
     "data": {
      "text/plain": [
       "<matplotlib.axes._subplots.AxesSubplot at 0x1df5d51fd90>"
      ]
     },
     "execution_count": 62,
     "metadata": {},
     "output_type": "execute_result"
    },
    {
     "data": {
      "image/png": "[encoded data removed]",
      "text/plain": [
       "<Figure size 432x288 with 1 Axes>"
      ]
     },
     "metadata": {
      "needs_background": "light"
     },
     "output_type": "display_data"
    }
   ],
   "source": [
    "sns.boxplot(x='churn', y='vol_2g_mb_diff', data=df_1)"
   ]
  },
  {
   "cell_type": "code",
   "execution_count": 63,
   "metadata": {},
   "outputs": [
    {
     "data": {
      "text/plain": [
       "<matplotlib.axes._subplots.AxesSubplot at 0x1df5d58f610>"
      ]
     },
     "execution_count": 63,
     "metadata": {},
     "output_type": "execute_result"
    },
    {
     "data": {
      "image/png": "[encoded data removed]",
      "text/plain": [
       "<Figure size 432x288 with 1 Axes>"
      ]
     },
     "metadata": {
      "needs_background": "light"
     },
     "output_type": "display_data"
    }
   ],
   "source": [
    "sns.boxplot(x='churn', y='vol_3g_mb_diff', data=df_1)"
   ]
  },
  {
   "cell_type": "code",
   "execution_count": 64,
   "metadata": {},
   "outputs": [
    {
     "data": {
      "text/plain": [
       "<matplotlib.axes._subplots.AxesSubplot at 0x1df5d5f6d00>"
      ]
     },
     "execution_count": 64,
     "metadata": {},
     "output_type": "execute_result"
    },
    {
     "data": {
      "image/png": "[encoded data removed]",
      "text/plain": [
       "<Figure size 432x288 with 1 Axes>"
      ]
     },
     "metadata": {
      "needs_background": "light"
     },
     "output_type": "display_data"
    }
   ],
   "source": [
    "sns.boxplot(x='churn', y='max_rech_data_diff', data=df_1)"
   ]
  },
  {
   "cell_type": "code",
   "execution_count": 65,
   "metadata": {},
   "outputs": [
    {
     "data": {
      "text/plain": [
       "<matplotlib.axes._subplots.AxesSubplot at 0x1df5d6504c0>"
      ]
     },
     "execution_count": 65,
     "metadata": {},
     "output_type": "execute_result"
    },
    {
     "data": {
      "image/png": "[encoded data removed]",
      "text/plain": [
       "<Figure size 432x288 with 1 Axes>"
      ]
     },
     "metadata": {
      "needs_background": "light"
     },
     "output_type": "display_data"
    }
   ],
   "source": [
    "sns.boxplot(x='churn', y='arpu_diff', data=df_1)"
   ]
  },
  {
   "cell_type": "code",
   "execution_count": 66,
   "metadata": {},
   "outputs": [
    {
     "data": {
      "text/html": [
       "<div>\n",
       "<style scoped>\n",
       "    .dataframe tbody tr th:only-of-type {\n",
       "        vertical-align: middle;\n",
       "    }\n",
       "\n",
       "    .dataframe tbody tr th {\n",
       "        vertical-align: top;\n",
       "    }\n",
       "\n",
       "    .dataframe thead th {\n",
       "        text-align: right;\n",
       "    }\n",
       "</style>\n",
       "<table border=\"1\" class=\"dataframe\">\n",
       "  <thead>\n",
       "    <tr style=\"text-align: right;\">\n",
       "      <th>night_pck_user_8</th>\n",
       "      <th>-1.0</th>\n",
       "      <th>0.0</th>\n",
       "      <th>1.0</th>\n",
       "    </tr>\n",
       "    <tr>\n",
       "      <th>churn</th>\n",
       "      <th></th>\n",
       "      <th></th>\n",
       "      <th></th>\n",
       "    </tr>\n",
       "  </thead>\n",
       "  <tbody>\n",
       "    <tr>\n",
       "      <th>0</th>\n",
       "      <td>87.703347</td>\n",
       "      <td>97.037037</td>\n",
       "      <td>97.132616</td>\n",
       "    </tr>\n",
       "    <tr>\n",
       "      <th>1</th>\n",
       "      <td>12.296653</td>\n",
       "      <td>2.962963</td>\n",
       "      <td>2.867384</td>\n",
       "    </tr>\n",
       "  </tbody>\n",
       "</table>\n",
       "</div>"
      ],
      "text/plain": [
       "night_pck_user_8       -1.0        0.0        1.0\n",
       "churn                                            \n",
       "0                 87.703347  97.037037  97.132616\n",
       "1                 12.296653   2.962963   2.867384"
      ]
     },
     "execution_count": 66,
     "metadata": {},
     "output_type": "execute_result"
    }
   ],
   "source": [
    "pd.crosstab(df_filter.churn, df_filter.night_pck_user_8, normalize='columns')*100"
   ]
  },
  {
   "cell_type": "code",
   "execution_count": 67,
   "metadata": {},
   "outputs": [
    {
     "data": {
      "text/html": [
       "<div>\n",
       "<style scoped>\n",
       "    .dataframe tbody tr th:only-of-type {\n",
       "        vertical-align: middle;\n",
       "    }\n",
       "\n",
       "    .dataframe tbody tr th {\n",
       "        vertical-align: top;\n",
       "    }\n",
       "\n",
       "    .dataframe thead th {\n",
       "        text-align: right;\n",
       "    }\n",
       "</style>\n",
       "<table border=\"1\" class=\"dataframe\">\n",
       "  <thead>\n",
       "    <tr style=\"text-align: right;\">\n",
       "      <th>sachet_3g_8</th>\n",
       "      <th>0</th>\n",
       "      <th>1</th>\n",
       "      <th>2</th>\n",
       "      <th>3</th>\n",
       "      <th>4</th>\n",
       "      <th>5</th>\n",
       "      <th>6</th>\n",
       "      <th>7</th>\n",
       "      <th>8</th>\n",
       "      <th>9</th>\n",
       "      <th>...</th>\n",
       "      <th>19</th>\n",
       "      <th>20</th>\n",
       "      <th>21</th>\n",
       "      <th>23</th>\n",
       "      <th>25</th>\n",
       "      <th>27</th>\n",
       "      <th>29</th>\n",
       "      <th>30</th>\n",
       "      <th>38</th>\n",
       "      <th>41</th>\n",
       "    </tr>\n",
       "    <tr>\n",
       "      <th>churn</th>\n",
       "      <th></th>\n",
       "      <th></th>\n",
       "      <th></th>\n",
       "      <th></th>\n",
       "      <th></th>\n",
       "      <th></th>\n",
       "      <th></th>\n",
       "      <th></th>\n",
       "      <th></th>\n",
       "      <th></th>\n",
       "      <th></th>\n",
       "      <th></th>\n",
       "      <th></th>\n",
       "      <th></th>\n",
       "      <th></th>\n",
       "      <th></th>\n",
       "      <th></th>\n",
       "      <th></th>\n",
       "      <th></th>\n",
       "      <th></th>\n",
       "      <th></th>\n",
       "    </tr>\n",
       "  </thead>\n",
       "  <tbody>\n",
       "    <tr>\n",
       "      <th>0</th>\n",
       "      <td>25736</td>\n",
       "      <td>1027</td>\n",
       "      <td>249</td>\n",
       "      <td>124</td>\n",
       "      <td>71</td>\n",
       "      <td>64</td>\n",
       "      <td>26</td>\n",
       "      <td>23</td>\n",
       "      <td>20</td>\n",
       "      <td>12</td>\n",
       "      <td>...</td>\n",
       "      <td>1</td>\n",
       "      <td>2</td>\n",
       "      <td>2</td>\n",
       "      <td>2</td>\n",
       "      <td>1</td>\n",
       "      <td>1</td>\n",
       "      <td>1</td>\n",
       "      <td>1</td>\n",
       "      <td>1</td>\n",
       "      <td>1</td>\n",
       "    </tr>\n",
       "    <tr>\n",
       "      <th>1</th>\n",
       "      <td>2546</td>\n",
       "      <td>31</td>\n",
       "      <td>3</td>\n",
       "      <td>5</td>\n",
       "      <td>2</td>\n",
       "      <td>2</td>\n",
       "      <td>0</td>\n",
       "      <td>0</td>\n",
       "      <td>2</td>\n",
       "      <td>0</td>\n",
       "      <td>...</td>\n",
       "      <td>0</td>\n",
       "      <td>0</td>\n",
       "      <td>0</td>\n",
       "      <td>0</td>\n",
       "      <td>0</td>\n",
       "      <td>0</td>\n",
       "      <td>0</td>\n",
       "      <td>0</td>\n",
       "      <td>0</td>\n",
       "      <td>0</td>\n",
       "    </tr>\n",
       "  </tbody>\n",
       "</table>\n",
       "<p>2 rows × 29 columns</p>\n",
       "</div>"
      ],
      "text/plain": [
       "sachet_3g_8     0     1    2    3   4   5   6   7   8   9   ...  19  20  21  \\\n",
       "churn                                                       ...               \n",
       "0            25736  1027  249  124  71  64  26  23  20  12  ...   1   2   2   \n",
       "1             2546    31    3    5   2   2   0   0   2   0  ...   0   0   0   \n",
       "\n",
       "sachet_3g_8  23  25  27  29  30  38  41  \n",
       "churn                                    \n",
       "0             2   1   1   1   1   1   1  \n",
       "1             0   0   0   0   0   0   0  \n",
       "\n",
       "[2 rows x 29 columns]"
      ]
     },
     "execution_count": 67,
     "metadata": {},
     "output_type": "execute_result"
    }
   ],
   "source": [
    "pd.crosstab(df_filter.churn, df_filter.sachet_3g_8)"
   ]
  },
  {
   "cell_type": "markdown",
   "metadata": {},
   "source": [
    "## Outlier Treatment"
   ]
  },
  {
   "cell_type": "code",
   "execution_count": 68,
   "metadata": {},
   "outputs": [],
   "source": [
    "# Cap outliers in all numeric variables with k-sigma technique\n",
    "def cap_outliers(array, k=3):\n",
    "    upper_limit = array.mean() + k*array.std()\n",
    "    lower_limit = array.mean() - k*array.std()\n",
    "    array[array<lower_limit] = lower_limit\n",
    "    array[array>upper_limit] = upper_limit\n",
    "    return array"
   ]
  },
  {
   "cell_type": "code",
   "execution_count": 69,
   "metadata": {},
   "outputs": [
    {
     "name": "stdout",
     "output_type": "stream",
     "text": [
      "Array after capping outliers: \n",
      " [-2780     1     2     3     4     5     6     7     8     9    10    11\n",
      "    12    13    14    15    16    17    18    19    20    21    22    23\n",
      "    24    25    26    27    28    29    30    31    32    33    34    35\n",
      "    36    37    38    39    40    41    42    43    44    45    46    47\n",
      "    48    49    50    51    52    53    54    55    56    57    58    59\n",
      "    60    61    62    63    64    65    66    67    68    69    70    71\n",
      "    72    73    74    75    76    77    78    79    80    81    82    83\n",
      "    84    85    86    87    88    89    90    91    92    93    94    95\n",
      "    96    97    98  2877]\n"
     ]
    }
   ],
   "source": [
    "# example of capping\n",
    "sample_array = list(range(100))\n",
    "\n",
    "# add outliers to the data\n",
    "sample_array[0] = -9999\n",
    "sample_array[99] = 9999\n",
    "\n",
    "# cap outliers\n",
    "sample_array = np.array(sample_array)\n",
    "print(\"Array after capping outliers: \\n\", cap_outliers(sample_array, k=2))"
   ]
  },
  {
   "cell_type": "code",
   "execution_count": 70,
   "metadata": {},
   "outputs": [],
   "source": [
    "cat_cols =  ['night_pck_user_6',\n",
    "             'night_pck_user_7',\n",
    "             'night_pck_user_8',\n",
    "             'fb_user_6',\n",
    "             'fb_user_7',\n",
    "             'fb_user_8',\n",
    "             'churn'\n",
    "            ]\n",
    "\n",
    "\n",
    "num_cols = [column for column in df_filter.columns if column not in cat_cols]"
   ]
  },
  {
   "cell_type": "code",
   "execution_count": 71,
   "metadata": {},
   "outputs": [],
   "source": [
    "# cap outliers in the numeric columns\n",
    "df_filter[num_cols] = df_filter[num_cols].apply(cap_outliers, axis=0)"
   ]
  },
  {
   "cell_type": "code",
   "execution_count": 72,
   "metadata": {},
   "outputs": [
    {
     "name": "stdout",
     "output_type": "stream",
     "text": [
      "Requirement already up-to-date: imbalanced-learn in c:\\users\\subha\\anaconda3\\lib\\site-packages (0.8.0)Note: you may need to restart the kernel to use updated packages.\n",
      "Requirement already satisfied, skipping upgrade: joblib>=0.11 in c:\\users\\subha\\anaconda3\\lib\\site-packages (from imbalanced-learn) (0.16.0)\n",
      "Requirement already satisfied, skipping upgrade: scipy>=0.19.1 in c:\\users\\subha\\anaconda3\\lib\\site-packages (from imbalanced-learn) (1.5.0)\n",
      "Requirement already satisfied, skipping upgrade: numpy>=1.13.3 in c:\\users\\subha\\anaconda3\\lib\\site-packages (from imbalanced-learn) (1.18.5)\n",
      "Requirement already satisfied, skipping upgrade: scikit-learn>=0.24 in c:\\users\\subha\\anaconda3\\lib\\site-packages (from imbalanced-learn) (0.24.1)\n",
      "Requirement already satisfied, skipping upgrade: threadpoolctl>=2.0.0 in c:\\users\\subha\\anaconda3\\lib\\site-packages (from scikit-learn>=0.24->imbalanced-learn) (2.1.0)\n",
      "\n"
     ]
    }
   ],
   "source": [
    "pip install -U imbalanced-learn"
   ]
  },
  {
   "cell_type": "code",
   "execution_count": 73,
   "metadata": {},
   "outputs": [],
   "source": [
    "# Loading packages\n",
    "from sklearn.model_selection import train_test_split\n",
    "from sklearn.pipeline import Pipeline\n",
    "from sklearn.decomposition import PCA\n",
    "from sklearn.preprocessing import StandardScaler\n",
    "from sklearn.pipeline import FeatureUnion\n",
    "from sklearn.base import BaseEstimator, TransformerMixin\n",
    "from sklearn.linear_model import LogisticRegression\n",
    "from sklearn.metrics import classification_report"
   ]
  },
  {
   "cell_type": "code",
   "execution_count": 74,
   "metadata": {},
   "outputs": [],
   "source": [
    "# Loading packages\n",
    "from sklearn.metrics import roc_auc_score\n",
    "from sklearn.model_selection import StratifiedKFold\n",
    "from sklearn.model_selection import cross_val_score\n",
    "from sklearn.metrics import confusion_matrix\n",
    "from sklearn.model_selection import GridSearchCV\n",
    "from sklearn.svm import SVC"
   ]
  },
  {
   "cell_type": "code",
   "execution_count": 75,
   "metadata": {},
   "outputs": [],
   "source": [
    "df_filter['churn'] = pd.to_numeric(df_filter['churn'])"
   ]
  },
  {
   "cell_type": "markdown",
   "metadata": {},
   "source": [
    "### Train Test split"
   ]
  },
  {
   "cell_type": "code",
   "execution_count": 76,
   "metadata": {},
   "outputs": [],
   "source": [
    "# divide data into train and test\n",
    "\n",
    "X = df_filter.drop('churn', axis=1)\n",
    "y = df_filter['churn']"
   ]
  },
  {
   "cell_type": "code",
   "execution_count": 77,
   "metadata": {},
   "outputs": [],
   "source": [
    "X_train, X_test, y_train, y_test = train_test_split(X, y, random_state=100, train_size=0.7, test_size=0.3)"
   ]
  },
  {
   "cell_type": "code",
   "execution_count": 78,
   "metadata": {},
   "outputs": [
    {
     "data": {
      "text/plain": [
       "(21007, 159)"
      ]
     },
     "execution_count": 78,
     "metadata": {},
     "output_type": "execute_result"
    }
   ],
   "source": [
    "# print shapes of train and test sets\n",
    "\n",
    "X_train.shape"
   ]
  },
  {
   "cell_type": "code",
   "execution_count": 79,
   "metadata": {},
   "outputs": [
    {
     "data": {
      "text/plain": [
       "(21007,)"
      ]
     },
     "execution_count": 79,
     "metadata": {},
     "output_type": "execute_result"
    }
   ],
   "source": [
    "y_train.shape"
   ]
  },
  {
   "cell_type": "code",
   "execution_count": 80,
   "metadata": {},
   "outputs": [
    {
     "data": {
      "text/plain": [
       "(9004, 159)"
      ]
     },
     "execution_count": 80,
     "metadata": {},
     "output_type": "execute_result"
    }
   ],
   "source": [
    "X_test.shape"
   ]
  },
  {
   "cell_type": "code",
   "execution_count": 81,
   "metadata": {},
   "outputs": [
    {
     "data": {
      "text/plain": [
       "(9004,)"
      ]
     },
     "execution_count": 81,
     "metadata": {},
     "output_type": "execute_result"
    }
   ],
   "source": [
    "y_test.shape"
   ]
  },
  {
   "cell_type": "code",
   "execution_count": 82,
   "metadata": {},
   "outputs": [
    {
     "data": {
      "text/plain": [
       "night_pck_user_6\n",
       "-1.0    0.099308\n",
       " 0.0    0.065776\n",
       " 1.0    0.089686\n",
       "Name: churn, dtype: float64"
      ]
     },
     "execution_count": 82,
     "metadata": {},
     "output_type": "execute_result"
    }
   ],
   "source": [
    "train = pd.concat([X_train, y_train], axis=1)\n",
    "\n",
    "# aggregate the categorical variables\n",
    "train.groupby('night_pck_user_6').churn.mean()"
   ]
  },
  {
   "cell_type": "code",
   "execution_count": 83,
   "metadata": {},
   "outputs": [
    {
     "data": {
      "text/plain": [
       "night_pck_user_7\n",
       "-1.0    0.105751\n",
       " 0.0    0.056772\n",
       " 1.0    0.061321\n",
       "Name: churn, dtype: float64"
      ]
     },
     "execution_count": 83,
     "metadata": {},
     "output_type": "execute_result"
    }
   ],
   "source": [
    "train.groupby('night_pck_user_7').churn.mean()"
   ]
  },
  {
   "cell_type": "code",
   "execution_count": 84,
   "metadata": {},
   "outputs": [
    {
     "data": {
      "text/plain": [
       "night_pck_user_8\n",
       "-1.0    0.123067\n",
       " 0.0    0.030866\n",
       " 1.0    0.030151\n",
       "Name: churn, dtype: float64"
      ]
     },
     "execution_count": 84,
     "metadata": {},
     "output_type": "execute_result"
    }
   ],
   "source": [
    "train.groupby('night_pck_user_8').churn.mean()"
   ]
  },
  {
   "cell_type": "code",
   "execution_count": 85,
   "metadata": {},
   "outputs": [
    {
     "data": {
      "text/plain": [
       "fb_user_6\n",
       "-1.0    0.099308\n",
       " 0.0    0.079462\n",
       " 1.0    0.064960\n",
       "Name: churn, dtype: float64"
      ]
     },
     "execution_count": 85,
     "metadata": {},
     "output_type": "execute_result"
    }
   ],
   "source": [
    "train.groupby('fb_user_6').churn.mean()"
   ]
  },
  {
   "cell_type": "code",
   "execution_count": 86,
   "metadata": {},
   "outputs": [
    {
     "data": {
      "text/plain": [
       "fb_user_7\n",
       "-1.0    0.105751\n",
       " 0.0    0.069793\n",
       " 1.0    0.055256\n",
       "Name: churn, dtype: float64"
      ]
     },
     "execution_count": 86,
     "metadata": {},
     "output_type": "execute_result"
    }
   ],
   "source": [
    "train.groupby('fb_user_7').churn.mean()"
   ]
  },
  {
   "cell_type": "code",
   "execution_count": 87,
   "metadata": {},
   "outputs": [
    {
     "data": {
      "text/plain": [
       "fb_user_8\n",
       "-1.0    0.123067\n",
       " 0.0    0.061901\n",
       " 1.0    0.024750\n",
       "Name: churn, dtype: float64"
      ]
     },
     "execution_count": 87,
     "metadata": {},
     "output_type": "execute_result"
    }
   ],
   "source": [
    "train.groupby('fb_user_8').churn.mean()"
   ]
  },
  {
   "cell_type": "code",
   "execution_count": 88,
   "metadata": {},
   "outputs": [],
   "source": [
    "# replace categories with aggregated values in each categorical column\n",
    "\n",
    "mapping = {'night_pck_user_6' : {-1: 0.099165, 0: 0.066797, 1: 0.087838},\n",
    "           'night_pck_user_7' : {-1: 0.115746, 0: 0.055494, 1: 0.051282},\n",
    "           'night_pck_user_8' : {-1: 0.141108, 0: 0.029023, 1: 0.016194},\n",
    "           'fb_user_6'        : {-1: 0.099165, 0: 0.069460, 1: 0.067124},\n",
    "           'fb_user_7'        : {-1: 0.115746, 0: 0.059305, 1: 0.055082},\n",
    "           'fb_user_8'        : {-1: 0.141108, 0: 0.066887, 1: 0.024463}\n",
    "          }\n",
    "X_train.replace(mapping, inplace = True)\n",
    "X_test.replace(mapping, inplace = True)"
   ]
  },
  {
   "cell_type": "code",
   "execution_count": 89,
   "metadata": {},
   "outputs": [
    {
     "name": "stdout",
     "output_type": "stream",
     "text": [
      "<class 'pandas.core.frame.DataFrame'>\n",
      "Int64Index: 21007 entries, 1434 to 5640\n",
      "Data columns (total 6 columns):\n",
      " #   Column            Non-Null Count  Dtype  \n",
      "---  ------            --------------  -----  \n",
      " 0   night_pck_user_6  21007 non-null  float64\n",
      " 1   night_pck_user_7  21007 non-null  float64\n",
      " 2   night_pck_user_8  21007 non-null  float64\n",
      " 3   fb_user_6         21007 non-null  float64\n",
      " 4   fb_user_7         21007 non-null  float64\n",
      " 5   fb_user_8         21007 non-null  float64\n",
      "dtypes: float64(6)\n",
      "memory usage: 1.1 MB\n"
     ]
    }
   ],
   "source": [
    "# check data type of categorical columns - make sure they are numeric\n",
    "\n",
    "X_train[[col for col in cat_cols if col not in ['churn']]].info()"
   ]
  },
  {
   "cell_type": "code",
   "execution_count": 90,
   "metadata": {},
   "outputs": [
    {
     "data": {
      "text/html": [
       "<div>\n",
       "<style scoped>\n",
       "    .dataframe tbody tr th:only-of-type {\n",
       "        vertical-align: middle;\n",
       "    }\n",
       "\n",
       "    .dataframe tbody tr th {\n",
       "        vertical-align: top;\n",
       "    }\n",
       "\n",
       "    .dataframe thead th {\n",
       "        text-align: right;\n",
       "    }\n",
       "</style>\n",
       "<table border=\"1\" class=\"dataframe\">\n",
       "  <thead>\n",
       "    <tr style=\"text-align: right;\">\n",
       "      <th></th>\n",
       "      <th>loc_og_t2o_mou</th>\n",
       "      <th>std_og_t2o_mou</th>\n",
       "      <th>loc_ic_t2o_mou</th>\n",
       "      <th>arpu_6</th>\n",
       "      <th>arpu_7</th>\n",
       "      <th>arpu_8</th>\n",
       "      <th>onnet_mou_6</th>\n",
       "      <th>onnet_mou_7</th>\n",
       "      <th>onnet_mou_8</th>\n",
       "      <th>offnet_mou_6</th>\n",
       "      <th>...</th>\n",
       "      <th>avg_rech_amt_6_7</th>\n",
       "      <th>total_og_mou_diff</th>\n",
       "      <th>data_recharge_6</th>\n",
       "      <th>data_recharge_7</th>\n",
       "      <th>data_recharge_8</th>\n",
       "      <th>data_recharge_diff</th>\n",
       "      <th>vol_2g_mb_diff</th>\n",
       "      <th>vol_3g_mb_diff</th>\n",
       "      <th>max_rech_data_diff</th>\n",
       "      <th>arpu_diff</th>\n",
       "    </tr>\n",
       "  </thead>\n",
       "  <tbody>\n",
       "    <tr>\n",
       "      <th>1434</th>\n",
       "      <td>0.0</td>\n",
       "      <td>0.0</td>\n",
       "      <td>0.0</td>\n",
       "      <td>-0.736662</td>\n",
       "      <td>-0.292118</td>\n",
       "      <td>-0.374532</td>\n",
       "      <td>0.143766</td>\n",
       "      <td>0.697928</td>\n",
       "      <td>0.459486</td>\n",
       "      <td>-0.639486</td>\n",
       "      <td>...</td>\n",
       "      <td>-0.649124</td>\n",
       "      <td>0.049637</td>\n",
       "      <td>-0.371886</td>\n",
       "      <td>-0.361721</td>\n",
       "      <td>-0.365058</td>\n",
       "      <td>-0.000678</td>\n",
       "      <td>-0.667231</td>\n",
       "      <td>0.002200</td>\n",
       "      <td>-0.105437</td>\n",
       "      <td>0.115940</td>\n",
       "    </tr>\n",
       "    <tr>\n",
       "      <th>4636</th>\n",
       "      <td>0.0</td>\n",
       "      <td>0.0</td>\n",
       "      <td>0.0</td>\n",
       "      <td>-0.770531</td>\n",
       "      <td>-0.208800</td>\n",
       "      <td>-0.124029</td>\n",
       "      <td>-0.459413</td>\n",
       "      <td>-0.671723</td>\n",
       "      <td>-0.340675</td>\n",
       "      <td>-0.470353</td>\n",
       "      <td>...</td>\n",
       "      <td>-0.641902</td>\n",
       "      <td>0.295860</td>\n",
       "      <td>-0.371886</td>\n",
       "      <td>-0.110805</td>\n",
       "      <td>-0.088699</td>\n",
       "      <td>0.164661</td>\n",
       "      <td>0.390855</td>\n",
       "      <td>0.483863</td>\n",
       "      <td>1.686297</td>\n",
       "      <td>0.403711</td>\n",
       "    </tr>\n",
       "    <tr>\n",
       "      <th>17998</th>\n",
       "      <td>0.0</td>\n",
       "      <td>0.0</td>\n",
       "      <td>0.0</td>\n",
       "      <td>-0.862987</td>\n",
       "      <td>0.655025</td>\n",
       "      <td>0.095791</td>\n",
       "      <td>-0.683062</td>\n",
       "      <td>-0.529466</td>\n",
       "      <td>-0.467082</td>\n",
       "      <td>-0.506915</td>\n",
       "      <td>...</td>\n",
       "      <td>-0.204191</td>\n",
       "      <td>0.298535</td>\n",
       "      <td>-0.371886</td>\n",
       "      <td>-0.385288</td>\n",
       "      <td>-0.365058</td>\n",
       "      <td>0.012395</td>\n",
       "      <td>0.064802</td>\n",
       "      <td>0.002200</td>\n",
       "      <td>0.036235</td>\n",
       "      <td>0.236876</td>\n",
       "    </tr>\n",
       "    <tr>\n",
       "      <th>18683</th>\n",
       "      <td>0.0</td>\n",
       "      <td>0.0</td>\n",
       "      <td>0.0</td>\n",
       "      <td>-0.254889</td>\n",
       "      <td>-0.026482</td>\n",
       "      <td>0.048349</td>\n",
       "      <td>-0.280925</td>\n",
       "      <td>0.326885</td>\n",
       "      <td>-0.402978</td>\n",
       "      <td>0.608329</td>\n",
       "      <td>...</td>\n",
       "      <td>-0.162298</td>\n",
       "      <td>0.160522</td>\n",
       "      <td>-0.371886</td>\n",
       "      <td>-0.385288</td>\n",
       "      <td>-0.365058</td>\n",
       "      <td>0.012395</td>\n",
       "      <td>0.064802</td>\n",
       "      <td>0.002200</td>\n",
       "      <td>0.036235</td>\n",
       "      <td>0.226402</td>\n",
       "    </tr>\n",
       "    <tr>\n",
       "      <th>26470</th>\n",
       "      <td>0.0</td>\n",
       "      <td>0.0</td>\n",
       "      <td>0.0</td>\n",
       "      <td>0.162973</td>\n",
       "      <td>0.048867</td>\n",
       "      <td>-0.666060</td>\n",
       "      <td>-0.437818</td>\n",
       "      <td>-0.131654</td>\n",
       "      <td>-0.524061</td>\n",
       "      <td>0.183650</td>\n",
       "      <td>...</td>\n",
       "      <td>0.039945</td>\n",
       "      <td>-0.548411</td>\n",
       "      <td>-0.371886</td>\n",
       "      <td>-0.385288</td>\n",
       "      <td>-0.365058</td>\n",
       "      <td>0.012395</td>\n",
       "      <td>0.064802</td>\n",
       "      <td>0.002200</td>\n",
       "      <td>0.036235</td>\n",
       "      <td>-0.955150</td>\n",
       "    </tr>\n",
       "  </tbody>\n",
       "</table>\n",
       "<p>5 rows × 159 columns</p>\n",
       "</div>"
      ],
      "text/plain": [
       "       loc_og_t2o_mou  std_og_t2o_mou  loc_ic_t2o_mou    arpu_6    arpu_7  \\\n",
       "1434              0.0             0.0             0.0 -0.736662 -0.292118   \n",
       "4636              0.0             0.0             0.0 -0.770531 -0.208800   \n",
       "17998             0.0             0.0             0.0 -0.862987  0.655025   \n",
       "18683             0.0             0.0             0.0 -0.254889 -0.026482   \n",
       "26470             0.0             0.0             0.0  0.162973  0.048867   \n",
       "\n",
       "         arpu_8  onnet_mou_6  onnet_mou_7  onnet_mou_8  offnet_mou_6  ...  \\\n",
       "1434  -0.374532     0.143766     0.697928     0.459486     -0.639486  ...   \n",
       "4636  -0.124029    -0.459413    -0.671723    -0.340675     -0.470353  ...   \n",
       "17998  0.095791    -0.683062    -0.529466    -0.467082     -0.506915  ...   \n",
       "18683  0.048349    -0.280925     0.326885    -0.402978      0.608329  ...   \n",
       "26470 -0.666060    -0.437818    -0.131654    -0.524061      0.183650  ...   \n",
       "\n",
       "       avg_rech_amt_6_7  total_og_mou_diff  data_recharge_6  data_recharge_7  \\\n",
       "1434          -0.649124           0.049637        -0.371886        -0.361721   \n",
       "4636          -0.641902           0.295860        -0.371886        -0.110805   \n",
       "17998         -0.204191           0.298535        -0.371886        -0.385288   \n",
       "18683         -0.162298           0.160522        -0.371886        -0.385288   \n",
       "26470          0.039945          -0.548411        -0.371886        -0.385288   \n",
       "\n",
       "       data_recharge_8  data_recharge_diff  vol_2g_mb_diff  vol_3g_mb_diff  \\\n",
       "1434         -0.365058           -0.000678       -0.667231        0.002200   \n",
       "4636         -0.088699            0.164661        0.390855        0.483863   \n",
       "17998        -0.365058            0.012395        0.064802        0.002200   \n",
       "18683        -0.365058            0.012395        0.064802        0.002200   \n",
       "26470        -0.365058            0.012395        0.064802        0.002200   \n",
       "\n",
       "       max_rech_data_diff  arpu_diff  \n",
       "1434            -0.105437   0.115940  \n",
       "4636             1.686297   0.403711  \n",
       "17998            0.036235   0.236876  \n",
       "18683            0.036235   0.226402  \n",
       "26470            0.036235  -0.955150  \n",
       "\n",
       "[5 rows x 159 columns]"
      ]
     },
     "execution_count": 90,
     "metadata": {},
     "output_type": "execute_result"
    }
   ],
   "source": [
    "#Scaling the columns\n",
    "scaler = StandardScaler()\n",
    "\n",
    "X_train[num_cols] = scaler.fit_transform(X_train[num_cols])\n",
    "X_train.head()"
   ]
  },
  {
   "cell_type": "code",
   "execution_count": 91,
   "metadata": {},
   "outputs": [
    {
     "data": {
      "text/html": [
       "<div>\n",
       "<style scoped>\n",
       "    .dataframe tbody tr th:only-of-type {\n",
       "        vertical-align: middle;\n",
       "    }\n",
       "\n",
       "    .dataframe tbody tr th {\n",
       "        vertical-align: top;\n",
       "    }\n",
       "\n",
       "    .dataframe thead th {\n",
       "        text-align: right;\n",
       "    }\n",
       "</style>\n",
       "<table border=\"1\" class=\"dataframe\">\n",
       "  <thead>\n",
       "    <tr style=\"text-align: right;\">\n",
       "      <th></th>\n",
       "      <th>loc_og_t2o_mou</th>\n",
       "      <th>std_og_t2o_mou</th>\n",
       "      <th>loc_ic_t2o_mou</th>\n",
       "      <th>arpu_6</th>\n",
       "      <th>arpu_7</th>\n",
       "      <th>arpu_8</th>\n",
       "      <th>onnet_mou_6</th>\n",
       "      <th>onnet_mou_7</th>\n",
       "      <th>onnet_mou_8</th>\n",
       "      <th>offnet_mou_6</th>\n",
       "      <th>...</th>\n",
       "      <th>avg_rech_amt_6_7</th>\n",
       "      <th>total_og_mou_diff</th>\n",
       "      <th>data_recharge_6</th>\n",
       "      <th>data_recharge_7</th>\n",
       "      <th>data_recharge_8</th>\n",
       "      <th>data_recharge_diff</th>\n",
       "      <th>vol_2g_mb_diff</th>\n",
       "      <th>vol_3g_mb_diff</th>\n",
       "      <th>max_rech_data_diff</th>\n",
       "      <th>arpu_diff</th>\n",
       "    </tr>\n",
       "  </thead>\n",
       "  <tbody>\n",
       "    <tr>\n",
       "      <th>8869</th>\n",
       "      <td>0.0</td>\n",
       "      <td>0.0</td>\n",
       "      <td>0.0</td>\n",
       "      <td>0.838517</td>\n",
       "      <td>-0.718666</td>\n",
       "      <td>-1.408009</td>\n",
       "      <td>-0.695192</td>\n",
       "      <td>-0.655152</td>\n",
       "      <td>-0.690193</td>\n",
       "      <td>3.651909</td>\n",
       "      <td>...</td>\n",
       "      <td>-0.010616</td>\n",
       "      <td>-2.606700</td>\n",
       "      <td>-0.371886</td>\n",
       "      <td>-0.385288</td>\n",
       "      <td>-0.365058</td>\n",
       "      <td>0.012395</td>\n",
       "      <td>0.064802</td>\n",
       "      <td>0.002200</td>\n",
       "      <td>0.036235</td>\n",
       "      <td>-1.831917</td>\n",
       "    </tr>\n",
       "    <tr>\n",
       "      <th>14992</th>\n",
       "      <td>0.0</td>\n",
       "      <td>0.0</td>\n",
       "      <td>0.0</td>\n",
       "      <td>0.311319</td>\n",
       "      <td>0.219213</td>\n",
       "      <td>-0.937635</td>\n",
       "      <td>2.265781</td>\n",
       "      <td>2.678957</td>\n",
       "      <td>0.010017</td>\n",
       "      <td>0.115325</td>\n",
       "      <td>...</td>\n",
       "      <td>0.182959</td>\n",
       "      <td>-2.710374</td>\n",
       "      <td>-0.333049</td>\n",
       "      <td>-0.385288</td>\n",
       "      <td>-0.365058</td>\n",
       "      <td>-0.006830</td>\n",
       "      <td>-0.360138</td>\n",
       "      <td>0.002200</td>\n",
       "      <td>-0.172107</td>\n",
       "      <td>-1.479875</td>\n",
       "    </tr>\n",
       "    <tr>\n",
       "      <th>27111</th>\n",
       "      <td>0.0</td>\n",
       "      <td>0.0</td>\n",
       "      <td>0.0</td>\n",
       "      <td>-0.870544</td>\n",
       "      <td>-0.210968</td>\n",
       "      <td>0.210231</td>\n",
       "      <td>-0.739981</td>\n",
       "      <td>-0.738799</td>\n",
       "      <td>-0.687599</td>\n",
       "      <td>-0.983678</td>\n",
       "      <td>...</td>\n",
       "      <td>-0.561005</td>\n",
       "      <td>0.192592</td>\n",
       "      <td>0.019585</td>\n",
       "      <td>-0.035946</td>\n",
       "      <td>1.041859</td>\n",
       "      <td>1.175151</td>\n",
       "      <td>0.055999</td>\n",
       "      <td>-0.719508</td>\n",
       "      <td>0.036235</td>\n",
       "      <td>0.883741</td>\n",
       "    </tr>\n",
       "    <tr>\n",
       "      <th>26075</th>\n",
       "      <td>0.0</td>\n",
       "      <td>0.0</td>\n",
       "      <td>0.0</td>\n",
       "      <td>-0.138297</td>\n",
       "      <td>-0.056433</td>\n",
       "      <td>-0.098240</td>\n",
       "      <td>-0.722119</td>\n",
       "      <td>-0.680901</td>\n",
       "      <td>-0.665403</td>\n",
       "      <td>-0.340220</td>\n",
       "      <td>...</td>\n",
       "      <td>-0.209969</td>\n",
       "      <td>-0.114964</td>\n",
       "      <td>-0.371886</td>\n",
       "      <td>-0.385288</td>\n",
       "      <td>-0.365058</td>\n",
       "      <td>0.012395</td>\n",
       "      <td>0.064802</td>\n",
       "      <td>0.002200</td>\n",
       "      <td>0.036235</td>\n",
       "      <td>-0.007297</td>\n",
       "    </tr>\n",
       "    <tr>\n",
       "      <th>27484</th>\n",
       "      <td>0.0</td>\n",
       "      <td>0.0</td>\n",
       "      <td>0.0</td>\n",
       "      <td>-0.607171</td>\n",
       "      <td>-0.853806</td>\n",
       "      <td>-0.641196</td>\n",
       "      <td>3.719732</td>\n",
       "      <td>3.031236</td>\n",
       "      <td>3.432162</td>\n",
       "      <td>-0.991760</td>\n",
       "      <td>...</td>\n",
       "      <td>-0.907706</td>\n",
       "      <td>-0.609116</td>\n",
       "      <td>-0.371886</td>\n",
       "      <td>-0.385288</td>\n",
       "      <td>-0.365058</td>\n",
       "      <td>0.012395</td>\n",
       "      <td>0.064802</td>\n",
       "      <td>0.002200</td>\n",
       "      <td>0.036235</td>\n",
       "      <td>0.028978</td>\n",
       "    </tr>\n",
       "  </tbody>\n",
       "</table>\n",
       "<p>5 rows × 159 columns</p>\n",
       "</div>"
      ],
      "text/plain": [
       "       loc_og_t2o_mou  std_og_t2o_mou  loc_ic_t2o_mou    arpu_6    arpu_7  \\\n",
       "8869              0.0             0.0             0.0  0.838517 -0.718666   \n",
       "14992             0.0             0.0             0.0  0.311319  0.219213   \n",
       "27111             0.0             0.0             0.0 -0.870544 -0.210968   \n",
       "26075             0.0             0.0             0.0 -0.138297 -0.056433   \n",
       "27484             0.0             0.0             0.0 -0.607171 -0.853806   \n",
       "\n",
       "         arpu_8  onnet_mou_6  onnet_mou_7  onnet_mou_8  offnet_mou_6  ...  \\\n",
       "8869  -1.408009    -0.695192    -0.655152    -0.690193      3.651909  ...   \n",
       "14992 -0.937635     2.265781     2.678957     0.010017      0.115325  ...   \n",
       "27111  0.210231    -0.739981    -0.738799    -0.687599     -0.983678  ...   \n",
       "26075 -0.098240    -0.722119    -0.680901    -0.665403     -0.340220  ...   \n",
       "27484 -0.641196     3.719732     3.031236     3.432162     -0.991760  ...   \n",
       "\n",
       "       avg_rech_amt_6_7  total_og_mou_diff  data_recharge_6  data_recharge_7  \\\n",
       "8869          -0.010616          -2.606700        -0.371886        -0.385288   \n",
       "14992          0.182959          -2.710374        -0.333049        -0.385288   \n",
       "27111         -0.561005           0.192592         0.019585        -0.035946   \n",
       "26075         -0.209969          -0.114964        -0.371886        -0.385288   \n",
       "27484         -0.907706          -0.609116        -0.371886        -0.385288   \n",
       "\n",
       "       data_recharge_8  data_recharge_diff  vol_2g_mb_diff  vol_3g_mb_diff  \\\n",
       "8869         -0.365058            0.012395        0.064802        0.002200   \n",
       "14992        -0.365058           -0.006830       -0.360138        0.002200   \n",
       "27111         1.041859            1.175151        0.055999       -0.719508   \n",
       "26075        -0.365058            0.012395        0.064802        0.002200   \n",
       "27484        -0.365058            0.012395        0.064802        0.002200   \n",
       "\n",
       "       max_rech_data_diff  arpu_diff  \n",
       "8869             0.036235  -1.831917  \n",
       "14992           -0.172107  -1.479875  \n",
       "27111            0.036235   0.883741  \n",
       "26075            0.036235  -0.007297  \n",
       "27484            0.036235   0.028978  \n",
       "\n",
       "[5 rows x 159 columns]"
      ]
     },
     "execution_count": 91,
     "metadata": {},
     "output_type": "execute_result"
    }
   ],
   "source": [
    "#Scaling the Test set\n",
    "X_test[num_cols] = scaler.transform(X_test[num_cols])\n",
    "X_test.head()"
   ]
  },
  {
   "cell_type": "code",
   "execution_count": 92,
   "metadata": {},
   "outputs": [
    {
     "data": {
      "text/plain": [
       "(9004, 159)"
      ]
     },
     "execution_count": 92,
     "metadata": {},
     "output_type": "execute_result"
    }
   ],
   "source": [
    "X_test.shape"
   ]
  },
  {
   "cell_type": "code",
   "execution_count": 93,
   "metadata": {},
   "outputs": [
    {
     "data": {
      "text/plain": [
       "(21007, 159)"
      ]
     },
     "execution_count": 93,
     "metadata": {},
     "output_type": "execute_result"
    }
   ],
   "source": [
    "X_train.shape"
   ]
  },
  {
   "cell_type": "markdown",
   "metadata": {},
   "source": [
    "## Logistic Regression"
   ]
  },
  {
   "cell_type": "code",
   "execution_count": 94,
   "metadata": {},
   "outputs": [],
   "source": [
    "#Logistic Regression\n",
    "logreg = LogisticRegression(class_weight='balanced')"
   ]
  },
  {
   "cell_type": "code",
   "execution_count": 95,
   "metadata": {},
   "outputs": [
    {
     "data": {
      "text/plain": [
       "LogisticRegression(class_weight='balanced')"
      ]
     },
     "execution_count": 95,
     "metadata": {},
     "output_type": "execute_result"
    }
   ],
   "source": [
    "#Base model\n",
    "\n",
    "logreg.fit(X_train, y_train)"
   ]
  },
  {
   "cell_type": "code",
   "execution_count": 96,
   "metadata": {},
   "outputs": [],
   "source": [
    "predictions_train = logreg.predict(X_train).reshape(-1,1)"
   ]
  },
  {
   "cell_type": "code",
   "execution_count": 97,
   "metadata": {},
   "outputs": [],
   "source": [
    "# Loading packages\n",
    "from sklearn import metrics"
   ]
  },
  {
   "cell_type": "code",
   "execution_count": 98,
   "metadata": {},
   "outputs": [
    {
     "data": {
      "text/plain": [
       "array([[16165,  3019],\n",
       "       [  305,  1518]], dtype=int64)"
      ]
     },
     "execution_count": 98,
     "metadata": {},
     "output_type": "execute_result"
    }
   ],
   "source": [
    "metrics.confusion_matrix(y_train,predictions_train)"
   ]
  },
  {
   "cell_type": "code",
   "execution_count": 99,
   "metadata": {},
   "outputs": [
    {
     "data": {
      "text/plain": [
       "0.8417670300376066"
      ]
     },
     "execution_count": 99,
     "metadata": {},
     "output_type": "execute_result"
    }
   ],
   "source": [
    "metrics.accuracy_score(y_train,predictions_train)"
   ]
  },
  {
   "cell_type": "code",
   "execution_count": 100,
   "metadata": {},
   "outputs": [],
   "source": [
    "predictions = logreg.predict(X_test)"
   ]
  },
  {
   "cell_type": "code",
   "execution_count": 101,
   "metadata": {},
   "outputs": [],
   "source": [
    "y_test_pred = predictions.reshape(-1,1)"
   ]
  },
  {
   "cell_type": "code",
   "execution_count": 102,
   "metadata": {},
   "outputs": [
    {
     "data": {
      "text/plain": [
       "array([[6950, 1284],\n",
       "       [ 119,  651]], dtype=int64)"
      ]
     },
     "execution_count": 102,
     "metadata": {},
     "output_type": "execute_result"
    }
   ],
   "source": [
    "#Confusion matrix\n",
    "\n",
    "cm_log_reg = metrics.confusion_matrix(y_test,y_test_pred)\n",
    "cm_log_reg"
   ]
  },
  {
   "cell_type": "code",
   "execution_count": 103,
   "metadata": {},
   "outputs": [
    {
     "data": {
      "text/plain": [
       "0.8440612096186544"
      ]
     },
     "execution_count": 103,
     "metadata": {},
     "output_type": "execute_result"
    }
   ],
   "source": [
    "#specificty\n",
    "\n",
    "cm_log_reg[0,0]/(cm_log_reg[0,0]+cm_log_reg[0,1])"
   ]
  },
  {
   "cell_type": "code",
   "execution_count": 104,
   "metadata": {},
   "outputs": [
    {
     "data": {
      "text/plain": [
       "0.8454545454545455"
      ]
     },
     "execution_count": 104,
     "metadata": {},
     "output_type": "execute_result"
    }
   ],
   "source": [
    "#sensitivity\n",
    "\n",
    "cm_log_reg[1,1]/(cm_log_reg[1,0]+cm_log_reg[1,1])"
   ]
  },
  {
   "cell_type": "code",
   "execution_count": 105,
   "metadata": {},
   "outputs": [
    {
     "data": {
      "text/plain": [
       "0.8441803642825411"
      ]
     },
     "execution_count": 105,
     "metadata": {},
     "output_type": "execute_result"
    }
   ],
   "source": [
    "metrics.accuracy_score(y_test,y_test_pred)"
   ]
  },
  {
   "cell_type": "markdown",
   "metadata": {},
   "source": [
    "Applying GridSearchCV for selecting best parameters"
   ]
  },
  {
   "cell_type": "code",
   "execution_count": 106,
   "metadata": {},
   "outputs": [],
   "source": [
    "from sklearn.model_selection import GridSearchCV"
   ]
  },
  {
   "cell_type": "code",
   "execution_count": 107,
   "metadata": {},
   "outputs": [],
   "source": [
    "logreg1 = LogisticRegression()\n",
    "\n",
    "param_grid = {'C': np.logspace(-2,2,10), 'class_weight': ['balanced']}"
   ]
  },
  {
   "cell_type": "code",
   "execution_count": 108,
   "metadata": {},
   "outputs": [],
   "source": [
    "clf1 = GridSearchCV(logreg1, param_grid, cv=5, verbose=True)"
   ]
  },
  {
   "cell_type": "code",
   "execution_count": 109,
   "metadata": {},
   "outputs": [
    {
     "name": "stdout",
     "output_type": "stream",
     "text": [
      "Fitting 5 folds for each of 10 candidates, totalling 50 fits\n"
     ]
    }
   ],
   "source": [
    "best_model = clf1.fit(X_train, y_train)"
   ]
  },
  {
   "cell_type": "code",
   "execution_count": 110,
   "metadata": {},
   "outputs": [
    {
     "data": {
      "text/plain": [
       "{'C': 35.93813663804626, 'class_weight': 'balanced'}"
      ]
     },
     "execution_count": 110,
     "metadata": {},
     "output_type": "execute_result"
    }
   ],
   "source": [
    "#The best parameters from grid search are\n",
    "best_model.best_params_"
   ]
  },
  {
   "cell_type": "code",
   "execution_count": 111,
   "metadata": {},
   "outputs": [
    {
     "data": {
      "text/plain": [
       "0.8393394242956365"
      ]
     },
     "execution_count": 111,
     "metadata": {},
     "output_type": "execute_result"
    }
   ],
   "source": [
    "best_model.best_score_"
   ]
  },
  {
   "cell_type": "code",
   "execution_count": 112,
   "metadata": {},
   "outputs": [],
   "source": [
    "logreg_fin = LogisticRegression(C=best_model.best_params_['C'], class_weight= 'balanced')"
   ]
  },
  {
   "cell_type": "code",
   "execution_count": 113,
   "metadata": {},
   "outputs": [
    {
     "data": {
      "text/plain": [
       "LogisticRegression(C=35.93813663804626, class_weight='balanced')"
      ]
     },
     "execution_count": 113,
     "metadata": {},
     "output_type": "execute_result"
    }
   ],
   "source": [
    "logreg_fin.fit(X_train, y_train)"
   ]
  },
  {
   "cell_type": "code",
   "execution_count": 114,
   "metadata": {},
   "outputs": [],
   "source": [
    "#Y predicted train\n",
    "y_train_pred_prob_logreg = logreg_fin.predict_proba(X_train)[:,1]"
   ]
  },
  {
   "cell_type": "code",
   "execution_count": 115,
   "metadata": {},
   "outputs": [],
   "source": [
    "y_train_res_logreg = pd.DataFrame({'churn': y_train.values, 'churn_prob': y_train_pred_prob_logreg})"
   ]
  },
  {
   "cell_type": "code",
   "execution_count": 116,
   "metadata": {},
   "outputs": [],
   "source": [
    "# Analysing by drawing ROC curve\n",
    "\n",
    "\n",
    "def draw_roc( actual, probs ):\n",
    "    fpr, tpr, thresholds = metrics.roc_curve( actual, probs,\n",
    "                                              drop_intermediate = False )\n",
    "    auc_score = metrics.roc_auc_score( actual, probs )\n",
    "    plt.figure(figsize=(5, 5))\n",
    "    plt.plot( fpr, tpr, label='ROC curve (area = %0.2f)' % auc_score )\n",
    "    plt.plot([0, 1], [0, 1], 'k--')\n",
    "    plt.xlim([0.0, 1.0])\n",
    "    plt.ylim([0.0, 1.05])\n",
    "    plt.xlabel('False Positive Rate or [1 - True Negative Rate]')\n",
    "    plt.ylabel('True Positive Rate')\n",
    "    plt.title('Receiver operating characteristic example')\n",
    "    plt.legend(loc=\"lower right\")\n",
    "    plt.show()\n",
    "\n",
    "    return None"
   ]
  },
  {
   "cell_type": "code",
   "execution_count": 117,
   "metadata": {},
   "outputs": [
    {
     "data": {
      "image/png": "[encoded data removed]",
      "text/plain": [
       "<Figure size 360x360 with 1 Axes>"
      ]
     },
     "metadata": {
      "needs_background": "light"
     },
     "output_type": "display_data"
    }
   ],
   "source": [
    "draw_roc(y_train_res_logreg['churn'], y_train_res_logreg['churn_prob'])"
   ]
  },
  {
   "cell_type": "code",
   "execution_count": 118,
   "metadata": {},
   "outputs": [
    {
     "data": {
      "text/html": [
       "<div>\n",
       "<style scoped>\n",
       "    .dataframe tbody tr th:only-of-type {\n",
       "        vertical-align: middle;\n",
       "    }\n",
       "\n",
       "    .dataframe tbody tr th {\n",
       "        vertical-align: top;\n",
       "    }\n",
       "\n",
       "    .dataframe thead th {\n",
       "        text-align: right;\n",
       "    }\n",
       "</style>\n",
       "<table border=\"1\" class=\"dataframe\">\n",
       "  <thead>\n",
       "    <tr style=\"text-align: right;\">\n",
       "      <th></th>\n",
       "      <th>churn</th>\n",
       "      <th>churn_prob</th>\n",
       "      <th>0.0</th>\n",
       "      <th>0.1</th>\n",
       "      <th>0.2</th>\n",
       "      <th>0.3</th>\n",
       "      <th>0.4</th>\n",
       "      <th>0.5</th>\n",
       "      <th>0.6</th>\n",
       "      <th>0.7</th>\n",
       "      <th>0.8</th>\n",
       "      <th>0.9</th>\n",
       "    </tr>\n",
       "  </thead>\n",
       "  <tbody>\n",
       "    <tr>\n",
       "      <th>0</th>\n",
       "      <td>0</td>\n",
       "      <td>0.343106</td>\n",
       "      <td>1</td>\n",
       "      <td>1</td>\n",
       "      <td>1</td>\n",
       "      <td>1</td>\n",
       "      <td>0</td>\n",
       "      <td>0</td>\n",
       "      <td>0</td>\n",
       "      <td>0</td>\n",
       "      <td>0</td>\n",
       "      <td>0</td>\n",
       "    </tr>\n",
       "    <tr>\n",
       "      <th>1</th>\n",
       "      <td>0</td>\n",
       "      <td>0.021726</td>\n",
       "      <td>1</td>\n",
       "      <td>0</td>\n",
       "      <td>0</td>\n",
       "      <td>0</td>\n",
       "      <td>0</td>\n",
       "      <td>0</td>\n",
       "      <td>0</td>\n",
       "      <td>0</td>\n",
       "      <td>0</td>\n",
       "      <td>0</td>\n",
       "    </tr>\n",
       "    <tr>\n",
       "      <th>2</th>\n",
       "      <td>0</td>\n",
       "      <td>0.056554</td>\n",
       "      <td>1</td>\n",
       "      <td>0</td>\n",
       "      <td>0</td>\n",
       "      <td>0</td>\n",
       "      <td>0</td>\n",
       "      <td>0</td>\n",
       "      <td>0</td>\n",
       "      <td>0</td>\n",
       "      <td>0</td>\n",
       "      <td>0</td>\n",
       "    </tr>\n",
       "    <tr>\n",
       "      <th>3</th>\n",
       "      <td>0</td>\n",
       "      <td>0.187058</td>\n",
       "      <td>1</td>\n",
       "      <td>1</td>\n",
       "      <td>0</td>\n",
       "      <td>0</td>\n",
       "      <td>0</td>\n",
       "      <td>0</td>\n",
       "      <td>0</td>\n",
       "      <td>0</td>\n",
       "      <td>0</td>\n",
       "      <td>0</td>\n",
       "    </tr>\n",
       "    <tr>\n",
       "      <th>4</th>\n",
       "      <td>0</td>\n",
       "      <td>0.232704</td>\n",
       "      <td>1</td>\n",
       "      <td>1</td>\n",
       "      <td>1</td>\n",
       "      <td>0</td>\n",
       "      <td>0</td>\n",
       "      <td>0</td>\n",
       "      <td>0</td>\n",
       "      <td>0</td>\n",
       "      <td>0</td>\n",
       "      <td>0</td>\n",
       "    </tr>\n",
       "  </tbody>\n",
       "</table>\n",
       "</div>"
      ],
      "text/plain": [
       "   churn  churn_prob  0.0  0.1  0.2  0.3  0.4  0.5  0.6  0.7  0.8  0.9\n",
       "0      0    0.343106    1    1    1    1    0    0    0    0    0    0\n",
       "1      0    0.021726    1    0    0    0    0    0    0    0    0    0\n",
       "2      0    0.056554    1    0    0    0    0    0    0    0    0    0\n",
       "3      0    0.187058    1    1    0    0    0    0    0    0    0    0\n",
       "4      0    0.232704    1    1    1    0    0    0    0    0    0    0"
      ]
     },
     "execution_count": 118,
     "metadata": {},
     "output_type": "execute_result"
    }
   ],
   "source": [
    "# Finding optimal cut-off value -\n",
    "\n",
    "numbers = [float(x)/10 for x in range(10)]\n",
    "for i in numbers:\n",
    "    y_train_res_logreg[i]= y_train_res_logreg['churn_prob'].map(lambda x: 1 if x > i else 0)\n",
    "y_train_res_logreg.head()"
   ]
  },
  {
   "cell_type": "code",
   "execution_count": 119,
   "metadata": {},
   "outputs": [
    {
     "name": "stdout",
     "output_type": "stream",
     "text": [
      "     prob  accuracy     sensi     speci\n",
      "0.0   0.0  0.086781  1.000000  0.000000\n",
      "0.1   0.1  0.452801  0.978607  0.402836\n",
      "0.2   0.2  0.604560  0.950631  0.571674\n",
      "0.3   0.3  0.708907  0.923204  0.688543\n",
      "0.4   0.4  0.786214  0.881514  0.777158\n",
      "0.5   0.5  0.841767  0.833790  0.842525\n",
      "0.6   0.6  0.880326  0.790455  0.888866\n",
      "0.7   0.7  0.907697  0.719144  0.925615\n",
      "0.8   0.8  0.921407  0.581459  0.953711\n",
      "0.9   0.9  0.929833  0.388371  0.981286\n"
     ]
    }
   ],
   "source": [
    "cutoff_train_df = pd.DataFrame( columns = ['prob','accuracy','sensi','speci'])\n",
    "num = [0.0,0.1,0.2,0.3,0.4,0.5,0.6,0.7,0.8,0.9]\n",
    "for i in num:\n",
    "    cm1 = metrics.confusion_matrix(y_train_res_logreg['churn'], y_train_res_logreg[i] )\n",
    "    total1=sum(sum(cm1))\n",
    "    accuracy = (cm1[0,0]+cm1[1,1])/total1\n",
    "    \n",
    "    speci = cm1[0,0]/(cm1[0,0]+cm1[0,1])\n",
    "    sensi = cm1[1,1]/(cm1[1,0]+cm1[1,1])\n",
    "    cutoff_train_df.loc[i] =[ i ,accuracy,sensi,speci]\n",
    "print(cutoff_train_df)"
   ]
  },
  {
   "cell_type": "code",
   "execution_count": 120,
   "metadata": {},
   "outputs": [
    {
     "data": {
      "image/png": "[encoded data removed]",
      "text/plain": [
       "<Figure size 432x288 with 1 Axes>"
      ]
     },
     "metadata": {
      "needs_background": "light"
     },
     "output_type": "display_data"
    }
   ],
   "source": [
    "cutoff_train_df.plot.line(x='prob', y=['accuracy','sensi','speci'])\n",
    "plt.show()"
   ]
  },
  {
   "cell_type": "code",
   "execution_count": 121,
   "metadata": {},
   "outputs": [
    {
     "data": {
      "text/html": [
       "<div>\n",
       "<style scoped>\n",
       "    .dataframe tbody tr th:only-of-type {\n",
       "        vertical-align: middle;\n",
       "    }\n",
       "\n",
       "    .dataframe tbody tr th {\n",
       "        vertical-align: top;\n",
       "    }\n",
       "\n",
       "    .dataframe thead th {\n",
       "        text-align: right;\n",
       "    }\n",
       "</style>\n",
       "<table border=\"1\" class=\"dataframe\">\n",
       "  <thead>\n",
       "    <tr style=\"text-align: right;\">\n",
       "      <th></th>\n",
       "      <th>churn</th>\n",
       "      <th>churn_prob</th>\n",
       "      <th>0.0</th>\n",
       "      <th>0.1</th>\n",
       "      <th>0.2</th>\n",
       "      <th>0.3</th>\n",
       "      <th>0.4</th>\n",
       "      <th>0.5</th>\n",
       "      <th>0.6</th>\n",
       "      <th>0.7</th>\n",
       "      <th>0.8</th>\n",
       "      <th>0.9</th>\n",
       "      <th>0.45</th>\n",
       "      <th>0.46</th>\n",
       "      <th>0.47</th>\n",
       "      <th>0.48</th>\n",
       "      <th>0.49</th>\n",
       "    </tr>\n",
       "  </thead>\n",
       "  <tbody>\n",
       "    <tr>\n",
       "      <th>0</th>\n",
       "      <td>0</td>\n",
       "      <td>0.343106</td>\n",
       "      <td>1</td>\n",
       "      <td>1</td>\n",
       "      <td>1</td>\n",
       "      <td>1</td>\n",
       "      <td>0</td>\n",
       "      <td>0</td>\n",
       "      <td>0</td>\n",
       "      <td>0</td>\n",
       "      <td>0</td>\n",
       "      <td>0</td>\n",
       "      <td>0</td>\n",
       "      <td>0</td>\n",
       "      <td>0</td>\n",
       "      <td>0</td>\n",
       "      <td>0</td>\n",
       "    </tr>\n",
       "    <tr>\n",
       "      <th>1</th>\n",
       "      <td>0</td>\n",
       "      <td>0.021726</td>\n",
       "      <td>1</td>\n",
       "      <td>0</td>\n",
       "      <td>0</td>\n",
       "      <td>0</td>\n",
       "      <td>0</td>\n",
       "      <td>0</td>\n",
       "      <td>0</td>\n",
       "      <td>0</td>\n",
       "      <td>0</td>\n",
       "      <td>0</td>\n",
       "      <td>0</td>\n",
       "      <td>0</td>\n",
       "      <td>0</td>\n",
       "      <td>0</td>\n",
       "      <td>0</td>\n",
       "    </tr>\n",
       "    <tr>\n",
       "      <th>2</th>\n",
       "      <td>0</td>\n",
       "      <td>0.056554</td>\n",
       "      <td>1</td>\n",
       "      <td>0</td>\n",
       "      <td>0</td>\n",
       "      <td>0</td>\n",
       "      <td>0</td>\n",
       "      <td>0</td>\n",
       "      <td>0</td>\n",
       "      <td>0</td>\n",
       "      <td>0</td>\n",
       "      <td>0</td>\n",
       "      <td>0</td>\n",
       "      <td>0</td>\n",
       "      <td>0</td>\n",
       "      <td>0</td>\n",
       "      <td>0</td>\n",
       "    </tr>\n",
       "    <tr>\n",
       "      <th>3</th>\n",
       "      <td>0</td>\n",
       "      <td>0.187058</td>\n",
       "      <td>1</td>\n",
       "      <td>1</td>\n",
       "      <td>0</td>\n",
       "      <td>0</td>\n",
       "      <td>0</td>\n",
       "      <td>0</td>\n",
       "      <td>0</td>\n",
       "      <td>0</td>\n",
       "      <td>0</td>\n",
       "      <td>0</td>\n",
       "      <td>0</td>\n",
       "      <td>0</td>\n",
       "      <td>0</td>\n",
       "      <td>0</td>\n",
       "      <td>0</td>\n",
       "    </tr>\n",
       "    <tr>\n",
       "      <th>4</th>\n",
       "      <td>0</td>\n",
       "      <td>0.232704</td>\n",
       "      <td>1</td>\n",
       "      <td>1</td>\n",
       "      <td>1</td>\n",
       "      <td>0</td>\n",
       "      <td>0</td>\n",
       "      <td>0</td>\n",
       "      <td>0</td>\n",
       "      <td>0</td>\n",
       "      <td>0</td>\n",
       "      <td>0</td>\n",
       "      <td>0</td>\n",
       "      <td>0</td>\n",
       "      <td>0</td>\n",
       "      <td>0</td>\n",
       "      <td>0</td>\n",
       "    </tr>\n",
       "  </tbody>\n",
       "</table>\n",
       "</div>"
      ],
      "text/plain": [
       "   churn  churn_prob  0.0  0.1  0.2  0.3  0.4  0.5  0.6  0.7  0.8  0.9  0.45  \\\n",
       "0      0    0.343106    1    1    1    1    0    0    0    0    0    0     0   \n",
       "1      0    0.021726    1    0    0    0    0    0    0    0    0    0     0   \n",
       "2      0    0.056554    1    0    0    0    0    0    0    0    0    0     0   \n",
       "3      0    0.187058    1    1    0    0    0    0    0    0    0    0     0   \n",
       "4      0    0.232704    1    1    1    0    0    0    0    0    0    0     0   \n",
       "\n",
       "   0.46  0.47  0.48  0.49  \n",
       "0     0     0     0     0  \n",
       "1     0     0     0     0  \n",
       "2     0     0     0     0  \n",
       "3     0     0     0     0  \n",
       "4     0     0     0     0  "
      ]
     },
     "execution_count": 121,
     "metadata": {},
     "output_type": "execute_result"
    }
   ],
   "source": [
    "num = [0.45,0.46,0.47,0.48,0.49,0.5]\n",
    "for i in num:\n",
    "    y_train_res_logreg[i]= y_train_res_logreg['churn_prob'].map(lambda x: 1 if x > i else 0)\n",
    "y_train_res_logreg.head()"
   ]
  },
  {
   "cell_type": "code",
   "execution_count": 122,
   "metadata": {},
   "outputs": [
    {
     "name": "stdout",
     "output_type": "stream",
     "text": [
      "      prob  accuracy  sensitivity  specificity\n",
      "0.45  0.45  0.816823     0.855732     0.813126\n",
      "0.46  0.46  0.821821     0.852441     0.818912\n",
      "0.47  0.47  0.827248     0.850247     0.825063\n",
      "0.48  0.48  0.832199     0.843116     0.831161\n",
      "0.49  0.49  0.836864     0.839824     0.836583\n",
      "0.50  0.50  0.841767     0.833790     0.842525\n"
     ]
    }
   ],
   "source": [
    "cutoff_train_df = pd.DataFrame( columns = ['prob','accuracy','sensitivity','specificity'])\n",
    "for i in num:\n",
    "    cm1 = metrics.confusion_matrix(y_train_res_logreg['churn'], y_train_res_logreg[i] )\n",
    "    total1=sum(sum(cm1))\n",
    "    accuracy = (cm1[0,0]+cm1[1,1])/total1\n",
    "    \n",
    "    speci = cm1[0,0]/(cm1[0,0]+cm1[0,1])\n",
    "    sensi = cm1[1,1]/(cm1[1,0]+cm1[1,1])\n",
    "    cutoff_train_df.loc[i] =[ i ,accuracy,sensi,speci]\n",
    "print(cutoff_train_df)"
   ]
  },
  {
   "cell_type": "code",
   "execution_count": 123,
   "metadata": {},
   "outputs": [
    {
     "data": {
      "image/png": "[encoded data removed]",
      "text/plain": [
       "<Figure size 432x288 with 1 Axes>"
      ]
     },
     "metadata": {
      "needs_background": "light"
     },
     "output_type": "display_data"
    }
   ],
   "source": [
    "cutoff_train_df.plot.line(x='prob', y=['accuracy','sensitivity','specificity'])\n",
    "plt.show()"
   ]
  },
  {
   "cell_type": "markdown",
   "metadata": {},
   "source": [
    "Choosing optimal cut-off as 0.49 as we have almost equal values for accuracy, sensitivity and specificity, and as we need to improve the ability to predict churn cases better, the score parameter is 'Sensitivity' which is 0.84"
   ]
  },
  {
   "cell_type": "code",
   "execution_count": 124,
   "metadata": {},
   "outputs": [],
   "source": [
    "y_train_res_logreg['logreg_fin_pred'] = y_train_res_logreg['churn_prob'].map(lambda x: 1 if x > 0.48 else 0)"
   ]
  },
  {
   "cell_type": "code",
   "execution_count": 125,
   "metadata": {},
   "outputs": [
    {
     "data": {
      "text/plain": [
       "array([[15945,  3239],\n",
       "       [  286,  1537]], dtype=int64)"
      ]
     },
     "execution_count": 125,
     "metadata": {},
     "output_type": "execute_result"
    }
   ],
   "source": [
    "#Confusion matrix\n",
    "metrics.confusion_matrix(y_train_res_logreg['churn'], y_train_res_logreg['logreg_fin_pred'])"
   ]
  },
  {
   "cell_type": "code",
   "execution_count": 126,
   "metadata": {},
   "outputs": [
    {
     "data": {
      "text/plain": [
       "prob           0.480000\n",
       "accuracy       0.832199\n",
       "sensitivity    0.843116\n",
       "specificity    0.831161\n",
       "Name: 0.48, dtype: float64"
      ]
     },
     "execution_count": 126,
     "metadata": {},
     "output_type": "execute_result"
    }
   ],
   "source": [
    "cutoff_train_df.loc[0.48,:]"
   ]
  },
  {
   "cell_type": "code",
   "execution_count": 127,
   "metadata": {},
   "outputs": [],
   "source": [
    "y_test_pred_prob_logreg = logreg_fin.predict_proba(X_test)[:,1]"
   ]
  },
  {
   "cell_type": "code",
   "execution_count": 128,
   "metadata": {},
   "outputs": [],
   "source": [
    "y_test_res_logreg = pd.DataFrame({'churn': y_test.values, 'churn_prob': y_test_pred_prob_logreg})"
   ]
  },
  {
   "cell_type": "code",
   "execution_count": 129,
   "metadata": {},
   "outputs": [],
   "source": [
    "y_test_res_logreg['logreg_fin_pred'] = y_test_res_logreg['churn_prob'].map(lambda x: 1 if x > 0.48 else 0)"
   ]
  },
  {
   "cell_type": "code",
   "execution_count": 130,
   "metadata": {},
   "outputs": [
    {
     "data": {
      "text/plain": [
       "array([[6843, 1391],\n",
       "       [ 111,  659]], dtype=int64)"
      ]
     },
     "execution_count": 130,
     "metadata": {},
     "output_type": "execute_result"
    }
   ],
   "source": [
    "cm_test_logreg = metrics.confusion_matrix(y_test_res_logreg['churn'], y_test_res_logreg['logreg_fin_pred'])\n",
    "cm_test_logreg"
   ]
  },
  {
   "cell_type": "code",
   "execution_count": 131,
   "metadata": {},
   "outputs": [
    {
     "data": {
      "text/plain": [
       "0.8331852509995558"
      ]
     },
     "execution_count": 131,
     "metadata": {},
     "output_type": "execute_result"
    }
   ],
   "source": [
    "metrics.accuracy_score(y_test_res_logreg['churn'], y_test_res_logreg['logreg_fin_pred'])"
   ]
  },
  {
   "cell_type": "code",
   "execution_count": 132,
   "metadata": {},
   "outputs": [
    {
     "data": {
      "text/plain": [
       "0.8558441558441559"
      ]
     },
     "execution_count": 132,
     "metadata": {},
     "output_type": "execute_result"
    }
   ],
   "source": [
    "#Sensitivity\n",
    "cm_test_logreg[1,1]/(cm_test_logreg[1,1]+cm_test_logreg[1,0])"
   ]
  },
  {
   "cell_type": "code",
   "execution_count": 133,
   "metadata": {},
   "outputs": [
    {
     "data": {
      "text/plain": [
       "0.8310663104202088"
      ]
     },
     "execution_count": 133,
     "metadata": {},
     "output_type": "execute_result"
    }
   ],
   "source": [
    "#Specificity\n",
    "cm_test_logreg[0,0]/(cm_test_logreg[0,0]+cm_test_logreg[0,1])"
   ]
  },
  {
   "cell_type": "code",
   "execution_count": 134,
   "metadata": {},
   "outputs": [
    {
     "data": {
      "text/plain": [
       "prob           0.480000\n",
       "accuracy       0.832199\n",
       "sensitivity    0.843116\n",
       "specificity    0.831161\n",
       "Name: 0.48, dtype: float64"
      ]
     },
     "execution_count": 134,
     "metadata": {},
     "output_type": "execute_result"
    }
   ],
   "source": [
    "#Train scores\n",
    "cutoff_train_df.loc[0.48,:]"
   ]
  },
  {
   "cell_type": "markdown",
   "metadata": {},
   "source": [
    "Conclusion\n",
    "\n",
    "1) The train and test scores are pretty close and pretty good!\n",
    "\n",
    "2) Can consider this model as it is simple and has good scores!"
   ]
  },
  {
   "cell_type": "markdown",
   "metadata": {},
   "source": [
    "## Random Forest"
   ]
  },
  {
   "cell_type": "code",
   "execution_count": 135,
   "metadata": {},
   "outputs": [],
   "source": [
    "# Loading packages\n",
    "from sklearn.ensemble import RandomForestClassifier\n",
    "from imblearn.metrics import sensitivity_specificity_support\n",
    "from sklearn.ensemble import GradientBoostingClassifier"
   ]
  },
  {
   "cell_type": "code",
   "execution_count": 136,
   "metadata": {},
   "outputs": [
    {
     "data": {
      "text/plain": [
       "RandomForestClassifier()"
      ]
     },
     "execution_count": 136,
     "metadata": {},
     "output_type": "execute_result"
    }
   ],
   "source": [
    "base_rfc = RandomForestClassifier()\n",
    "\n",
    "base_rfc.fit(X_train, y_train)"
   ]
  },
  {
   "cell_type": "code",
   "execution_count": 137,
   "metadata": {},
   "outputs": [],
   "source": [
    "base_train_pred_rfc = base_rfc.predict(X_train)"
   ]
  },
  {
   "cell_type": "code",
   "execution_count": 138,
   "metadata": {},
   "outputs": [
    {
     "data": {
      "text/plain": [
       "array([[19184,     0],\n",
       "       [    2,  1821]], dtype=int64)"
      ]
     },
     "execution_count": 138,
     "metadata": {},
     "output_type": "execute_result"
    }
   ],
   "source": [
    "metrics.confusion_matrix(y_train,base_train_pred_rfc)"
   ]
  },
  {
   "cell_type": "code",
   "execution_count": 139,
   "metadata": {},
   "outputs": [
    {
     "data": {
      "text/plain": [
       "0.9999047936402151"
      ]
     },
     "execution_count": 139,
     "metadata": {},
     "output_type": "execute_result"
    }
   ],
   "source": [
    "metrics.accuracy_score(y_train,base_train_pred_rfc)"
   ]
  },
  {
   "cell_type": "code",
   "execution_count": 140,
   "metadata": {},
   "outputs": [],
   "source": [
    "base_test_pred_rfc = base_rfc.predict(X_test)"
   ]
  },
  {
   "cell_type": "code",
   "execution_count": 141,
   "metadata": {},
   "outputs": [
    {
     "data": {
      "text/plain": [
       "array([[8144,   90],\n",
       "       [ 414,  356]], dtype=int64)"
      ]
     },
     "execution_count": 141,
     "metadata": {},
     "output_type": "execute_result"
    }
   ],
   "source": [
    "metrics.confusion_matrix(y_test,base_test_pred_rfc)"
   ]
  },
  {
   "cell_type": "code",
   "execution_count": 142,
   "metadata": {},
   "outputs": [
    {
     "data": {
      "text/plain": [
       "0.9440248778320747"
      ]
     },
     "execution_count": 142,
     "metadata": {},
     "output_type": "execute_result"
    }
   ],
   "source": [
    "metrics.accuracy_score(y_test,base_test_pred_rfc)"
   ]
  },
  {
   "cell_type": "code",
   "execution_count": 143,
   "metadata": {},
   "outputs": [],
   "source": [
    "# Create the parameter grid based on the results of random search \n",
    "param_grid = {\n",
    "    'max_depth': [10,20,30],\n",
    "    'min_samples_leaf': range(100, 400, 100),\n",
    "    'min_samples_split': range(200, 500, 100),\n",
    "    'n_estimators': [100,200, 300], \n",
    "    'max_features': ['auto'],\n",
    "    'class_weight': ['balanced']\n",
    "}\n",
    "# Create a based model\n",
    "rf = RandomForestClassifier()\n",
    "# Instantiate the grid search model\n",
    "clf_rf = GridSearchCV(estimator = rf, param_grid = param_grid, \n",
    "                          cv = 3, n_jobs = -1,verbose = 1)"
   ]
  },
  {
   "cell_type": "code",
   "execution_count": 144,
   "metadata": {},
   "outputs": [
    {
     "name": "stdout",
     "output_type": "stream",
     "text": [
      "Fitting 3 folds for each of 81 candidates, totalling 243 fits\n"
     ]
    },
    {
     "data": {
      "text/plain": [
       "GridSearchCV(cv=3, estimator=RandomForestClassifier(), n_jobs=-1,\n",
       "             param_grid={'class_weight': ['balanced'],\n",
       "                         'max_depth': [10, 20, 30], 'max_features': ['auto'],\n",
       "                         'min_samples_leaf': range(100, 400, 100),\n",
       "                         'min_samples_split': range(200, 500, 100),\n",
       "                         'n_estimators': [100, 200, 300]},\n",
       "             verbose=1)"
      ]
     },
     "execution_count": 144,
     "metadata": {},
     "output_type": "execute_result"
    }
   ],
   "source": [
    "clf_rf.fit(X_train, y_train)"
   ]
  },
  {
   "cell_type": "code",
   "execution_count": 145,
   "metadata": {},
   "outputs": [
    {
     "data": {
      "text/plain": [
       "{'class_weight': 'balanced',\n",
       " 'max_depth': 20,\n",
       " 'max_features': 'auto',\n",
       " 'min_samples_leaf': 100,\n",
       " 'min_samples_split': 200,\n",
       " 'n_estimators': 300}"
      ]
     },
     "execution_count": 145,
     "metadata": {},
     "output_type": "execute_result"
    }
   ],
   "source": [
    "clf_rf.best_params_"
   ]
  },
  {
   "cell_type": "code",
   "execution_count": 146,
   "metadata": {},
   "outputs": [],
   "source": [
    "#Best params\n",
    "best_rfc = RandomForestClassifier(max_depth=clf_rf.best_params_['max_depth'],\n",
    "                             min_samples_leaf=clf_rf.best_params_['min_samples_leaf'], \n",
    "                             min_samples_split=clf_rf.best_params_['min_samples_split'],\n",
    "                             max_features='auto',\n",
    "                             n_estimators=clf_rf.best_params_['n_estimators'],\n",
    "                             class_weight='balanced')"
   ]
  },
  {
   "cell_type": "code",
   "execution_count": 147,
   "metadata": {},
   "outputs": [
    {
     "data": {
      "text/plain": [
       "RandomForestClassifier(class_weight='balanced', max_depth=20,\n",
       "                       min_samples_leaf=100, min_samples_split=200,\n",
       "                       n_estimators=300)"
      ]
     },
     "execution_count": 147,
     "metadata": {},
     "output_type": "execute_result"
    }
   ],
   "source": [
    "best_rfc.fit(X_train, y_train)"
   ]
  },
  {
   "cell_type": "code",
   "execution_count": 148,
   "metadata": {},
   "outputs": [],
   "source": [
    "y_train_rfc_pred = best_rfc.predict(X_train)"
   ]
  },
  {
   "cell_type": "code",
   "execution_count": 149,
   "metadata": {},
   "outputs": [
    {
     "data": {
      "text/plain": [
       "array([[17303,  1881],\n",
       "       [  293,  1530]], dtype=int64)"
      ]
     },
     "execution_count": 149,
     "metadata": {},
     "output_type": "execute_result"
    }
   ],
   "source": [
    "cm_rfc_train = metrics.confusion_matrix(y_train,y_train_rfc_pred)\n",
    "cm_rfc_train"
   ]
  },
  {
   "cell_type": "code",
   "execution_count": 150,
   "metadata": {},
   "outputs": [
    {
     "data": {
      "text/plain": [
       "0.8965106869138858"
      ]
     },
     "execution_count": 150,
     "metadata": {},
     "output_type": "execute_result"
    }
   ],
   "source": [
    "metrics.accuracy_score(y_train,y_train_rfc_pred)"
   ]
  },
  {
   "cell_type": "code",
   "execution_count": 151,
   "metadata": {},
   "outputs": [
    {
     "data": {
      "text/plain": [
       "0.8392759188151399"
      ]
     },
     "execution_count": 151,
     "metadata": {},
     "output_type": "execute_result"
    }
   ],
   "source": [
    "#Sensitivity\n",
    "cm_rfc_train[1,1]/(cm_rfc_train[1,0]+cm_rfc_train[1,1])"
   ]
  },
  {
   "cell_type": "code",
   "execution_count": 152,
   "metadata": {},
   "outputs": [
    {
     "data": {
      "text/plain": [
       "0.9019495412844036"
      ]
     },
     "execution_count": 152,
     "metadata": {},
     "output_type": "execute_result"
    }
   ],
   "source": [
    "#Specificity\n",
    "cm_rfc_train[0,0]/(cm_rfc_train[0,1]+cm_rfc_train[0,0])"
   ]
  },
  {
   "cell_type": "code",
   "execution_count": 153,
   "metadata": {},
   "outputs": [],
   "source": [
    "y_test_rfc_pred = best_rfc.predict(X_test)"
   ]
  },
  {
   "cell_type": "code",
   "execution_count": 154,
   "metadata": {},
   "outputs": [
    {
     "data": {
      "text/plain": [
       "array([[7449,  785],\n",
       "       [ 135,  635]], dtype=int64)"
      ]
     },
     "execution_count": 154,
     "metadata": {},
     "output_type": "execute_result"
    }
   ],
   "source": [
    "cm_rfc_test = metrics.confusion_matrix(y_test,y_test_rfc_pred)\n",
    "cm_rfc_test"
   ]
  },
  {
   "cell_type": "code",
   "execution_count": 155,
   "metadata": {},
   "outputs": [
    {
     "data": {
      "text/plain": [
       "0.8978231896934695"
      ]
     },
     "execution_count": 155,
     "metadata": {},
     "output_type": "execute_result"
    }
   ],
   "source": [
    "metrics.accuracy_score(y_test,y_test_rfc_pred)"
   ]
  },
  {
   "cell_type": "code",
   "execution_count": 156,
   "metadata": {},
   "outputs": [
    {
     "data": {
      "text/plain": [
       "0.8246753246753247"
      ]
     },
     "execution_count": 156,
     "metadata": {},
     "output_type": "execute_result"
    }
   ],
   "source": [
    "#Sensitivity\n",
    "cm_rfc_test[1,1]/(cm_rfc_test[1,0]+cm_rfc_test[1,1])"
   ]
  },
  {
   "cell_type": "code",
   "execution_count": 157,
   "metadata": {},
   "outputs": [
    {
     "data": {
      "text/plain": [
       "0.9046635899927131"
      ]
     },
     "execution_count": 157,
     "metadata": {},
     "output_type": "execute_result"
    }
   ],
   "source": [
    "#Specificity\n",
    "cm_rfc_test[0,0]/(cm_rfc_test[0,1]+cm_rfc_test[0,0])"
   ]
  },
  {
   "cell_type": "markdown",
   "metadata": {},
   "source": [
    "Conclusion\n",
    "\n",
    "There is a slight decline in sensitivity from train to test scores\n",
    "\n",
    "We can consider this model also but choosing a simple model with good scores over a complex RFC one as it gives comparable scores"
   ]
  },
  {
   "cell_type": "markdown",
   "metadata": {},
   "source": [
    "## DecisionTree"
   ]
  },
  {
   "cell_type": "code",
   "execution_count": 158,
   "metadata": {},
   "outputs": [],
   "source": [
    "# Loading packages\n",
    "from sklearn.tree import DecisionTreeClassifier"
   ]
  },
  {
   "cell_type": "code",
   "execution_count": 159,
   "metadata": {},
   "outputs": [],
   "source": [
    "dt_base = DecisionTreeClassifier(random_state=42, max_depth=4)"
   ]
  },
  {
   "cell_type": "code",
   "execution_count": 160,
   "metadata": {},
   "outputs": [
    {
     "data": {
      "text/plain": [
       "DecisionTreeClassifier(max_depth=4, random_state=42)"
      ]
     },
     "execution_count": 160,
     "metadata": {},
     "output_type": "execute_result"
    }
   ],
   "source": [
    "dt_base.fit(X_train, y_train)"
   ]
  },
  {
   "cell_type": "code",
   "execution_count": 161,
   "metadata": {},
   "outputs": [],
   "source": [
    "y_train_pred = dt_base.predict(X_train)\n",
    "y_test_pred = dt_base.predict(X_test)"
   ]
  },
  {
   "cell_type": "code",
   "execution_count": 162,
   "metadata": {},
   "outputs": [],
   "source": [
    "# Loading packages\n",
    "from sklearn.metrics import classification_report"
   ]
  },
  {
   "cell_type": "code",
   "execution_count": 163,
   "metadata": {},
   "outputs": [
    {
     "name": "stdout",
     "output_type": "stream",
     "text": [
      "              precision    recall  f1-score   support\n",
      "\n",
      "           0       0.96      0.98      0.97      8234\n",
      "           1       0.75      0.51      0.61       770\n",
      "\n",
      "    accuracy                           0.94      9004\n",
      "   macro avg       0.85      0.75      0.79      9004\n",
      "weighted avg       0.94      0.94      0.94      9004\n",
      "\n"
     ]
    }
   ],
   "source": [
    "print(classification_report(y_test, y_test_pred))"
   ]
  },
  {
   "cell_type": "code",
   "execution_count": 164,
   "metadata": {},
   "outputs": [],
   "source": [
    "# Loading packages\n",
    "from sklearn.metrics import plot_roc_curve"
   ]
  },
  {
   "cell_type": "code",
   "execution_count": 165,
   "metadata": {},
   "outputs": [
    {
     "data": {
      "image/png": "[encoded data removed]",
      "text/plain": [
       "<Figure size 432x288 with 1 Axes>"
      ]
     },
     "metadata": {
      "needs_background": "light"
     },
     "output_type": "display_data"
    }
   ],
   "source": [
    "plot_roc_curve(dt_base, X_train, y_train, drop_intermediate=False)\n",
    "plt.show()"
   ]
  },
  {
   "cell_type": "code",
   "execution_count": 166,
   "metadata": {},
   "outputs": [],
   "source": [
    "# Loading packages\n",
    "from sklearn.model_selection import GridSearchCV"
   ]
  },
  {
   "cell_type": "code",
   "execution_count": 167,
   "metadata": {},
   "outputs": [],
   "source": [
    "dt = DecisionTreeClassifier(random_state=42)"
   ]
  },
  {
   "cell_type": "code",
   "execution_count": 168,
   "metadata": {},
   "outputs": [],
   "source": [
    "params = {\n",
    "    \"max_depth\": [2,3,5,10,20],\n",
    "    \"min_samples_leaf\": [5,10,20,50,100,500]\n",
    "}"
   ]
  },
  {
   "cell_type": "code",
   "execution_count": 169,
   "metadata": {},
   "outputs": [],
   "source": [
    "grid_search = GridSearchCV(estimator=dt,\n",
    "                           param_grid=params,\n",
    "                           cv=4,\n",
    "                           n_jobs=-1, verbose=1, scoring=\"accuracy\")"
   ]
  },
  {
   "cell_type": "code",
   "execution_count": 170,
   "metadata": {},
   "outputs": [
    {
     "name": "stdout",
     "output_type": "stream",
     "text": [
      "Fitting 4 folds for each of 30 candidates, totalling 120 fits\n",
      "Wall time: 17.7 s\n"
     ]
    },
    {
     "data": {
      "text/plain": [
       "GridSearchCV(cv=4, estimator=DecisionTreeClassifier(random_state=42), n_jobs=-1,\n",
       "             param_grid={'max_depth': [2, 3, 5, 10, 20],\n",
       "                         'min_samples_leaf': [5, 10, 20, 50, 100, 500]},\n",
       "             scoring='accuracy', verbose=1)"
      ]
     },
     "execution_count": 170,
     "metadata": {},
     "output_type": "execute_result"
    }
   ],
   "source": [
    "%%time\n",
    "grid_search.fit(X_train, y_train)"
   ]
  },
  {
   "cell_type": "code",
   "execution_count": 171,
   "metadata": {},
   "outputs": [
    {
     "data": {
      "text/plain": [
       "0.9375921831448926"
      ]
     },
     "execution_count": 171,
     "metadata": {},
     "output_type": "execute_result"
    }
   ],
   "source": [
    "grid_search.best_score_"
   ]
  },
  {
   "cell_type": "code",
   "execution_count": 172,
   "metadata": {},
   "outputs": [
    {
     "data": {
      "text/plain": [
       "DecisionTreeClassifier(max_depth=2, min_samples_leaf=5, random_state=42)"
      ]
     },
     "execution_count": 172,
     "metadata": {},
     "output_type": "execute_result"
    }
   ],
   "source": [
    "dt_best = grid_search.best_estimator_\n",
    "dt_best"
   ]
  },
  {
   "cell_type": "code",
   "execution_count": 173,
   "metadata": {},
   "outputs": [
    {
     "data": {
      "image/png": "[encoded data removed]",
      "text/plain": [
       "<Figure size 432x288 with 1 Axes>"
      ]
     },
     "metadata": {
      "needs_background": "light"
     },
     "output_type": "display_data"
    }
   ],
   "source": [
    "plot_roc_curve(dt_best, X_train, y_train)\n",
    "plt.show()"
   ]
  },
  {
   "cell_type": "markdown",
   "metadata": {},
   "source": [
    "Conclusion \n",
    "\n",
    "ROC curve is not perfect, so we can leave this model"
   ]
  },
  {
   "cell_type": "markdown",
   "metadata": {},
   "source": [
    "## SMOTE"
   ]
  },
  {
   "cell_type": "code",
   "execution_count": 174,
   "metadata": {},
   "outputs": [],
   "source": [
    "#Handling imbalance with SMOTE\n",
    "from imblearn.over_sampling import SMOTE"
   ]
  },
  {
   "cell_type": "code",
   "execution_count": 175,
   "metadata": {},
   "outputs": [],
   "source": [
    "smote = SMOTE(random_state=0)\n",
    "X_smote, y_smote = smote.fit_resample(X_train, y_train.ravel())"
   ]
  },
  {
   "cell_type": "code",
   "execution_count": 176,
   "metadata": {},
   "outputs": [
    {
     "data": {
      "text/plain": [
       "1    19184\n",
       "0    19184\n",
       "dtype: int64"
      ]
     },
     "execution_count": 176,
     "metadata": {},
     "output_type": "execute_result"
    }
   ],
   "source": [
    "pd.Series(y_smote).value_counts()"
   ]
  },
  {
   "cell_type": "markdown",
   "metadata": {},
   "source": [
    "### Logistic Regression"
   ]
  },
  {
   "cell_type": "code",
   "execution_count": 177,
   "metadata": {},
   "outputs": [],
   "source": [
    "# Loading packages\n",
    "from sklearn.linear_model import LogisticRegression\n",
    "logreg_manual = LogisticRegression(max_iter=2000)"
   ]
  },
  {
   "cell_type": "code",
   "execution_count": 178,
   "metadata": {},
   "outputs": [],
   "source": [
    "#Carrying out feature selection using RFE\n",
    "from sklearn.feature_selection import RFE\n",
    "rfe = RFE(logreg_manual, 15)"
   ]
  },
  {
   "cell_type": "code",
   "execution_count": 179,
   "metadata": {},
   "outputs": [],
   "source": [
    "rfe = rfe.fit(X_smote, y_smote)"
   ]
  },
  {
   "cell_type": "code",
   "execution_count": 180,
   "metadata": {},
   "outputs": [
    {
     "data": {
      "text/plain": [
       "[('loc_og_t2o_mou', False, 145),\n",
       " ('std_og_t2o_mou', False, 144),\n",
       " ('loc_ic_t2o_mou', False, 143),\n",
       " ('arpu_6', False, 8),\n",
       " ('arpu_7', False, 42),\n",
       " ('arpu_8', True, 1),\n",
       " ('onnet_mou_6', False, 35),\n",
       " ('onnet_mou_7', False, 18),\n",
       " ('onnet_mou_8', False, 10),\n",
       " ('offnet_mou_6', False, 36),\n",
       " ('offnet_mou_7', False, 123),\n",
       " ('offnet_mou_8', False, 11),\n",
       " ('roam_ic_mou_6', False, 87),\n",
       " ('roam_ic_mou_7', False, 83),\n",
       " ('roam_ic_mou_8', False, 136),\n",
       " ('roam_og_mou_6', False, 82),\n",
       " ('roam_og_mou_7', False, 118),\n",
       " ('roam_og_mou_8', False, 9),\n",
       " ('loc_og_t2t_mou_6', False, 39),\n",
       " ('loc_og_t2t_mou_7', False, 19),\n",
       " ('loc_og_t2t_mou_8', True, 1),\n",
       " ('loc_og_t2m_mou_6', False, 134),\n",
       " ('loc_og_t2m_mou_7', False, 20),\n",
       " ('loc_og_t2m_mou_8', True, 1),\n",
       " ('loc_og_t2f_mou_6', False, 130),\n",
       " ('loc_og_t2f_mou_7', False, 13),\n",
       " ('loc_og_t2f_mou_8', False, 117),\n",
       " ('loc_og_t2c_mou_6', False, 108),\n",
       " ('loc_og_t2c_mou_7', False, 119),\n",
       " ('loc_og_t2c_mou_8', False, 114),\n",
       " ('loc_og_mou_6', False, 38),\n",
       " ('loc_og_mou_7', False, 21),\n",
       " ('loc_og_mou_8', True, 1),\n",
       " ('std_og_t2t_mou_6', False, 104),\n",
       " ('std_og_t2t_mou_7', False, 17),\n",
       " ('std_og_t2t_mou_8', True, 1),\n",
       " ('std_og_t2m_mou_6', False, 127),\n",
       " ('std_og_t2m_mou_7', False, 111),\n",
       " ('std_og_t2m_mou_8', True, 1),\n",
       " ('std_og_t2f_mou_6', False, 113),\n",
       " ('std_og_t2f_mou_7', False, 128),\n",
       " ('std_og_t2f_mou_8', False, 66),\n",
       " ('std_og_t2c_mou_6', False, 138),\n",
       " ('std_og_t2c_mou_7', False, 140),\n",
       " ('std_og_t2c_mou_8', False, 142),\n",
       " ('std_og_mou_6', False, 67),\n",
       " ('std_og_mou_7', False, 129),\n",
       " ('std_og_mou_8', True, 1),\n",
       " ('isd_og_mou_6', False, 99),\n",
       " ('isd_og_mou_7', False, 103),\n",
       " ('isd_og_mou_8', False, 61),\n",
       " ('spl_og_mou_6', False, 65),\n",
       " ('spl_og_mou_7', False, 135),\n",
       " ('spl_og_mou_8', False, 64),\n",
       " ('og_others_6', False, 80),\n",
       " ('og_others_7', False, 121),\n",
       " ('og_others_8', False, 122),\n",
       " ('total_og_mou_6', False, 32),\n",
       " ('total_og_mou_7', False, 73),\n",
       " ('total_og_mou_8', True, 1),\n",
       " ('loc_ic_t2t_mou_6', False, 63),\n",
       " ('loc_ic_t2t_mou_7', False, 89),\n",
       " ('loc_ic_t2t_mou_8', False, 62),\n",
       " ('loc_ic_t2m_mou_6', False, 29),\n",
       " ('loc_ic_t2m_mou_7', False, 91),\n",
       " ('loc_ic_t2m_mou_8', False, 47),\n",
       " ('loc_ic_t2f_mou_6', False, 27),\n",
       " ('loc_ic_t2f_mou_7', False, 124),\n",
       " ('loc_ic_t2f_mou_8', False, 126),\n",
       " ('loc_ic_mou_6', False, 93),\n",
       " ('loc_ic_mou_7', False, 90),\n",
       " ('loc_ic_mou_8', False, 4),\n",
       " ('std_ic_t2t_mou_6', False, 68),\n",
       " ('std_ic_t2t_mou_7', False, 97),\n",
       " ('std_ic_t2t_mou_8', False, 14),\n",
       " ('std_ic_t2m_mou_6', False, 49),\n",
       " ('std_ic_t2m_mou_7', False, 45),\n",
       " ('std_ic_t2m_mou_8', False, 15),\n",
       " ('std_ic_t2f_mou_6', False, 106),\n",
       " ('std_ic_t2f_mou_7', False, 98),\n",
       " ('std_ic_t2f_mou_8', False, 30),\n",
       " ('std_ic_t2o_mou_6', False, 141),\n",
       " ('std_ic_t2o_mou_7', False, 139),\n",
       " ('std_ic_t2o_mou_8', False, 137),\n",
       " ('std_ic_mou_6', False, 105),\n",
       " ('std_ic_mou_7', False, 46),\n",
       " ('std_ic_mou_8', False, 5),\n",
       " ('total_ic_mou_6', False, 48),\n",
       " ('total_ic_mou_7', True, 1),\n",
       " ('total_ic_mou_8', True, 1),\n",
       " ('spl_ic_mou_6', False, 132),\n",
       " ('spl_ic_mou_7', False, 86),\n",
       " ('spl_ic_mou_8', False, 3),\n",
       " ('isd_ic_mou_6', False, 50),\n",
       " ('isd_ic_mou_7', False, 52),\n",
       " ('isd_ic_mou_8', False, 6),\n",
       " ('ic_others_6', False, 94),\n",
       " ('ic_others_7', False, 74),\n",
       " ('ic_others_8', False, 95),\n",
       " ('total_rech_num_6', False, 81),\n",
       " ('total_rech_num_7', False, 26),\n",
       " ('total_rech_num_8', False, 12),\n",
       " ('total_rech_amt_6', False, 44),\n",
       " ('total_rech_amt_7', False, 115),\n",
       " ('total_rech_amt_8', False, 41),\n",
       " ('max_rech_amt_6', False, 77),\n",
       " ('max_rech_amt_7', False, 78),\n",
       " ('max_rech_amt_8', False, 37),\n",
       " ('last_day_rch_amt_6', False, 125),\n",
       " ('last_day_rch_amt_7', False, 79),\n",
       " ('last_day_rch_amt_8', False, 2),\n",
       " ('total_rech_data_6', False, 70),\n",
       " ('total_rech_data_7', False, 101),\n",
       " ('total_rech_data_8', False, 56),\n",
       " ('max_rech_data_6', False, 75),\n",
       " ('max_rech_data_7', False, 22),\n",
       " ('max_rech_data_8', False, 96),\n",
       " ('av_rech_amt_data_6', False, 33),\n",
       " ('av_rech_amt_data_7', False, 60),\n",
       " ('av_rech_amt_data_8', False, 131),\n",
       " ('vol_2g_mb_6', False, 107),\n",
       " ('vol_2g_mb_7', False, 116),\n",
       " ('vol_2g_mb_8', False, 76),\n",
       " ('vol_3g_mb_6', False, 34),\n",
       " ('vol_3g_mb_7', False, 51),\n",
       " ('vol_3g_mb_8', False, 31),\n",
       " ('night_pck_user_6', True, 1),\n",
       " ('night_pck_user_7', False, 25),\n",
       " ('night_pck_user_8', False, 133),\n",
       " ('monthly_2g_6', False, 24),\n",
       " ('monthly_2g_7', False, 102),\n",
       " ('monthly_2g_8', False, 84),\n",
       " ('sachet_2g_6', False, 71),\n",
       " ('sachet_2g_7', False, 100),\n",
       " ('sachet_2g_8', False, 57),\n",
       " ('monthly_3g_6', False, 69),\n",
       " ('monthly_3g_7', False, 59),\n",
       " ('monthly_3g_8', False, 85),\n",
       " ('sachet_3g_6', False, 72),\n",
       " ('sachet_3g_7', False, 58),\n",
       " ('sachet_3g_8', False, 112),\n",
       " ('fb_user_6', True, 1),\n",
       " ('fb_user_7', False, 28),\n",
       " ('fb_user_8', True, 1),\n",
       " ('aon', False, 7),\n",
       " ('aug_vbc_3g', False, 110),\n",
       " ('jul_vbc_3g', False, 120),\n",
       " ('jun_vbc_3g', False, 88),\n",
       " ('sep_vbc_3g', True, 1),\n",
       " ('avg_rech_amt_6_7', False, 43),\n",
       " ('total_og_mou_diff', False, 16),\n",
       " ('data_recharge_6', False, 92),\n",
       " ('data_recharge_7', False, 54),\n",
       " ('data_recharge_8', False, 55),\n",
       " ('data_recharge_diff', False, 53),\n",
       " ('vol_2g_mb_diff', False, 40),\n",
       " ('vol_3g_mb_diff', False, 109),\n",
       " ('max_rech_data_diff', False, 23),\n",
       " ('arpu_diff', True, 1)]"
      ]
     },
     "execution_count": 180,
     "metadata": {},
     "output_type": "execute_result"
    }
   ],
   "source": [
    "list(zip(X_train.columns, rfe.support_, rfe.ranking_))"
   ]
  },
  {
   "cell_type": "code",
   "execution_count": 181,
   "metadata": {},
   "outputs": [
    {
     "data": {
      "text/plain": [
       "Index(['arpu_8', 'loc_og_t2t_mou_8', 'loc_og_t2m_mou_8', 'loc_og_mou_8',\n",
       "       'std_og_t2t_mou_8', 'std_og_t2m_mou_8', 'std_og_mou_8',\n",
       "       'total_og_mou_8', 'total_ic_mou_7', 'total_ic_mou_8',\n",
       "       'night_pck_user_6', 'fb_user_6', 'fb_user_8', 'sep_vbc_3g',\n",
       "       'arpu_diff'],\n",
       "      dtype='object')"
      ]
     },
     "execution_count": 181,
     "metadata": {},
     "output_type": "execute_result"
    }
   ],
   "source": [
    "#Picking the top 15 features\n",
    "col = X_smote.columns[rfe.support_]\n",
    "col"
   ]
  },
  {
   "cell_type": "code",
   "execution_count": 182,
   "metadata": {},
   "outputs": [
    {
     "data": {
      "image/png": "[encoded data removed]",
      "text/plain": [
       "<Figure size 1440x720 with 2 Axes>"
      ]
     },
     "metadata": {
      "needs_background": "light"
     },
     "output_type": "display_data"
    }
   ],
   "source": [
    "#Checking correlation matrix\n",
    "plt.figure(figsize = (20,10))\n",
    "sns.heatmap(X_smote[col].corr(),annot = True)\n",
    "plt.show()"
   ]
  },
  {
   "cell_type": "code",
   "execution_count": 183,
   "metadata": {},
   "outputs": [],
   "source": [
    "import statsmodels.api as sm"
   ]
  },
  {
   "cell_type": "code",
   "execution_count": 184,
   "metadata": {},
   "outputs": [
    {
     "data": {
      "text/html": [
       "<table class=\"simpletable\">\n",
       "<caption>Generalized Linear Model Regression Results</caption>\n",
       "<tr>\n",
       "  <th>Dep. Variable:</th>           <td>y</td>        <th>  No. Observations:  </th>  <td> 38368</td> \n",
       "</tr>\n",
       "<tr>\n",
       "  <th>Model:</th>                  <td>GLM</td>       <th>  Df Residuals:      </th>  <td> 38352</td> \n",
       "</tr>\n",
       "<tr>\n",
       "  <th>Model Family:</th>        <td>Binomial</td>     <th>  Df Model:          </th>  <td>    15</td> \n",
       "</tr>\n",
       "<tr>\n",
       "  <th>Link Function:</th>         <td>logit</td>      <th>  Scale:             </th> <td>  1.0000</td>\n",
       "</tr>\n",
       "<tr>\n",
       "  <th>Method:</th>                <td>IRLS</td>       <th>  Log-Likelihood:    </th> <td> -15314.</td>\n",
       "</tr>\n",
       "<tr>\n",
       "  <th>Date:</th>            <td>Mon, 05 Apr 2021</td> <th>  Deviance:          </th> <td>  30628.</td>\n",
       "</tr>\n",
       "<tr>\n",
       "  <th>Time:</th>                <td>21:17:35</td>     <th>  Pearson chi2:      </th> <td>9.12e+06</td>\n",
       "</tr>\n",
       "<tr>\n",
       "  <th>No. Iterations:</th>          <td>8</td>        <th>                     </th>     <td> </td>   \n",
       "</tr>\n",
       "<tr>\n",
       "  <th>Covariance Type:</th>     <td>nonrobust</td>    <th>                     </th>     <td> </td>   \n",
       "</tr>\n",
       "</table>\n",
       "<table class=\"simpletable\">\n",
       "<tr>\n",
       "          <td></td>            <th>coef</th>     <th>std err</th>      <th>z</th>      <th>P>|z|</th>  <th>[0.025</th>    <th>0.975]</th>  \n",
       "</tr>\n",
       "<tr>\n",
       "  <th>const</th>            <td>   -3.4628</td> <td>    0.102</td> <td>  -33.989</td> <td> 0.000</td> <td>   -3.662</td> <td>   -3.263</td>\n",
       "</tr>\n",
       "<tr>\n",
       "  <th>arpu_8</th>           <td>    0.4303</td> <td>    0.028</td> <td>   15.424</td> <td> 0.000</td> <td>    0.376</td> <td>    0.485</td>\n",
       "</tr>\n",
       "<tr>\n",
       "  <th>loc_og_t2t_mou_8</th> <td>   -0.5360</td> <td>    0.123</td> <td>   -4.352</td> <td> 0.000</td> <td>   -0.777</td> <td>   -0.295</td>\n",
       "</tr>\n",
       "<tr>\n",
       "  <th>loc_og_t2m_mou_8</th> <td>   -0.9934</td> <td>    0.170</td> <td>   -5.846</td> <td> 0.000</td> <td>   -1.326</td> <td>   -0.660</td>\n",
       "</tr>\n",
       "<tr>\n",
       "  <th>loc_og_mou_8</th>     <td>    2.6674</td> <td>    0.255</td> <td>   10.462</td> <td> 0.000</td> <td>    2.168</td> <td>    3.167</td>\n",
       "</tr>\n",
       "<tr>\n",
       "  <th>std_og_t2t_mou_8</th> <td>   -1.1650</td> <td>    0.074</td> <td>  -15.738</td> <td> 0.000</td> <td>   -1.310</td> <td>   -1.020</td>\n",
       "</tr>\n",
       "<tr>\n",
       "  <th>std_og_t2m_mou_8</th> <td>   -1.1706</td> <td>    0.071</td> <td>  -16.415</td> <td> 0.000</td> <td>   -1.310</td> <td>   -1.031</td>\n",
       "</tr>\n",
       "<tr>\n",
       "  <th>std_og_mou_8</th>     <td>    5.6828</td> <td>    0.170</td> <td>   33.360</td> <td> 0.000</td> <td>    5.349</td> <td>    6.017</td>\n",
       "</tr>\n",
       "<tr>\n",
       "  <th>total_og_mou_8</th>   <td>   -4.9435</td> <td>    0.133</td> <td>  -37.087</td> <td> 0.000</td> <td>   -5.205</td> <td>   -4.682</td>\n",
       "</tr>\n",
       "<tr>\n",
       "  <th>total_ic_mou_7</th>   <td>    0.6765</td> <td>    0.035</td> <td>   19.280</td> <td> 0.000</td> <td>    0.608</td> <td>    0.745</td>\n",
       "</tr>\n",
       "<tr>\n",
       "  <th>total_ic_mou_8</th>   <td>   -1.6806</td> <td>    0.053</td> <td>  -31.684</td> <td> 0.000</td> <td>   -1.785</td> <td>   -1.577</td>\n",
       "</tr>\n",
       "<tr>\n",
       "  <th>night_pck_user_6</th> <td>   10.6341</td> <td>    7.407</td> <td>    1.436</td> <td> 0.151</td> <td>   -3.884</td> <td>   25.152</td>\n",
       "</tr>\n",
       "<tr>\n",
       "  <th>fb_user_6</th>        <td>   -2.0268</td> <td>    7.500</td> <td>   -0.270</td> <td> 0.787</td> <td>  -16.726</td> <td>   12.673</td>\n",
       "</tr>\n",
       "<tr>\n",
       "  <th>fb_user_8</th>        <td>    9.8480</td> <td>    0.405</td> <td>   24.294</td> <td> 0.000</td> <td>    9.054</td> <td>   10.643</td>\n",
       "</tr>\n",
       "<tr>\n",
       "  <th>sep_vbc_3g</th>       <td>   -0.9054</td> <td>    0.079</td> <td>  -11.508</td> <td> 0.000</td> <td>   -1.060</td> <td>   -0.751</td>\n",
       "</tr>\n",
       "<tr>\n",
       "  <th>arpu_diff</th>        <td>   -0.6143</td> <td>    0.021</td> <td>  -29.920</td> <td> 0.000</td> <td>   -0.655</td> <td>   -0.574</td>\n",
       "</tr>\n",
       "</table>"
      ],
      "text/plain": [
       "<class 'statsmodels.iolib.summary.Summary'>\n",
       "\"\"\"\n",
       "                 Generalized Linear Model Regression Results                  \n",
       "==============================================================================\n",
       "Dep. Variable:                      y   No. Observations:                38368\n",
       "Model:                            GLM   Df Residuals:                    38352\n",
       "Model Family:                Binomial   Df Model:                           15\n",
       "Link Function:                  logit   Scale:                          1.0000\n",
       "Method:                          IRLS   Log-Likelihood:                -15314.\n",
       "Date:                Mon, 05 Apr 2021   Deviance:                       30628.\n",
       "Time:                        21:17:35   Pearson chi2:                 9.12e+06\n",
       "No. Iterations:                     8                                         \n",
       "Covariance Type:            nonrobust                                         \n",
       "====================================================================================\n",
       "                       coef    std err          z      P>|z|      [0.025      0.975]\n",
       "------------------------------------------------------------------------------------\n",
       "const               -3.4628      0.102    -33.989      0.000      -3.662      -3.263\n",
       "arpu_8               0.4303      0.028     15.424      0.000       0.376       0.485\n",
       "loc_og_t2t_mou_8    -0.5360      0.123     -4.352      0.000      -0.777      -0.295\n",
       "loc_og_t2m_mou_8    -0.9934      0.170     -5.846      0.000      -1.326      -0.660\n",
       "loc_og_mou_8         2.6674      0.255     10.462      0.000       2.168       3.167\n",
       "std_og_t2t_mou_8    -1.1650      0.074    -15.738      0.000      -1.310      -1.020\n",
       "std_og_t2m_mou_8    -1.1706      0.071    -16.415      0.000      -1.310      -1.031\n",
       "std_og_mou_8         5.6828      0.170     33.360      0.000       5.349       6.017\n",
       "total_og_mou_8      -4.9435      0.133    -37.087      0.000      -5.205      -4.682\n",
       "total_ic_mou_7       0.6765      0.035     19.280      0.000       0.608       0.745\n",
       "total_ic_mou_8      -1.6806      0.053    -31.684      0.000      -1.785      -1.577\n",
       "night_pck_user_6    10.6341      7.407      1.436      0.151      -3.884      25.152\n",
       "fb_user_6           -2.0268      7.500     -0.270      0.787     -16.726      12.673\n",
       "fb_user_8            9.8480      0.405     24.294      0.000       9.054      10.643\n",
       "sep_vbc_3g          -0.9054      0.079    -11.508      0.000      -1.060      -0.751\n",
       "arpu_diff           -0.6143      0.021    -29.920      0.000      -0.655      -0.574\n",
       "====================================================================================\n",
       "\"\"\""
      ]
     },
     "execution_count": 184,
     "metadata": {},
     "output_type": "execute_result"
    }
   ],
   "source": [
    "X_train_sm = sm.add_constant(X_smote[col])\n",
    "logr = sm.GLM(y_smote,X_train_sm, family = sm.families.Binomial())\n",
    "res = logr.fit()\n",
    "res.summary()"
   ]
  },
  {
   "cell_type": "code",
   "execution_count": 185,
   "metadata": {},
   "outputs": [],
   "source": [
    "# Check for the VIF values of the feature variables. \n",
    "from statsmodels.stats.outliers_influence import variance_inflation_factor"
   ]
  },
  {
   "cell_type": "code",
   "execution_count": 186,
   "metadata": {},
   "outputs": [
    {
     "data": {
      "text/html": [
       "<div>\n",
       "<style scoped>\n",
       "    .dataframe tbody tr th:only-of-type {\n",
       "        vertical-align: middle;\n",
       "    }\n",
       "\n",
       "    .dataframe tbody tr th {\n",
       "        vertical-align: top;\n",
       "    }\n",
       "\n",
       "    .dataframe thead th {\n",
       "        text-align: right;\n",
       "    }\n",
       "</style>\n",
       "<table border=\"1\" class=\"dataframe\">\n",
       "  <thead>\n",
       "    <tr style=\"text-align: right;\">\n",
       "      <th></th>\n",
       "      <th>Features</th>\n",
       "      <th>VIF</th>\n",
       "    </tr>\n",
       "  </thead>\n",
       "  <tbody>\n",
       "    <tr>\n",
       "      <th>11</th>\n",
       "      <td>fb_user_6</td>\n",
       "      <td>2126.56</td>\n",
       "    </tr>\n",
       "    <tr>\n",
       "      <th>10</th>\n",
       "      <td>night_pck_user_6</td>\n",
       "      <td>2113.79</td>\n",
       "    </tr>\n",
       "    <tr>\n",
       "      <th>6</th>\n",
       "      <td>std_og_mou_8</td>\n",
       "      <td>60.41</td>\n",
       "    </tr>\n",
       "    <tr>\n",
       "      <th>3</th>\n",
       "      <td>loc_og_mou_8</td>\n",
       "      <td>57.75</td>\n",
       "    </tr>\n",
       "    <tr>\n",
       "      <th>7</th>\n",
       "      <td>total_og_mou_8</td>\n",
       "      <td>25.98</td>\n",
       "    </tr>\n",
       "    <tr>\n",
       "      <th>2</th>\n",
       "      <td>loc_og_t2m_mou_8</td>\n",
       "      <td>24.09</td>\n",
       "    </tr>\n",
       "    <tr>\n",
       "      <th>4</th>\n",
       "      <td>std_og_t2t_mou_8</td>\n",
       "      <td>19.18</td>\n",
       "    </tr>\n",
       "    <tr>\n",
       "      <th>5</th>\n",
       "      <td>std_og_t2m_mou_8</td>\n",
       "      <td>16.50</td>\n",
       "    </tr>\n",
       "    <tr>\n",
       "      <th>1</th>\n",
       "      <td>loc_og_t2t_mou_8</td>\n",
       "      <td>11.60</td>\n",
       "    </tr>\n",
       "    <tr>\n",
       "      <th>12</th>\n",
       "      <td>fb_user_8</td>\n",
       "      <td>10.98</td>\n",
       "    </tr>\n",
       "    <tr>\n",
       "      <th>9</th>\n",
       "      <td>total_ic_mou_8</td>\n",
       "      <td>4.35</td>\n",
       "    </tr>\n",
       "    <tr>\n",
       "      <th>0</th>\n",
       "      <td>arpu_8</td>\n",
       "      <td>3.55</td>\n",
       "    </tr>\n",
       "    <tr>\n",
       "      <th>8</th>\n",
       "      <td>total_ic_mou_7</td>\n",
       "      <td>2.99</td>\n",
       "    </tr>\n",
       "    <tr>\n",
       "      <th>14</th>\n",
       "      <td>arpu_diff</td>\n",
       "      <td>2.33</td>\n",
       "    </tr>\n",
       "    <tr>\n",
       "      <th>13</th>\n",
       "      <td>sep_vbc_3g</td>\n",
       "      <td>1.07</td>\n",
       "    </tr>\n",
       "  </tbody>\n",
       "</table>\n",
       "</div>"
      ],
      "text/plain": [
       "            Features      VIF\n",
       "11         fb_user_6  2126.56\n",
       "10  night_pck_user_6  2113.79\n",
       "6       std_og_mou_8    60.41\n",
       "3       loc_og_mou_8    57.75\n",
       "7     total_og_mou_8    25.98\n",
       "2   loc_og_t2m_mou_8    24.09\n",
       "4   std_og_t2t_mou_8    19.18\n",
       "5   std_og_t2m_mou_8    16.50\n",
       "1   loc_og_t2t_mou_8    11.60\n",
       "12         fb_user_8    10.98\n",
       "9     total_ic_mou_8     4.35\n",
       "0             arpu_8     3.55\n",
       "8     total_ic_mou_7     2.99\n",
       "14         arpu_diff     2.33\n",
       "13        sep_vbc_3g     1.07"
      ]
     },
     "execution_count": 186,
     "metadata": {},
     "output_type": "execute_result"
    }
   ],
   "source": [
    "# Create a dataframe that will contain the names of all the feature variables and their respective VIFs\n",
    "vif = pd.DataFrame()\n",
    "vif['Features'] = X_smote[col].columns\n",
    "vif['VIF'] = [variance_inflation_factor(X_smote[col].values, i) for i in range(X_smote[col].shape[1])]\n",
    "vif['VIF'] = round(vif['VIF'], 2)\n",
    "vif = vif.sort_values(by = \"VIF\", ascending = False)\n",
    "vif"
   ]
  },
  {
   "cell_type": "code",
   "execution_count": 187,
   "metadata": {},
   "outputs": [],
   "source": [
    "#High VIF and high value in correlation matrix (heatmap)\n",
    "col = col.drop('fb_user_6',1)"
   ]
  },
  {
   "cell_type": "code",
   "execution_count": 188,
   "metadata": {},
   "outputs": [
    {
     "data": {
      "text/html": [
       "<table class=\"simpletable\">\n",
       "<caption>Generalized Linear Model Regression Results</caption>\n",
       "<tr>\n",
       "  <th>Dep. Variable:</th>           <td>y</td>        <th>  No. Observations:  </th>  <td> 38368</td> \n",
       "</tr>\n",
       "<tr>\n",
       "  <th>Model:</th>                  <td>GLM</td>       <th>  Df Residuals:      </th>  <td> 38353</td> \n",
       "</tr>\n",
       "<tr>\n",
       "  <th>Model Family:</th>        <td>Binomial</td>     <th>  Df Model:          </th>  <td>    14</td> \n",
       "</tr>\n",
       "<tr>\n",
       "  <th>Link Function:</th>         <td>logit</td>      <th>  Scale:             </th> <td>  1.0000</td>\n",
       "</tr>\n",
       "<tr>\n",
       "  <th>Method:</th>                <td>IRLS</td>       <th>  Log-Likelihood:    </th> <td> -15314.</td>\n",
       "</tr>\n",
       "<tr>\n",
       "  <th>Date:</th>            <td>Mon, 05 Apr 2021</td> <th>  Deviance:          </th> <td>  30629.</td>\n",
       "</tr>\n",
       "<tr>\n",
       "  <th>Time:</th>                <td>21:17:36</td>     <th>  Pearson chi2:      </th> <td>9.12e+06</td>\n",
       "</tr>\n",
       "<tr>\n",
       "  <th>No. Iterations:</th>          <td>8</td>        <th>                     </th>     <td> </td>   \n",
       "</tr>\n",
       "<tr>\n",
       "  <th>Covariance Type:</th>     <td>nonrobust</td>    <th>                     </th>     <td> </td>   \n",
       "</tr>\n",
       "</table>\n",
       "<table class=\"simpletable\">\n",
       "<tr>\n",
       "          <td></td>            <th>coef</th>     <th>std err</th>      <th>z</th>      <th>P>|z|</th>  <th>[0.025</th>    <th>0.975]</th>  \n",
       "</tr>\n",
       "<tr>\n",
       "  <th>const</th>            <td>   -3.4662</td> <td>    0.101</td> <td>  -34.283</td> <td> 0.000</td> <td>   -3.664</td> <td>   -3.268</td>\n",
       "</tr>\n",
       "<tr>\n",
       "  <th>arpu_8</th>           <td>    0.4305</td> <td>    0.028</td> <td>   15.437</td> <td> 0.000</td> <td>    0.376</td> <td>    0.485</td>\n",
       "</tr>\n",
       "<tr>\n",
       "  <th>loc_og_t2t_mou_8</th> <td>   -0.5359</td> <td>    0.123</td> <td>   -4.350</td> <td> 0.000</td> <td>   -0.777</td> <td>   -0.294</td>\n",
       "</tr>\n",
       "<tr>\n",
       "  <th>loc_og_t2m_mou_8</th> <td>   -0.9930</td> <td>    0.170</td> <td>   -5.844</td> <td> 0.000</td> <td>   -1.326</td> <td>   -0.660</td>\n",
       "</tr>\n",
       "<tr>\n",
       "  <th>loc_og_mou_8</th>     <td>    2.6668</td> <td>    0.255</td> <td>   10.459</td> <td> 0.000</td> <td>    2.167</td> <td>    3.166</td>\n",
       "</tr>\n",
       "<tr>\n",
       "  <th>std_og_t2t_mou_8</th> <td>   -1.1655</td> <td>    0.074</td> <td>  -15.750</td> <td> 0.000</td> <td>   -1.311</td> <td>   -1.020</td>\n",
       "</tr>\n",
       "<tr>\n",
       "  <th>std_og_t2m_mou_8</th> <td>   -1.1712</td> <td>    0.071</td> <td>  -16.432</td> <td> 0.000</td> <td>   -1.311</td> <td>   -1.031</td>\n",
       "</tr>\n",
       "<tr>\n",
       "  <th>std_og_mou_8</th>     <td>    5.6837</td> <td>    0.170</td> <td>   33.372</td> <td> 0.000</td> <td>    5.350</td> <td>    6.017</td>\n",
       "</tr>\n",
       "<tr>\n",
       "  <th>total_og_mou_8</th>   <td>   -4.9436</td> <td>    0.133</td> <td>  -37.090</td> <td> 0.000</td> <td>   -5.205</td> <td>   -4.682</td>\n",
       "</tr>\n",
       "<tr>\n",
       "  <th>total_ic_mou_7</th>   <td>    0.6764</td> <td>    0.035</td> <td>   19.278</td> <td> 0.000</td> <td>    0.608</td> <td>    0.745</td>\n",
       "</tr>\n",
       "<tr>\n",
       "  <th>total_ic_mou_8</th>   <td>   -1.6803</td> <td>    0.053</td> <td>  -31.686</td> <td> 0.000</td> <td>   -1.784</td> <td>   -1.576</td>\n",
       "</tr>\n",
       "<tr>\n",
       "  <th>night_pck_user_6</th> <td>    8.6614</td> <td>    1.261</td> <td>    6.871</td> <td> 0.000</td> <td>    6.191</td> <td>   11.132</td>\n",
       "</tr>\n",
       "<tr>\n",
       "  <th>fb_user_8</th>        <td>    9.8355</td> <td>    0.403</td> <td>   24.425</td> <td> 0.000</td> <td>    9.046</td> <td>   10.625</td>\n",
       "</tr>\n",
       "<tr>\n",
       "  <th>sep_vbc_3g</th>       <td>   -0.9051</td> <td>    0.079</td> <td>  -11.507</td> <td> 0.000</td> <td>   -1.059</td> <td>   -0.751</td>\n",
       "</tr>\n",
       "<tr>\n",
       "  <th>arpu_diff</th>        <td>   -0.6146</td> <td>    0.020</td> <td>  -29.980</td> <td> 0.000</td> <td>   -0.655</td> <td>   -0.574</td>\n",
       "</tr>\n",
       "</table>"
      ],
      "text/plain": [
       "<class 'statsmodels.iolib.summary.Summary'>\n",
       "\"\"\"\n",
       "                 Generalized Linear Model Regression Results                  \n",
       "==============================================================================\n",
       "Dep. Variable:                      y   No. Observations:                38368\n",
       "Model:                            GLM   Df Residuals:                    38353\n",
       "Model Family:                Binomial   Df Model:                           14\n",
       "Link Function:                  logit   Scale:                          1.0000\n",
       "Method:                          IRLS   Log-Likelihood:                -15314.\n",
       "Date:                Mon, 05 Apr 2021   Deviance:                       30629.\n",
       "Time:                        21:17:36   Pearson chi2:                 9.12e+06\n",
       "No. Iterations:                     8                                         \n",
       "Covariance Type:            nonrobust                                         \n",
       "====================================================================================\n",
       "                       coef    std err          z      P>|z|      [0.025      0.975]\n",
       "------------------------------------------------------------------------------------\n",
       "const               -3.4662      0.101    -34.283      0.000      -3.664      -3.268\n",
       "arpu_8               0.4305      0.028     15.437      0.000       0.376       0.485\n",
       "loc_og_t2t_mou_8    -0.5359      0.123     -4.350      0.000      -0.777      -0.294\n",
       "loc_og_t2m_mou_8    -0.9930      0.170     -5.844      0.000      -1.326      -0.660\n",
       "loc_og_mou_8         2.6668      0.255     10.459      0.000       2.167       3.166\n",
       "std_og_t2t_mou_8    -1.1655      0.074    -15.750      0.000      -1.311      -1.020\n",
       "std_og_t2m_mou_8    -1.1712      0.071    -16.432      0.000      -1.311      -1.031\n",
       "std_og_mou_8         5.6837      0.170     33.372      0.000       5.350       6.017\n",
       "total_og_mou_8      -4.9436      0.133    -37.090      0.000      -5.205      -4.682\n",
       "total_ic_mou_7       0.6764      0.035     19.278      0.000       0.608       0.745\n",
       "total_ic_mou_8      -1.6803      0.053    -31.686      0.000      -1.784      -1.576\n",
       "night_pck_user_6     8.6614      1.261      6.871      0.000       6.191      11.132\n",
       "fb_user_8            9.8355      0.403     24.425      0.000       9.046      10.625\n",
       "sep_vbc_3g          -0.9051      0.079    -11.507      0.000      -1.059      -0.751\n",
       "arpu_diff           -0.6146      0.020    -29.980      0.000      -0.655      -0.574\n",
       "====================================================================================\n",
       "\"\"\""
      ]
     },
     "execution_count": 188,
     "metadata": {},
     "output_type": "execute_result"
    }
   ],
   "source": [
    "X_train_sm = sm.add_constant(X_smote[col])\n",
    "logr = sm.GLM(y_smote,X_train_sm, family = sm.families.Binomial())\n",
    "res = logr.fit()\n",
    "res.summary()"
   ]
  },
  {
   "cell_type": "code",
   "execution_count": 189,
   "metadata": {},
   "outputs": [
    {
     "data": {
      "text/html": [
       "<div>\n",
       "<style scoped>\n",
       "    .dataframe tbody tr th:only-of-type {\n",
       "        vertical-align: middle;\n",
       "    }\n",
       "\n",
       "    .dataframe tbody tr th {\n",
       "        vertical-align: top;\n",
       "    }\n",
       "\n",
       "    .dataframe thead th {\n",
       "        text-align: right;\n",
       "    }\n",
       "</style>\n",
       "<table border=\"1\" class=\"dataframe\">\n",
       "  <thead>\n",
       "    <tr style=\"text-align: right;\">\n",
       "      <th></th>\n",
       "      <th>Features</th>\n",
       "      <th>VIF</th>\n",
       "    </tr>\n",
       "  </thead>\n",
       "  <tbody>\n",
       "    <tr>\n",
       "      <th>6</th>\n",
       "      <td>std_og_mou_8</td>\n",
       "      <td>60.41</td>\n",
       "    </tr>\n",
       "    <tr>\n",
       "      <th>3</th>\n",
       "      <td>loc_og_mou_8</td>\n",
       "      <td>57.75</td>\n",
       "    </tr>\n",
       "    <tr>\n",
       "      <th>7</th>\n",
       "      <td>total_og_mou_8</td>\n",
       "      <td>25.98</td>\n",
       "    </tr>\n",
       "    <tr>\n",
       "      <th>2</th>\n",
       "      <td>loc_og_t2m_mou_8</td>\n",
       "      <td>24.09</td>\n",
       "    </tr>\n",
       "    <tr>\n",
       "      <th>4</th>\n",
       "      <td>std_og_t2t_mou_8</td>\n",
       "      <td>19.18</td>\n",
       "    </tr>\n",
       "    <tr>\n",
       "      <th>5</th>\n",
       "      <td>std_og_t2m_mou_8</td>\n",
       "      <td>16.50</td>\n",
       "    </tr>\n",
       "    <tr>\n",
       "      <th>1</th>\n",
       "      <td>loc_og_t2t_mou_8</td>\n",
       "      <td>11.60</td>\n",
       "    </tr>\n",
       "    <tr>\n",
       "      <th>11</th>\n",
       "      <td>fb_user_8</td>\n",
       "      <td>10.91</td>\n",
       "    </tr>\n",
       "    <tr>\n",
       "      <th>10</th>\n",
       "      <td>night_pck_user_6</td>\n",
       "      <td>9.71</td>\n",
       "    </tr>\n",
       "    <tr>\n",
       "      <th>9</th>\n",
       "      <td>total_ic_mou_8</td>\n",
       "      <td>4.35</td>\n",
       "    </tr>\n",
       "    <tr>\n",
       "      <th>0</th>\n",
       "      <td>arpu_8</td>\n",
       "      <td>3.55</td>\n",
       "    </tr>\n",
       "    <tr>\n",
       "      <th>8</th>\n",
       "      <td>total_ic_mou_7</td>\n",
       "      <td>2.99</td>\n",
       "    </tr>\n",
       "    <tr>\n",
       "      <th>13</th>\n",
       "      <td>arpu_diff</td>\n",
       "      <td>2.32</td>\n",
       "    </tr>\n",
       "    <tr>\n",
       "      <th>12</th>\n",
       "      <td>sep_vbc_3g</td>\n",
       "      <td>1.07</td>\n",
       "    </tr>\n",
       "  </tbody>\n",
       "</table>\n",
       "</div>"
      ],
      "text/plain": [
       "            Features    VIF\n",
       "6       std_og_mou_8  60.41\n",
       "3       loc_og_mou_8  57.75\n",
       "7     total_og_mou_8  25.98\n",
       "2   loc_og_t2m_mou_8  24.09\n",
       "4   std_og_t2t_mou_8  19.18\n",
       "5   std_og_t2m_mou_8  16.50\n",
       "1   loc_og_t2t_mou_8  11.60\n",
       "11         fb_user_8  10.91\n",
       "10  night_pck_user_6   9.71\n",
       "9     total_ic_mou_8   4.35\n",
       "0             arpu_8   3.55\n",
       "8     total_ic_mou_7   2.99\n",
       "13         arpu_diff   2.32\n",
       "12        sep_vbc_3g   1.07"
      ]
     },
     "execution_count": 189,
     "metadata": {},
     "output_type": "execute_result"
    }
   ],
   "source": [
    "# Create a dataframe that will contain the names of all the feature variables and their respective VIFs\n",
    "vif = pd.DataFrame()\n",
    "vif['Features'] = X_smote[col].columns\n",
    "vif['VIF'] = [variance_inflation_factor(X_smote[col].values, i) for i in range(X_smote[col].shape[1])]\n",
    "vif['VIF'] = round(vif['VIF'], 2)\n",
    "vif = vif.sort_values(by = \"VIF\", ascending = False)\n",
    "vif"
   ]
  },
  {
   "cell_type": "code",
   "execution_count": 190,
   "metadata": {},
   "outputs": [],
   "source": [
    "#High VIF\n",
    "col = col.drop('std_og_mou_8',1)"
   ]
  },
  {
   "cell_type": "code",
   "execution_count": 191,
   "metadata": {},
   "outputs": [
    {
     "data": {
      "text/html": [
       "<table class=\"simpletable\">\n",
       "<caption>Generalized Linear Model Regression Results</caption>\n",
       "<tr>\n",
       "  <th>Dep. Variable:</th>           <td>y</td>        <th>  No. Observations:  </th>  <td> 38368</td> \n",
       "</tr>\n",
       "<tr>\n",
       "  <th>Model:</th>                  <td>GLM</td>       <th>  Df Residuals:      </th>  <td> 38354</td> \n",
       "</tr>\n",
       "<tr>\n",
       "  <th>Model Family:</th>        <td>Binomial</td>     <th>  Df Model:          </th>  <td>    13</td> \n",
       "</tr>\n",
       "<tr>\n",
       "  <th>Link Function:</th>         <td>logit</td>      <th>  Scale:             </th> <td>  1.0000</td>\n",
       "</tr>\n",
       "<tr>\n",
       "  <th>Method:</th>                <td>IRLS</td>       <th>  Log-Likelihood:    </th> <td> -15889.</td>\n",
       "</tr>\n",
       "<tr>\n",
       "  <th>Date:</th>            <td>Mon, 05 Apr 2021</td> <th>  Deviance:          </th> <td>  31777.</td>\n",
       "</tr>\n",
       "<tr>\n",
       "  <th>Time:</th>                <td>21:17:37</td>     <th>  Pearson chi2:      </th> <td>1.55e+05</td>\n",
       "</tr>\n",
       "<tr>\n",
       "  <th>No. Iterations:</th>          <td>8</td>        <th>                     </th>     <td> </td>   \n",
       "</tr>\n",
       "<tr>\n",
       "  <th>Covariance Type:</th>     <td>nonrobust</td>    <th>                     </th>     <td> </td>   \n",
       "</tr>\n",
       "</table>\n",
       "<table class=\"simpletable\">\n",
       "<tr>\n",
       "          <td></td>            <th>coef</th>     <th>std err</th>      <th>z</th>      <th>P>|z|</th>  <th>[0.025</th>    <th>0.975]</th>  \n",
       "</tr>\n",
       "<tr>\n",
       "  <th>const</th>            <td>   -3.2068</td> <td>    0.098</td> <td>  -32.691</td> <td> 0.000</td> <td>   -3.399</td> <td>   -3.015</td>\n",
       "</tr>\n",
       "<tr>\n",
       "  <th>arpu_8</th>           <td>    0.3916</td> <td>    0.028</td> <td>   14.079</td> <td> 0.000</td> <td>    0.337</td> <td>    0.446</td>\n",
       "</tr>\n",
       "<tr>\n",
       "  <th>loc_og_t2t_mou_8</th> <td>   -0.5586</td> <td>    0.112</td> <td>   -5.005</td> <td> 0.000</td> <td>   -0.777</td> <td>   -0.340</td>\n",
       "</tr>\n",
       "<tr>\n",
       "  <th>loc_og_t2m_mou_8</th> <td>   -0.9690</td> <td>    0.149</td> <td>   -6.506</td> <td> 0.000</td> <td>   -1.261</td> <td>   -0.677</td>\n",
       "</tr>\n",
       "<tr>\n",
       "  <th>loc_og_mou_8</th>     <td>    1.6482</td> <td>    0.223</td> <td>    7.405</td> <td> 0.000</td> <td>    1.212</td> <td>    2.085</td>\n",
       "</tr>\n",
       "<tr>\n",
       "  <th>std_og_t2t_mou_8</th> <td>    1.1364</td> <td>    0.053</td> <td>   21.366</td> <td> 0.000</td> <td>    1.032</td> <td>    1.241</td>\n",
       "</tr>\n",
       "<tr>\n",
       "  <th>std_og_t2m_mou_8</th> <td>    1.0348</td> <td>    0.051</td> <td>   20.207</td> <td> 0.000</td> <td>    0.934</td> <td>    1.135</td>\n",
       "</tr>\n",
       "<tr>\n",
       "  <th>total_og_mou_8</th>   <td>   -2.4592</td> <td>    0.094</td> <td>  -26.183</td> <td> 0.000</td> <td>   -2.643</td> <td>   -2.275</td>\n",
       "</tr>\n",
       "<tr>\n",
       "  <th>total_ic_mou_7</th>   <td>    0.6644</td> <td>    0.035</td> <td>   18.972</td> <td> 0.000</td> <td>    0.596</td> <td>    0.733</td>\n",
       "</tr>\n",
       "<tr>\n",
       "  <th>total_ic_mou_8</th>   <td>   -1.8931</td> <td>    0.054</td> <td>  -34.843</td> <td> 0.000</td> <td>   -2.000</td> <td>   -1.787</td>\n",
       "</tr>\n",
       "<tr>\n",
       "  <th>night_pck_user_6</th> <td>    5.5186</td> <td>    1.227</td> <td>    4.496</td> <td> 0.000</td> <td>    3.113</td> <td>    7.924</td>\n",
       "</tr>\n",
       "<tr>\n",
       "  <th>fb_user_8</th>        <td>   10.1898</td> <td>    0.397</td> <td>   25.643</td> <td> 0.000</td> <td>    9.411</td> <td>   10.969</td>\n",
       "</tr>\n",
       "<tr>\n",
       "  <th>sep_vbc_3g</th>       <td>   -0.9010</td> <td>    0.077</td> <td>  -11.632</td> <td> 0.000</td> <td>   -1.053</td> <td>   -0.749</td>\n",
       "</tr>\n",
       "<tr>\n",
       "  <th>arpu_diff</th>        <td>   -0.6764</td> <td>    0.021</td> <td>  -32.421</td> <td> 0.000</td> <td>   -0.717</td> <td>   -0.635</td>\n",
       "</tr>\n",
       "</table>"
      ],
      "text/plain": [
       "<class 'statsmodels.iolib.summary.Summary'>\n",
       "\"\"\"\n",
       "                 Generalized Linear Model Regression Results                  \n",
       "==============================================================================\n",
       "Dep. Variable:                      y   No. Observations:                38368\n",
       "Model:                            GLM   Df Residuals:                    38354\n",
       "Model Family:                Binomial   Df Model:                           13\n",
       "Link Function:                  logit   Scale:                          1.0000\n",
       "Method:                          IRLS   Log-Likelihood:                -15889.\n",
       "Date:                Mon, 05 Apr 2021   Deviance:                       31777.\n",
       "Time:                        21:17:37   Pearson chi2:                 1.55e+05\n",
       "No. Iterations:                     8                                         \n",
       "Covariance Type:            nonrobust                                         \n",
       "====================================================================================\n",
       "                       coef    std err          z      P>|z|      [0.025      0.975]\n",
       "------------------------------------------------------------------------------------\n",
       "const               -3.2068      0.098    -32.691      0.000      -3.399      -3.015\n",
       "arpu_8               0.3916      0.028     14.079      0.000       0.337       0.446\n",
       "loc_og_t2t_mou_8    -0.5586      0.112     -5.005      0.000      -0.777      -0.340\n",
       "loc_og_t2m_mou_8    -0.9690      0.149     -6.506      0.000      -1.261      -0.677\n",
       "loc_og_mou_8         1.6482      0.223      7.405      0.000       1.212       2.085\n",
       "std_og_t2t_mou_8     1.1364      0.053     21.366      0.000       1.032       1.241\n",
       "std_og_t2m_mou_8     1.0348      0.051     20.207      0.000       0.934       1.135\n",
       "total_og_mou_8      -2.4592      0.094    -26.183      0.000      -2.643      -2.275\n",
       "total_ic_mou_7       0.6644      0.035     18.972      0.000       0.596       0.733\n",
       "total_ic_mou_8      -1.8931      0.054    -34.843      0.000      -2.000      -1.787\n",
       "night_pck_user_6     5.5186      1.227      4.496      0.000       3.113       7.924\n",
       "fb_user_8           10.1898      0.397     25.643      0.000       9.411      10.969\n",
       "sep_vbc_3g          -0.9010      0.077    -11.632      0.000      -1.053      -0.749\n",
       "arpu_diff           -0.6764      0.021    -32.421      0.000      -0.717      -0.635\n",
       "====================================================================================\n",
       "\"\"\""
      ]
     },
     "execution_count": 191,
     "metadata": {},
     "output_type": "execute_result"
    }
   ],
   "source": [
    "X_train_sm = sm.add_constant(X_smote[col])\n",
    "logr = sm.GLM(y_smote,X_train_sm, family = sm.families.Binomial())\n",
    "res = logr.fit()\n",
    "res.summary()"
   ]
  },
  {
   "cell_type": "code",
   "execution_count": 192,
   "metadata": {},
   "outputs": [
    {
     "data": {
      "text/html": [
       "<div>\n",
       "<style scoped>\n",
       "    .dataframe tbody tr th:only-of-type {\n",
       "        vertical-align: middle;\n",
       "    }\n",
       "\n",
       "    .dataframe tbody tr th {\n",
       "        vertical-align: top;\n",
       "    }\n",
       "\n",
       "    .dataframe thead th {\n",
       "        text-align: right;\n",
       "    }\n",
       "</style>\n",
       "<table border=\"1\" class=\"dataframe\">\n",
       "  <thead>\n",
       "    <tr style=\"text-align: right;\">\n",
       "      <th></th>\n",
       "      <th>Features</th>\n",
       "      <th>VIF</th>\n",
       "    </tr>\n",
       "  </thead>\n",
       "  <tbody>\n",
       "    <tr>\n",
       "      <th>3</th>\n",
       "      <td>loc_og_mou_8</td>\n",
       "      <td>53.74</td>\n",
       "    </tr>\n",
       "    <tr>\n",
       "      <th>2</th>\n",
       "      <td>loc_og_t2m_mou_8</td>\n",
       "      <td>23.74</td>\n",
       "    </tr>\n",
       "    <tr>\n",
       "      <th>6</th>\n",
       "      <td>total_og_mou_8</td>\n",
       "      <td>17.65</td>\n",
       "    </tr>\n",
       "    <tr>\n",
       "      <th>1</th>\n",
       "      <td>loc_og_t2t_mou_8</td>\n",
       "      <td>11.53</td>\n",
       "    </tr>\n",
       "    <tr>\n",
       "      <th>10</th>\n",
       "      <td>fb_user_8</td>\n",
       "      <td>10.89</td>\n",
       "    </tr>\n",
       "    <tr>\n",
       "      <th>9</th>\n",
       "      <td>night_pck_user_6</td>\n",
       "      <td>9.70</td>\n",
       "    </tr>\n",
       "    <tr>\n",
       "      <th>4</th>\n",
       "      <td>std_og_t2t_mou_8</td>\n",
       "      <td>5.66</td>\n",
       "    </tr>\n",
       "    <tr>\n",
       "      <th>5</th>\n",
       "      <td>std_og_t2m_mou_8</td>\n",
       "      <td>4.88</td>\n",
       "    </tr>\n",
       "    <tr>\n",
       "      <th>8</th>\n",
       "      <td>total_ic_mou_8</td>\n",
       "      <td>4.33</td>\n",
       "    </tr>\n",
       "    <tr>\n",
       "      <th>0</th>\n",
       "      <td>arpu_8</td>\n",
       "      <td>3.55</td>\n",
       "    </tr>\n",
       "    <tr>\n",
       "      <th>7</th>\n",
       "      <td>total_ic_mou_7</td>\n",
       "      <td>2.99</td>\n",
       "    </tr>\n",
       "    <tr>\n",
       "      <th>12</th>\n",
       "      <td>arpu_diff</td>\n",
       "      <td>2.30</td>\n",
       "    </tr>\n",
       "    <tr>\n",
       "      <th>11</th>\n",
       "      <td>sep_vbc_3g</td>\n",
       "      <td>1.07</td>\n",
       "    </tr>\n",
       "  </tbody>\n",
       "</table>\n",
       "</div>"
      ],
      "text/plain": [
       "            Features    VIF\n",
       "3       loc_og_mou_8  53.74\n",
       "2   loc_og_t2m_mou_8  23.74\n",
       "6     total_og_mou_8  17.65\n",
       "1   loc_og_t2t_mou_8  11.53\n",
       "10         fb_user_8  10.89\n",
       "9   night_pck_user_6   9.70\n",
       "4   std_og_t2t_mou_8   5.66\n",
       "5   std_og_t2m_mou_8   4.88\n",
       "8     total_ic_mou_8   4.33\n",
       "0             arpu_8   3.55\n",
       "7     total_ic_mou_7   2.99\n",
       "12         arpu_diff   2.30\n",
       "11        sep_vbc_3g   1.07"
      ]
     },
     "execution_count": 192,
     "metadata": {},
     "output_type": "execute_result"
    }
   ],
   "source": [
    "vif = pd.DataFrame()\n",
    "vif['Features'] = X_smote[col].columns\n",
    "vif['VIF'] = [variance_inflation_factor(X_smote[col].values, i) for i in range(X_smote[col].shape[1])]\n",
    "vif['VIF'] = round(vif['VIF'], 2)\n",
    "vif = vif.sort_values(by = \"VIF\", ascending = False)\n",
    "vif"
   ]
  },
  {
   "cell_type": "code",
   "execution_count": 193,
   "metadata": {},
   "outputs": [],
   "source": [
    "#High VIF\n",
    "col = col.drop('loc_og_mou_8',1)"
   ]
  },
  {
   "cell_type": "code",
   "execution_count": 194,
   "metadata": {},
   "outputs": [
    {
     "data": {
      "text/html": [
       "<table class=\"simpletable\">\n",
       "<caption>Generalized Linear Model Regression Results</caption>\n",
       "<tr>\n",
       "  <th>Dep. Variable:</th>           <td>y</td>        <th>  No. Observations:  </th>  <td> 38368</td> \n",
       "</tr>\n",
       "<tr>\n",
       "  <th>Model:</th>                  <td>GLM</td>       <th>  Df Residuals:      </th>  <td> 38355</td> \n",
       "</tr>\n",
       "<tr>\n",
       "  <th>Model Family:</th>        <td>Binomial</td>     <th>  Df Model:          </th>  <td>    12</td> \n",
       "</tr>\n",
       "<tr>\n",
       "  <th>Link Function:</th>         <td>logit</td>      <th>  Scale:             </th> <td>  1.0000</td>\n",
       "</tr>\n",
       "<tr>\n",
       "  <th>Method:</th>                <td>IRLS</td>       <th>  Log-Likelihood:    </th> <td> -15910.</td>\n",
       "</tr>\n",
       "<tr>\n",
       "  <th>Date:</th>            <td>Mon, 05 Apr 2021</td> <th>  Deviance:          </th> <td>  31820.</td>\n",
       "</tr>\n",
       "<tr>\n",
       "  <th>Time:</th>                <td>21:17:38</td>     <th>  Pearson chi2:      </th> <td>6.38e+05</td>\n",
       "</tr>\n",
       "<tr>\n",
       "  <th>No. Iterations:</th>          <td>8</td>        <th>                     </th>     <td> </td>   \n",
       "</tr>\n",
       "<tr>\n",
       "  <th>Covariance Type:</th>     <td>nonrobust</td>    <th>                     </th>     <td> </td>   \n",
       "</tr>\n",
       "</table>\n",
       "<table class=\"simpletable\">\n",
       "<tr>\n",
       "          <td></td>            <th>coef</th>     <th>std err</th>      <th>z</th>      <th>P>|z|</th>  <th>[0.025</th>    <th>0.975]</th>  \n",
       "</tr>\n",
       "<tr>\n",
       "  <th>const</th>            <td>   -3.2237</td> <td>    0.098</td> <td>  -32.863</td> <td> 0.000</td> <td>   -3.416</td> <td>   -3.031</td>\n",
       "</tr>\n",
       "<tr>\n",
       "  <th>arpu_8</th>           <td>    0.3988</td> <td>    0.028</td> <td>   14.277</td> <td> 0.000</td> <td>    0.344</td> <td>    0.454</td>\n",
       "</tr>\n",
       "<tr>\n",
       "  <th>loc_og_t2t_mou_8</th> <td>    0.2124</td> <td>    0.038</td> <td>    5.649</td> <td> 0.000</td> <td>    0.139</td> <td>    0.286</td>\n",
       "</tr>\n",
       "<tr>\n",
       "  <th>loc_og_t2m_mou_8</th> <td>    0.1061</td> <td>    0.040</td> <td>    2.625</td> <td> 0.009</td> <td>    0.027</td> <td>    0.185</td>\n",
       "</tr>\n",
       "<tr>\n",
       "  <th>std_og_t2t_mou_8</th> <td>    1.0736</td> <td>    0.052</td> <td>   20.568</td> <td> 0.000</td> <td>    0.971</td> <td>    1.176</td>\n",
       "</tr>\n",
       "<tr>\n",
       "  <th>std_og_t2m_mou_8</th> <td>    0.9750</td> <td>    0.050</td> <td>   19.399</td> <td> 0.000</td> <td>    0.876</td> <td>    1.073</td>\n",
       "</tr>\n",
       "<tr>\n",
       "  <th>total_og_mou_8</th>   <td>   -2.3581</td> <td>    0.092</td> <td>  -25.510</td> <td> 0.000</td> <td>   -2.539</td> <td>   -2.177</td>\n",
       "</tr>\n",
       "<tr>\n",
       "  <th>total_ic_mou_7</th>   <td>    0.6591</td> <td>    0.035</td> <td>   18.838</td> <td> 0.000</td> <td>    0.591</td> <td>    0.728</td>\n",
       "</tr>\n",
       "<tr>\n",
       "  <th>total_ic_mou_8</th>   <td>   -1.8918</td> <td>    0.055</td> <td>  -34.655</td> <td> 0.000</td> <td>   -1.999</td> <td>   -1.785</td>\n",
       "</tr>\n",
       "<tr>\n",
       "  <th>night_pck_user_6</th> <td>    5.4589</td> <td>    1.226</td> <td>    4.452</td> <td> 0.000</td> <td>    3.056</td> <td>    7.862</td>\n",
       "</tr>\n",
       "<tr>\n",
       "  <th>fb_user_8</th>        <td>   10.2552</td> <td>    0.397</td> <td>   25.821</td> <td> 0.000</td> <td>    9.477</td> <td>   11.034</td>\n",
       "</tr>\n",
       "<tr>\n",
       "  <th>sep_vbc_3g</th>       <td>   -0.8924</td> <td>    0.077</td> <td>  -11.601</td> <td> 0.000</td> <td>   -1.043</td> <td>   -0.742</td>\n",
       "</tr>\n",
       "<tr>\n",
       "  <th>arpu_diff</th>        <td>   -0.6805</td> <td>    0.021</td> <td>  -32.558</td> <td> 0.000</td> <td>   -0.721</td> <td>   -0.640</td>\n",
       "</tr>\n",
       "</table>"
      ],
      "text/plain": [
       "<class 'statsmodels.iolib.summary.Summary'>\n",
       "\"\"\"\n",
       "                 Generalized Linear Model Regression Results                  \n",
       "==============================================================================\n",
       "Dep. Variable:                      y   No. Observations:                38368\n",
       "Model:                            GLM   Df Residuals:                    38355\n",
       "Model Family:                Binomial   Df Model:                           12\n",
       "Link Function:                  logit   Scale:                          1.0000\n",
       "Method:                          IRLS   Log-Likelihood:                -15910.\n",
       "Date:                Mon, 05 Apr 2021   Deviance:                       31820.\n",
       "Time:                        21:17:38   Pearson chi2:                 6.38e+05\n",
       "No. Iterations:                     8                                         \n",
       "Covariance Type:            nonrobust                                         \n",
       "====================================================================================\n",
       "                       coef    std err          z      P>|z|      [0.025      0.975]\n",
       "------------------------------------------------------------------------------------\n",
       "const               -3.2237      0.098    -32.863      0.000      -3.416      -3.031\n",
       "arpu_8               0.3988      0.028     14.277      0.000       0.344       0.454\n",
       "loc_og_t2t_mou_8     0.2124      0.038      5.649      0.000       0.139       0.286\n",
       "loc_og_t2m_mou_8     0.1061      0.040      2.625      0.009       0.027       0.185\n",
       "std_og_t2t_mou_8     1.0736      0.052     20.568      0.000       0.971       1.176\n",
       "std_og_t2m_mou_8     0.9750      0.050     19.399      0.000       0.876       1.073\n",
       "total_og_mou_8      -2.3581      0.092    -25.510      0.000      -2.539      -2.177\n",
       "total_ic_mou_7       0.6591      0.035     18.838      0.000       0.591       0.728\n",
       "total_ic_mou_8      -1.8918      0.055    -34.655      0.000      -1.999      -1.785\n",
       "night_pck_user_6     5.4589      1.226      4.452      0.000       3.056       7.862\n",
       "fb_user_8           10.2552      0.397     25.821      0.000       9.477      11.034\n",
       "sep_vbc_3g          -0.8924      0.077    -11.601      0.000      -1.043      -0.742\n",
       "arpu_diff           -0.6805      0.021    -32.558      0.000      -0.721      -0.640\n",
       "====================================================================================\n",
       "\"\"\""
      ]
     },
     "execution_count": 194,
     "metadata": {},
     "output_type": "execute_result"
    }
   ],
   "source": [
    "X_train_sm = sm.add_constant(X_smote[col])\n",
    "logr = sm.GLM(y_smote,X_train_sm, family = sm.families.Binomial())\n",
    "res = logr.fit()\n",
    "res.summary()"
   ]
  },
  {
   "cell_type": "code",
   "execution_count": 195,
   "metadata": {},
   "outputs": [
    {
     "data": {
      "text/html": [
       "<div>\n",
       "<style scoped>\n",
       "    .dataframe tbody tr th:only-of-type {\n",
       "        vertical-align: middle;\n",
       "    }\n",
       "\n",
       "    .dataframe tbody tr th {\n",
       "        vertical-align: top;\n",
       "    }\n",
       "\n",
       "    .dataframe thead th {\n",
       "        text-align: right;\n",
       "    }\n",
       "</style>\n",
       "<table border=\"1\" class=\"dataframe\">\n",
       "  <thead>\n",
       "    <tr style=\"text-align: right;\">\n",
       "      <th></th>\n",
       "      <th>Features</th>\n",
       "      <th>VIF</th>\n",
       "    </tr>\n",
       "  </thead>\n",
       "  <tbody>\n",
       "    <tr>\n",
       "      <th>5</th>\n",
       "      <td>total_og_mou_8</td>\n",
       "      <td>14.92</td>\n",
       "    </tr>\n",
       "    <tr>\n",
       "      <th>9</th>\n",
       "      <td>fb_user_8</td>\n",
       "      <td>10.88</td>\n",
       "    </tr>\n",
       "    <tr>\n",
       "      <th>8</th>\n",
       "      <td>night_pck_user_6</td>\n",
       "      <td>9.70</td>\n",
       "    </tr>\n",
       "    <tr>\n",
       "      <th>3</th>\n",
       "      <td>std_og_t2t_mou_8</td>\n",
       "      <td>4.87</td>\n",
       "    </tr>\n",
       "    <tr>\n",
       "      <th>7</th>\n",
       "      <td>total_ic_mou_8</td>\n",
       "      <td>4.32</td>\n",
       "    </tr>\n",
       "    <tr>\n",
       "      <th>4</th>\n",
       "      <td>std_og_t2m_mou_8</td>\n",
       "      <td>4.20</td>\n",
       "    </tr>\n",
       "    <tr>\n",
       "      <th>0</th>\n",
       "      <td>arpu_8</td>\n",
       "      <td>3.54</td>\n",
       "    </tr>\n",
       "    <tr>\n",
       "      <th>6</th>\n",
       "      <td>total_ic_mou_7</td>\n",
       "      <td>2.99</td>\n",
       "    </tr>\n",
       "    <tr>\n",
       "      <th>2</th>\n",
       "      <td>loc_og_t2m_mou_8</td>\n",
       "      <td>2.77</td>\n",
       "    </tr>\n",
       "    <tr>\n",
       "      <th>11</th>\n",
       "      <td>arpu_diff</td>\n",
       "      <td>2.30</td>\n",
       "    </tr>\n",
       "    <tr>\n",
       "      <th>1</th>\n",
       "      <td>loc_og_t2t_mou_8</td>\n",
       "      <td>2.06</td>\n",
       "    </tr>\n",
       "    <tr>\n",
       "      <th>10</th>\n",
       "      <td>sep_vbc_3g</td>\n",
       "      <td>1.07</td>\n",
       "    </tr>\n",
       "  </tbody>\n",
       "</table>\n",
       "</div>"
      ],
      "text/plain": [
       "            Features    VIF\n",
       "5     total_og_mou_8  14.92\n",
       "9          fb_user_8  10.88\n",
       "8   night_pck_user_6   9.70\n",
       "3   std_og_t2t_mou_8   4.87\n",
       "7     total_ic_mou_8   4.32\n",
       "4   std_og_t2m_mou_8   4.20\n",
       "0             arpu_8   3.54\n",
       "6     total_ic_mou_7   2.99\n",
       "2   loc_og_t2m_mou_8   2.77\n",
       "11         arpu_diff   2.30\n",
       "1   loc_og_t2t_mou_8   2.06\n",
       "10        sep_vbc_3g   1.07"
      ]
     },
     "execution_count": 195,
     "metadata": {},
     "output_type": "execute_result"
    }
   ],
   "source": [
    "vif = pd.DataFrame()\n",
    "vif['Features'] = X_smote[col].columns\n",
    "vif['VIF'] = [variance_inflation_factor(X_smote[col].values, i) for i in range(X_smote[col].shape[1])]\n",
    "vif['VIF'] = round(vif['VIF'], 2)\n",
    "vif = vif.sort_values(by = \"VIF\", ascending = False)\n",
    "vif"
   ]
  },
  {
   "cell_type": "code",
   "execution_count": 196,
   "metadata": {},
   "outputs": [],
   "source": [
    "#High VIF\n",
    "col = col.drop('total_og_mou_8',1)"
   ]
  },
  {
   "cell_type": "code",
   "execution_count": 197,
   "metadata": {},
   "outputs": [
    {
     "data": {
      "text/html": [
       "<table class=\"simpletable\">\n",
       "<caption>Generalized Linear Model Regression Results</caption>\n",
       "<tr>\n",
       "  <th>Dep. Variable:</th>           <td>y</td>        <th>  No. Observations:  </th>  <td> 38368</td> \n",
       "</tr>\n",
       "<tr>\n",
       "  <th>Model:</th>                  <td>GLM</td>       <th>  Df Residuals:      </th>  <td> 38356</td> \n",
       "</tr>\n",
       "<tr>\n",
       "  <th>Model Family:</th>        <td>Binomial</td>     <th>  Df Model:          </th>  <td>    11</td> \n",
       "</tr>\n",
       "<tr>\n",
       "  <th>Link Function:</th>         <td>logit</td>      <th>  Scale:             </th> <td>  1.0000</td>\n",
       "</tr>\n",
       "<tr>\n",
       "  <th>Method:</th>                <td>IRLS</td>       <th>  Log-Likelihood:    </th> <td> -16329.</td>\n",
       "</tr>\n",
       "<tr>\n",
       "  <th>Date:</th>            <td>Mon, 05 Apr 2021</td> <th>  Deviance:          </th> <td>  32658.</td>\n",
       "</tr>\n",
       "<tr>\n",
       "  <th>Time:</th>                <td>21:17:39</td>     <th>  Pearson chi2:      </th> <td>1.55e+05</td>\n",
       "</tr>\n",
       "<tr>\n",
       "  <th>No. Iterations:</th>          <td>8</td>        <th>                     </th>     <td> </td>   \n",
       "</tr>\n",
       "<tr>\n",
       "  <th>Covariance Type:</th>     <td>nonrobust</td>    <th>                     </th>     <td> </td>   \n",
       "</tr>\n",
       "</table>\n",
       "<table class=\"simpletable\">\n",
       "<tr>\n",
       "          <td></td>            <th>coef</th>     <th>std err</th>      <th>z</th>      <th>P>|z|</th>  <th>[0.025</th>    <th>0.975]</th>  \n",
       "</tr>\n",
       "<tr>\n",
       "  <th>const</th>            <td>   -2.9734</td> <td>    0.096</td> <td>  -31.088</td> <td> 0.000</td> <td>   -3.161</td> <td>   -2.786</td>\n",
       "</tr>\n",
       "<tr>\n",
       "  <th>arpu_8</th>           <td>    0.1140</td> <td>    0.026</td> <td>    4.463</td> <td> 0.000</td> <td>    0.064</td> <td>    0.164</td>\n",
       "</tr>\n",
       "<tr>\n",
       "  <th>loc_og_t2t_mou_8</th> <td>   -0.2645</td> <td>    0.029</td> <td>   -9.278</td> <td> 0.000</td> <td>   -0.320</td> <td>   -0.209</td>\n",
       "</tr>\n",
       "<tr>\n",
       "  <th>loc_og_t2m_mou_8</th> <td>   -0.4613</td> <td>    0.031</td> <td>  -15.060</td> <td> 0.000</td> <td>   -0.521</td> <td>   -0.401</td>\n",
       "</tr>\n",
       "<tr>\n",
       "  <th>std_og_t2t_mou_8</th> <td>   -0.2056</td> <td>    0.017</td> <td>  -11.850</td> <td> 0.000</td> <td>   -0.240</td> <td>   -0.172</td>\n",
       "</tr>\n",
       "<tr>\n",
       "  <th>std_og_t2m_mou_8</th> <td>   -0.2271</td> <td>    0.018</td> <td>  -12.340</td> <td> 0.000</td> <td>   -0.263</td> <td>   -0.191</td>\n",
       "</tr>\n",
       "<tr>\n",
       "  <th>total_ic_mou_7</th>   <td>    0.6574</td> <td>    0.035</td> <td>   18.729</td> <td> 0.000</td> <td>    0.589</td> <td>    0.726</td>\n",
       "</tr>\n",
       "<tr>\n",
       "  <th>total_ic_mou_8</th>   <td>   -2.1731</td> <td>    0.055</td> <td>  -39.695</td> <td> 0.000</td> <td>   -2.280</td> <td>   -2.066</td>\n",
       "</tr>\n",
       "<tr>\n",
       "  <th>night_pck_user_6</th> <td>    3.0168</td> <td>    1.198</td> <td>    2.519</td> <td> 0.012</td> <td>    0.669</td> <td>    5.364</td>\n",
       "</tr>\n",
       "<tr>\n",
       "  <th>fb_user_8</th>        <td>   10.3704</td> <td>    0.394</td> <td>   26.345</td> <td> 0.000</td> <td>    9.599</td> <td>   11.142</td>\n",
       "</tr>\n",
       "<tr>\n",
       "  <th>sep_vbc_3g</th>       <td>   -0.8705</td> <td>    0.076</td> <td>  -11.410</td> <td> 0.000</td> <td>   -1.020</td> <td>   -0.721</td>\n",
       "</tr>\n",
       "<tr>\n",
       "  <th>arpu_diff</th>        <td>   -0.6874</td> <td>    0.020</td> <td>  -33.726</td> <td> 0.000</td> <td>   -0.727</td> <td>   -0.647</td>\n",
       "</tr>\n",
       "</table>"
      ],
      "text/plain": [
       "<class 'statsmodels.iolib.summary.Summary'>\n",
       "\"\"\"\n",
       "                 Generalized Linear Model Regression Results                  \n",
       "==============================================================================\n",
       "Dep. Variable:                      y   No. Observations:                38368\n",
       "Model:                            GLM   Df Residuals:                    38356\n",
       "Model Family:                Binomial   Df Model:                           11\n",
       "Link Function:                  logit   Scale:                          1.0000\n",
       "Method:                          IRLS   Log-Likelihood:                -16329.\n",
       "Date:                Mon, 05 Apr 2021   Deviance:                       32658.\n",
       "Time:                        21:17:39   Pearson chi2:                 1.55e+05\n",
       "No. Iterations:                     8                                         \n",
       "Covariance Type:            nonrobust                                         \n",
       "====================================================================================\n",
       "                       coef    std err          z      P>|z|      [0.025      0.975]\n",
       "------------------------------------------------------------------------------------\n",
       "const               -2.9734      0.096    -31.088      0.000      -3.161      -2.786\n",
       "arpu_8               0.1140      0.026      4.463      0.000       0.064       0.164\n",
       "loc_og_t2t_mou_8    -0.2645      0.029     -9.278      0.000      -0.320      -0.209\n",
       "loc_og_t2m_mou_8    -0.4613      0.031    -15.060      0.000      -0.521      -0.401\n",
       "std_og_t2t_mou_8    -0.2056      0.017    -11.850      0.000      -0.240      -0.172\n",
       "std_og_t2m_mou_8    -0.2271      0.018    -12.340      0.000      -0.263      -0.191\n",
       "total_ic_mou_7       0.6574      0.035     18.729      0.000       0.589       0.726\n",
       "total_ic_mou_8      -2.1731      0.055    -39.695      0.000      -2.280      -2.066\n",
       "night_pck_user_6     3.0168      1.198      2.519      0.012       0.669       5.364\n",
       "fb_user_8           10.3704      0.394     26.345      0.000       9.599      11.142\n",
       "sep_vbc_3g          -0.8705      0.076    -11.410      0.000      -1.020      -0.721\n",
       "arpu_diff           -0.6874      0.020    -33.726      0.000      -0.727      -0.647\n",
       "====================================================================================\n",
       "\"\"\""
      ]
     },
     "execution_count": 197,
     "metadata": {},
     "output_type": "execute_result"
    }
   ],
   "source": [
    "X_train_sm = sm.add_constant(X_smote[col])\n",
    "logr = sm.GLM(y_smote,X_train_sm, family = sm.families.Binomial())\n",
    "res = logr.fit()\n",
    "res.summary()"
   ]
  },
  {
   "cell_type": "code",
   "execution_count": 198,
   "metadata": {},
   "outputs": [
    {
     "data": {
      "text/html": [
       "<div>\n",
       "<style scoped>\n",
       "    .dataframe tbody tr th:only-of-type {\n",
       "        vertical-align: middle;\n",
       "    }\n",
       "\n",
       "    .dataframe tbody tr th {\n",
       "        vertical-align: top;\n",
       "    }\n",
       "\n",
       "    .dataframe thead th {\n",
       "        text-align: right;\n",
       "    }\n",
       "</style>\n",
       "<table border=\"1\" class=\"dataframe\">\n",
       "  <thead>\n",
       "    <tr style=\"text-align: right;\">\n",
       "      <th></th>\n",
       "      <th>Features</th>\n",
       "      <th>VIF</th>\n",
       "    </tr>\n",
       "  </thead>\n",
       "  <tbody>\n",
       "    <tr>\n",
       "      <th>8</th>\n",
       "      <td>fb_user_8</td>\n",
       "      <td>10.88</td>\n",
       "    </tr>\n",
       "    <tr>\n",
       "      <th>7</th>\n",
       "      <td>night_pck_user_6</td>\n",
       "      <td>9.70</td>\n",
       "    </tr>\n",
       "    <tr>\n",
       "      <th>6</th>\n",
       "      <td>total_ic_mou_8</td>\n",
       "      <td>4.31</td>\n",
       "    </tr>\n",
       "    <tr>\n",
       "      <th>0</th>\n",
       "      <td>arpu_8</td>\n",
       "      <td>3.15</td>\n",
       "    </tr>\n",
       "    <tr>\n",
       "      <th>5</th>\n",
       "      <td>total_ic_mou_7</td>\n",
       "      <td>2.99</td>\n",
       "    </tr>\n",
       "    <tr>\n",
       "      <th>10</th>\n",
       "      <td>arpu_diff</td>\n",
       "      <td>2.29</td>\n",
       "    </tr>\n",
       "    <tr>\n",
       "      <th>2</th>\n",
       "      <td>loc_og_t2m_mou_8</td>\n",
       "      <td>1.90</td>\n",
       "    </tr>\n",
       "    <tr>\n",
       "      <th>1</th>\n",
       "      <td>loc_og_t2t_mou_8</td>\n",
       "      <td>1.35</td>\n",
       "    </tr>\n",
       "    <tr>\n",
       "      <th>3</th>\n",
       "      <td>std_og_t2t_mou_8</td>\n",
       "      <td>1.27</td>\n",
       "    </tr>\n",
       "    <tr>\n",
       "      <th>4</th>\n",
       "      <td>std_og_t2m_mou_8</td>\n",
       "      <td>1.24</td>\n",
       "    </tr>\n",
       "    <tr>\n",
       "      <th>9</th>\n",
       "      <td>sep_vbc_3g</td>\n",
       "      <td>1.07</td>\n",
       "    </tr>\n",
       "  </tbody>\n",
       "</table>\n",
       "</div>"
      ],
      "text/plain": [
       "            Features    VIF\n",
       "8          fb_user_8  10.88\n",
       "7   night_pck_user_6   9.70\n",
       "6     total_ic_mou_8   4.31\n",
       "0             arpu_8   3.15\n",
       "5     total_ic_mou_7   2.99\n",
       "10         arpu_diff   2.29\n",
       "2   loc_og_t2m_mou_8   1.90\n",
       "1   loc_og_t2t_mou_8   1.35\n",
       "3   std_og_t2t_mou_8   1.27\n",
       "4   std_og_t2m_mou_8   1.24\n",
       "9         sep_vbc_3g   1.07"
      ]
     },
     "execution_count": 198,
     "metadata": {},
     "output_type": "execute_result"
    }
   ],
   "source": [
    "vif = pd.DataFrame()\n",
    "vif['Features'] = X_smote[col].columns\n",
    "vif['VIF'] = [variance_inflation_factor(X_smote[col].values, i) for i in range(X_smote[col].shape[1])]\n",
    "vif['VIF'] = round(vif['VIF'], 2)\n",
    "vif = vif.sort_values(by = \"VIF\", ascending = False)\n",
    "vif"
   ]
  },
  {
   "cell_type": "code",
   "execution_count": 199,
   "metadata": {},
   "outputs": [],
   "source": [
    "#High VIF\n",
    "col = col.drop('fb_user_8',1)"
   ]
  },
  {
   "cell_type": "code",
   "execution_count": 200,
   "metadata": {},
   "outputs": [
    {
     "data": {
      "text/html": [
       "<table class=\"simpletable\">\n",
       "<caption>Generalized Linear Model Regression Results</caption>\n",
       "<tr>\n",
       "  <th>Dep. Variable:</th>           <td>y</td>        <th>  No. Observations:  </th>  <td> 38368</td> \n",
       "</tr>\n",
       "<tr>\n",
       "  <th>Model:</th>                  <td>GLM</td>       <th>  Df Residuals:      </th>  <td> 38357</td> \n",
       "</tr>\n",
       "<tr>\n",
       "  <th>Model Family:</th>        <td>Binomial</td>     <th>  Df Model:          </th>  <td>    10</td> \n",
       "</tr>\n",
       "<tr>\n",
       "  <th>Link Function:</th>         <td>logit</td>      <th>  Scale:             </th> <td>  1.0000</td>\n",
       "</tr>\n",
       "<tr>\n",
       "  <th>Method:</th>                <td>IRLS</td>       <th>  Log-Likelihood:    </th> <td> -16692.</td>\n",
       "</tr>\n",
       "<tr>\n",
       "  <th>Date:</th>            <td>Mon, 05 Apr 2021</td> <th>  Deviance:          </th> <td>  33384.</td>\n",
       "</tr>\n",
       "<tr>\n",
       "  <th>Time:</th>                <td>21:17:40</td>     <th>  Pearson chi2:      </th> <td>1.75e+05</td>\n",
       "</tr>\n",
       "<tr>\n",
       "  <th>No. Iterations:</th>          <td>8</td>        <th>                     </th>     <td> </td>   \n",
       "</tr>\n",
       "<tr>\n",
       "  <th>Covariance Type:</th>     <td>nonrobust</td>    <th>                     </th>     <td> </td>   \n",
       "</tr>\n",
       "</table>\n",
       "<table class=\"simpletable\">\n",
       "<tr>\n",
       "          <td></td>            <th>coef</th>     <th>std err</th>      <th>z</th>      <th>P>|z|</th>  <th>[0.025</th>    <th>0.975]</th>  \n",
       "</tr>\n",
       "<tr>\n",
       "  <th>const</th>            <td>   -3.3874</td> <td>    0.092</td> <td>  -36.996</td> <td> 0.000</td> <td>   -3.567</td> <td>   -3.208</td>\n",
       "</tr>\n",
       "<tr>\n",
       "  <th>arpu_8</th>           <td>   -0.0247</td> <td>    0.025</td> <td>   -0.991</td> <td> 0.321</td> <td>   -0.073</td> <td>    0.024</td>\n",
       "</tr>\n",
       "<tr>\n",
       "  <th>loc_og_t2t_mou_8</th> <td>   -0.2349</td> <td>    0.028</td> <td>   -8.396</td> <td> 0.000</td> <td>   -0.290</td> <td>   -0.180</td>\n",
       "</tr>\n",
       "<tr>\n",
       "  <th>loc_og_t2m_mou_8</th> <td>   -0.4041</td> <td>    0.030</td> <td>  -13.387</td> <td> 0.000</td> <td>   -0.463</td> <td>   -0.345</td>\n",
       "</tr>\n",
       "<tr>\n",
       "  <th>std_og_t2t_mou_8</th> <td>   -0.1451</td> <td>    0.017</td> <td>   -8.488</td> <td> 0.000</td> <td>   -0.179</td> <td>   -0.112</td>\n",
       "</tr>\n",
       "<tr>\n",
       "  <th>std_og_t2m_mou_8</th> <td>   -0.1666</td> <td>    0.018</td> <td>   -9.188</td> <td> 0.000</td> <td>   -0.202</td> <td>   -0.131</td>\n",
       "</tr>\n",
       "<tr>\n",
       "  <th>total_ic_mou_7</th>   <td>    0.6903</td> <td>    0.035</td> <td>   19.832</td> <td> 0.000</td> <td>    0.622</td> <td>    0.759</td>\n",
       "</tr>\n",
       "<tr>\n",
       "  <th>total_ic_mou_8</th>   <td>   -2.2815</td> <td>    0.055</td> <td>  -41.607</td> <td> 0.000</td> <td>   -2.389</td> <td>   -2.174</td>\n",
       "</tr>\n",
       "<tr>\n",
       "  <th>night_pck_user_6</th> <td>   19.8351</td> <td>    0.980</td> <td>   20.249</td> <td> 0.000</td> <td>   17.915</td> <td>   21.755</td>\n",
       "</tr>\n",
       "<tr>\n",
       "  <th>sep_vbc_3g</th>       <td>   -0.9506</td> <td>    0.079</td> <td>  -12.060</td> <td> 0.000</td> <td>   -1.105</td> <td>   -0.796</td>\n",
       "</tr>\n",
       "<tr>\n",
       "  <th>arpu_diff</th>        <td>   -0.7325</td> <td>    0.020</td> <td>  -36.089</td> <td> 0.000</td> <td>   -0.772</td> <td>   -0.693</td>\n",
       "</tr>\n",
       "</table>"
      ],
      "text/plain": [
       "<class 'statsmodels.iolib.summary.Summary'>\n",
       "\"\"\"\n",
       "                 Generalized Linear Model Regression Results                  \n",
       "==============================================================================\n",
       "Dep. Variable:                      y   No. Observations:                38368\n",
       "Model:                            GLM   Df Residuals:                    38357\n",
       "Model Family:                Binomial   Df Model:                           10\n",
       "Link Function:                  logit   Scale:                          1.0000\n",
       "Method:                          IRLS   Log-Likelihood:                -16692.\n",
       "Date:                Mon, 05 Apr 2021   Deviance:                       33384.\n",
       "Time:                        21:17:40   Pearson chi2:                 1.75e+05\n",
       "No. Iterations:                     8                                         \n",
       "Covariance Type:            nonrobust                                         \n",
       "====================================================================================\n",
       "                       coef    std err          z      P>|z|      [0.025      0.975]\n",
       "------------------------------------------------------------------------------------\n",
       "const               -3.3874      0.092    -36.996      0.000      -3.567      -3.208\n",
       "arpu_8              -0.0247      0.025     -0.991      0.321      -0.073       0.024\n",
       "loc_og_t2t_mou_8    -0.2349      0.028     -8.396      0.000      -0.290      -0.180\n",
       "loc_og_t2m_mou_8    -0.4041      0.030    -13.387      0.000      -0.463      -0.345\n",
       "std_og_t2t_mou_8    -0.1451      0.017     -8.488      0.000      -0.179      -0.112\n",
       "std_og_t2m_mou_8    -0.1666      0.018     -9.188      0.000      -0.202      -0.131\n",
       "total_ic_mou_7       0.6903      0.035     19.832      0.000       0.622       0.759\n",
       "total_ic_mou_8      -2.2815      0.055    -41.607      0.000      -2.389      -2.174\n",
       "night_pck_user_6    19.8351      0.980     20.249      0.000      17.915      21.755\n",
       "sep_vbc_3g          -0.9506      0.079    -12.060      0.000      -1.105      -0.796\n",
       "arpu_diff           -0.7325      0.020    -36.089      0.000      -0.772      -0.693\n",
       "====================================================================================\n",
       "\"\"\""
      ]
     },
     "execution_count": 200,
     "metadata": {},
     "output_type": "execute_result"
    }
   ],
   "source": [
    "X_train_sm = sm.add_constant(X_smote[col])\n",
    "logr = sm.GLM(y_smote,X_train_sm, family = sm.families.Binomial())\n",
    "res = logr.fit()\n",
    "res.summary()"
   ]
  },
  {
   "cell_type": "code",
   "execution_count": 201,
   "metadata": {},
   "outputs": [
    {
     "data": {
      "text/html": [
       "<div>\n",
       "<style scoped>\n",
       "    .dataframe tbody tr th:only-of-type {\n",
       "        vertical-align: middle;\n",
       "    }\n",
       "\n",
       "    .dataframe tbody tr th {\n",
       "        vertical-align: top;\n",
       "    }\n",
       "\n",
       "    .dataframe thead th {\n",
       "        text-align: right;\n",
       "    }\n",
       "</style>\n",
       "<table border=\"1\" class=\"dataframe\">\n",
       "  <thead>\n",
       "    <tr style=\"text-align: right;\">\n",
       "      <th></th>\n",
       "      <th>Features</th>\n",
       "      <th>VIF</th>\n",
       "    </tr>\n",
       "  </thead>\n",
       "  <tbody>\n",
       "    <tr>\n",
       "      <th>6</th>\n",
       "      <td>total_ic_mou_8</td>\n",
       "      <td>4.28</td>\n",
       "    </tr>\n",
       "    <tr>\n",
       "      <th>0</th>\n",
       "      <td>arpu_8</td>\n",
       "      <td>3.01</td>\n",
       "    </tr>\n",
       "    <tr>\n",
       "      <th>5</th>\n",
       "      <td>total_ic_mou_7</td>\n",
       "      <td>2.99</td>\n",
       "    </tr>\n",
       "    <tr>\n",
       "      <th>9</th>\n",
       "      <td>arpu_diff</td>\n",
       "      <td>2.26</td>\n",
       "    </tr>\n",
       "    <tr>\n",
       "      <th>2</th>\n",
       "      <td>loc_og_t2m_mou_8</td>\n",
       "      <td>1.89</td>\n",
       "    </tr>\n",
       "    <tr>\n",
       "      <th>1</th>\n",
       "      <td>loc_og_t2t_mou_8</td>\n",
       "      <td>1.35</td>\n",
       "    </tr>\n",
       "    <tr>\n",
       "      <th>7</th>\n",
       "      <td>night_pck_user_6</td>\n",
       "      <td>1.27</td>\n",
       "    </tr>\n",
       "    <tr>\n",
       "      <th>3</th>\n",
       "      <td>std_og_t2t_mou_8</td>\n",
       "      <td>1.25</td>\n",
       "    </tr>\n",
       "    <tr>\n",
       "      <th>4</th>\n",
       "      <td>std_og_t2m_mou_8</td>\n",
       "      <td>1.22</td>\n",
       "    </tr>\n",
       "    <tr>\n",
       "      <th>8</th>\n",
       "      <td>sep_vbc_3g</td>\n",
       "      <td>1.06</td>\n",
       "    </tr>\n",
       "  </tbody>\n",
       "</table>\n",
       "</div>"
      ],
      "text/plain": [
       "           Features   VIF\n",
       "6    total_ic_mou_8  4.28\n",
       "0            arpu_8  3.01\n",
       "5    total_ic_mou_7  2.99\n",
       "9         arpu_diff  2.26\n",
       "2  loc_og_t2m_mou_8  1.89\n",
       "1  loc_og_t2t_mou_8  1.35\n",
       "7  night_pck_user_6  1.27\n",
       "3  std_og_t2t_mou_8  1.25\n",
       "4  std_og_t2m_mou_8  1.22\n",
       "8        sep_vbc_3g  1.06"
      ]
     },
     "execution_count": 201,
     "metadata": {},
     "output_type": "execute_result"
    }
   ],
   "source": [
    "vif = pd.DataFrame()\n",
    "vif['Features'] = X_smote[col].columns\n",
    "vif['VIF'] = [variance_inflation_factor(X_smote[col].values, i) for i in range(X_smote[col].shape[1])]\n",
    "vif['VIF'] = round(vif['VIF'], 2)\n",
    "vif = vif.sort_values(by = \"VIF\", ascending = False)\n",
    "vif"
   ]
  },
  {
   "cell_type": "code",
   "execution_count": 202,
   "metadata": {},
   "outputs": [
    {
     "data": {
      "text/plain": [
       "['const',\n",
       " 'arpu_8',\n",
       " 'loc_og_t2t_mou_8',\n",
       " 'loc_og_t2m_mou_8',\n",
       " 'std_og_t2t_mou_8',\n",
       " 'std_og_t2m_mou_8',\n",
       " 'total_ic_mou_7',\n",
       " 'total_ic_mou_8',\n",
       " 'night_pck_user_6',\n",
       " 'sep_vbc_3g',\n",
       " 'arpu_diff']"
      ]
     },
     "execution_count": 202,
     "metadata": {},
     "output_type": "execute_result"
    }
   ],
   "source": [
    "driv_vars = list(X_train_sm.columns)\n",
    "driv_vars"
   ]
  },
  {
   "cell_type": "code",
   "execution_count": 203,
   "metadata": {},
   "outputs": [],
   "source": [
    "driv_vars.remove('const')"
   ]
  },
  {
   "cell_type": "code",
   "execution_count": 204,
   "metadata": {},
   "outputs": [],
   "source": [
    "y_train_glm_pred = res.predict(X_train_sm).values.reshape(-1)"
   ]
  },
  {
   "cell_type": "code",
   "execution_count": 205,
   "metadata": {},
   "outputs": [],
   "source": [
    "y_train_glm_pred_final = pd.DataFrame({'churn':y_smote, 'Churn_Prob':y_train_glm_pred})"
   ]
  },
  {
   "cell_type": "code",
   "execution_count": 206,
   "metadata": {},
   "outputs": [
    {
     "data": {
      "text/html": [
       "<div>\n",
       "<style scoped>\n",
       "    .dataframe tbody tr th:only-of-type {\n",
       "        vertical-align: middle;\n",
       "    }\n",
       "\n",
       "    .dataframe tbody tr th {\n",
       "        vertical-align: top;\n",
       "    }\n",
       "\n",
       "    .dataframe thead th {\n",
       "        text-align: right;\n",
       "    }\n",
       "</style>\n",
       "<table border=\"1\" class=\"dataframe\">\n",
       "  <thead>\n",
       "    <tr style=\"text-align: right;\">\n",
       "      <th></th>\n",
       "      <th>churn</th>\n",
       "      <th>Churn_Prob</th>\n",
       "      <th>0.0</th>\n",
       "      <th>0.1</th>\n",
       "      <th>0.2</th>\n",
       "      <th>0.3</th>\n",
       "      <th>0.4</th>\n",
       "      <th>0.5</th>\n",
       "      <th>0.6</th>\n",
       "      <th>0.7</th>\n",
       "      <th>0.8</th>\n",
       "      <th>0.9</th>\n",
       "    </tr>\n",
       "  </thead>\n",
       "  <tbody>\n",
       "    <tr>\n",
       "      <th>0</th>\n",
       "      <td>0</td>\n",
       "      <td>0.395926</td>\n",
       "      <td>1</td>\n",
       "      <td>1</td>\n",
       "      <td>1</td>\n",
       "      <td>1</td>\n",
       "      <td>0</td>\n",
       "      <td>0</td>\n",
       "      <td>0</td>\n",
       "      <td>0</td>\n",
       "      <td>0</td>\n",
       "      <td>0</td>\n",
       "    </tr>\n",
       "    <tr>\n",
       "      <th>1</th>\n",
       "      <td>0</td>\n",
       "      <td>0.036300</td>\n",
       "      <td>1</td>\n",
       "      <td>0</td>\n",
       "      <td>0</td>\n",
       "      <td>0</td>\n",
       "      <td>0</td>\n",
       "      <td>0</td>\n",
       "      <td>0</td>\n",
       "      <td>0</td>\n",
       "      <td>0</td>\n",
       "      <td>0</td>\n",
       "    </tr>\n",
       "    <tr>\n",
       "      <th>2</th>\n",
       "      <td>0</td>\n",
       "      <td>0.033577</td>\n",
       "      <td>1</td>\n",
       "      <td>0</td>\n",
       "      <td>0</td>\n",
       "      <td>0</td>\n",
       "      <td>0</td>\n",
       "      <td>0</td>\n",
       "      <td>0</td>\n",
       "      <td>0</td>\n",
       "      <td>0</td>\n",
       "      <td>0</td>\n",
       "    </tr>\n",
       "    <tr>\n",
       "      <th>3</th>\n",
       "      <td>0</td>\n",
       "      <td>0.381473</td>\n",
       "      <td>1</td>\n",
       "      <td>1</td>\n",
       "      <td>1</td>\n",
       "      <td>1</td>\n",
       "      <td>0</td>\n",
       "      <td>0</td>\n",
       "      <td>0</td>\n",
       "      <td>0</td>\n",
       "      <td>0</td>\n",
       "      <td>0</td>\n",
       "    </tr>\n",
       "    <tr>\n",
       "      <th>4</th>\n",
       "      <td>0</td>\n",
       "      <td>0.520695</td>\n",
       "      <td>1</td>\n",
       "      <td>1</td>\n",
       "      <td>1</td>\n",
       "      <td>1</td>\n",
       "      <td>1</td>\n",
       "      <td>1</td>\n",
       "      <td>0</td>\n",
       "      <td>0</td>\n",
       "      <td>0</td>\n",
       "      <td>0</td>\n",
       "    </tr>\n",
       "  </tbody>\n",
       "</table>\n",
       "</div>"
      ],
      "text/plain": [
       "   churn  Churn_Prob  0.0  0.1  0.2  0.3  0.4  0.5  0.6  0.7  0.8  0.9\n",
       "0      0    0.395926    1    1    1    1    0    0    0    0    0    0\n",
       "1      0    0.036300    1    0    0    0    0    0    0    0    0    0\n",
       "2      0    0.033577    1    0    0    0    0    0    0    0    0    0\n",
       "3      0    0.381473    1    1    1    1    0    0    0    0    0    0\n",
       "4      0    0.520695    1    1    1    1    1    1    0    0    0    0"
      ]
     },
     "execution_count": 206,
     "metadata": {},
     "output_type": "execute_result"
    }
   ],
   "source": [
    "numbers = [float(x)/10 for x in range(10)]\n",
    "for i in numbers:\n",
    "    y_train_glm_pred_final[i]= y_train_glm_pred_final['Churn_Prob'].map(lambda x: 1 if x > i else 0)\n",
    "y_train_glm_pred_final.head()"
   ]
  },
  {
   "cell_type": "code",
   "execution_count": 207,
   "metadata": {},
   "outputs": [
    {
     "name": "stdout",
     "output_type": "stream",
     "text": [
      "     prob  accuracy     sensi     speci\n",
      "0.0   0.0  0.500000  1.000000  0.000000\n",
      "0.1   0.1  0.664251  0.973311  0.355192\n",
      "0.2   0.2  0.720027  0.950063  0.489992\n",
      "0.3   0.3  0.760790  0.920559  0.601022\n",
      "0.4   0.4  0.795637  0.886885  0.704389\n",
      "0.5   0.5  0.818390  0.843255  0.793526\n",
      "0.6   0.6  0.826809  0.788678  0.864940\n",
      "0.7   0.7  0.807600  0.698759  0.916441\n",
      "0.8   0.8  0.739079  0.523613  0.954545\n",
      "0.9   0.9  0.577252  0.169725  0.984779\n"
     ]
    }
   ],
   "source": [
    "cutoff_train_df_glm = pd.DataFrame( columns = ['prob','accuracy','sensi','speci'])\n",
    "num = [0.0,0.1,0.2,0.3,0.4,0.5,0.6,0.7,0.8,0.9]\n",
    "for i in num:\n",
    "    cm1 = metrics.confusion_matrix(y_train_glm_pred_final['churn'], y_train_glm_pred_final[i] )\n",
    "    total1=sum(sum(cm1))\n",
    "    accuracy = (cm1[0,0]+cm1[1,1])/total1\n",
    "    \n",
    "    speci = cm1[0,0]/(cm1[0,0]+cm1[0,1])\n",
    "    sensi = cm1[1,1]/(cm1[1,0]+cm1[1,1])\n",
    "    cutoff_train_df_glm.loc[i] =[ i,accuracy,sensi,speci]\n",
    "print(cutoff_train_df_glm)"
   ]
  },
  {
   "cell_type": "code",
   "execution_count": 208,
   "metadata": {},
   "outputs": [
    {
     "data": {
      "image/png": "[encoded data removed]",
      "text/plain": [
       "<Figure size 432x288 with 1 Axes>"
      ]
     },
     "metadata": {
      "needs_background": "light"
     },
     "output_type": "display_data"
    }
   ],
   "source": [
    "cutoff_train_df_glm.plot.line(x='prob', y=['accuracy','sensi','speci'])\n",
    "plt.show()"
   ]
  },
  {
   "cell_type": "code",
   "execution_count": 209,
   "metadata": {},
   "outputs": [],
   "source": [
    "y_train_glm_pred_final['predicted'] = y_train_glm_pred_final['Churn_Prob'].map(lambda x: 1 if x > 0.5 else 0)"
   ]
  },
  {
   "cell_type": "code",
   "execution_count": 210,
   "metadata": {},
   "outputs": [
    {
     "data": {
      "text/plain": [
       "prob        0.500000\n",
       "accuracy    0.818390\n",
       "sensi       0.843255\n",
       "speci       0.793526\n",
       "Name: 0.5, dtype: float64"
      ]
     },
     "execution_count": 210,
     "metadata": {},
     "output_type": "execute_result"
    }
   ],
   "source": [
    "cutoff_train_df_glm.loc[0.50,:]"
   ]
  },
  {
   "cell_type": "code",
   "execution_count": 211,
   "metadata": {},
   "outputs": [
    {
     "data": {
      "image/png": "[encoded data removed]",
      "text/plain": [
       "<Figure size 360x360 with 1 Axes>"
      ]
     },
     "metadata": {
      "needs_background": "light"
     },
     "output_type": "display_data"
    }
   ],
   "source": [
    "draw_roc(y_train_glm_pred_final.churn, y_train_glm_pred_final.Churn_Prob)"
   ]
  },
  {
   "cell_type": "code",
   "execution_count": 212,
   "metadata": {},
   "outputs": [],
   "source": [
    "X_test_fin = X_test[driv_vars]"
   ]
  },
  {
   "cell_type": "code",
   "execution_count": 213,
   "metadata": {},
   "outputs": [],
   "source": [
    "X_test_sm = sm.add_constant(X_test_fin)"
   ]
  },
  {
   "cell_type": "code",
   "execution_count": 214,
   "metadata": {},
   "outputs": [],
   "source": [
    "y_test_pred = res.predict(X_test_sm)"
   ]
  },
  {
   "cell_type": "code",
   "execution_count": 215,
   "metadata": {},
   "outputs": [],
   "source": [
    "y_test_glm_pred_final = pd.DataFrame({'churn':y_test, 'Churn_Prob':y_test_pred})"
   ]
  },
  {
   "cell_type": "code",
   "execution_count": 216,
   "metadata": {},
   "outputs": [],
   "source": [
    "y_test_glm_pred_final['predicted'] = y_test_glm_pred_final['Churn_Prob'].map(lambda x: 1 if x > 0.5 else 0)"
   ]
  },
  {
   "cell_type": "code",
   "execution_count": 217,
   "metadata": {},
   "outputs": [
    {
     "data": {
      "text/plain": [
       "0.7950910706352732"
      ]
     },
     "execution_count": 217,
     "metadata": {},
     "output_type": "execute_result"
    }
   ],
   "source": [
    "# Let's check the overall accuracy.\n",
    "metrics.accuracy_score(y_test_glm_pred_final.churn, y_test_glm_pred_final.predicted)"
   ]
  },
  {
   "cell_type": "code",
   "execution_count": 218,
   "metadata": {},
   "outputs": [
    {
     "data": {
      "text/plain": [
       "array([[6514, 1720],\n",
       "       [ 125,  645]], dtype=int64)"
      ]
     },
     "execution_count": 218,
     "metadata": {},
     "output_type": "execute_result"
    }
   ],
   "source": [
    "# Confusionmatrix\n",
    "cm_fin = metrics.confusion_matrix(y_test_glm_pred_final.churn, y_test_glm_pred_final.predicted)\n",
    "cm_fin"
   ]
  },
  {
   "cell_type": "code",
   "execution_count": 219,
   "metadata": {},
   "outputs": [
    {
     "data": {
      "text/plain": [
       "0.8376623376623377"
      ]
     },
     "execution_count": 219,
     "metadata": {},
     "output_type": "execute_result"
    }
   ],
   "source": [
    "#Sensitivity\n",
    "cm_fin[1,1]/(cm_fin[1,1]+cm_fin[1,0])"
   ]
  },
  {
   "cell_type": "code",
   "execution_count": 220,
   "metadata": {},
   "outputs": [
    {
     "data": {
      "text/plain": [
       "0.7911100315763906"
      ]
     },
     "execution_count": 220,
     "metadata": {},
     "output_type": "execute_result"
    }
   ],
   "source": [
    "#Specificity\n",
    "cm_fin[0,0]/(cm_fin[0,0]+cm_fin[0,1])"
   ]
  },
  {
   "cell_type": "code",
   "execution_count": 221,
   "metadata": {},
   "outputs": [
    {
     "data": {
      "text/plain": [
       "prob        0.500000\n",
       "accuracy    0.818390\n",
       "sensi       0.843255\n",
       "speci       0.793526\n",
       "Name: 0.5, dtype: float64"
      ]
     },
     "execution_count": 221,
     "metadata": {},
     "output_type": "execute_result"
    }
   ],
   "source": [
    "cutoff_train_df_glm.loc[0.50,:]"
   ]
  },
  {
   "cell_type": "markdown",
   "metadata": {},
   "source": [
    "#### Driver variables -\n",
    "\n",
    "'arpu_8', 'loc_og_t2t_mou_8', 'loc_og_t2m_mou_8', 'std_og_t2t_mou_8', 'std_og_t2m_mou_8', 'total_ic_mou_7', 'total_ic_mou_8', 'night_pck_user_6', 'sep_vbc_3g', 'arpu_diff'\n"
   ]
  },
  {
   "attachments": {},
   "cell_type": "markdown",
   "metadata": {},
   "source": [
    "#### Business Insights\n",
    "\n",
    "1) 'total_ic_mou_8': Lesser the incoming minutes of useage by a customer, more chances that customer will be churned.\n",
    "\n",
    "2) 'std_og_t2m_mou_8': More outgoing in the action phase month would lead to less likelyhood of churn, so company must offer customers with better packs with lower rates to make STD calls last longer.\n",
    "\n",
    "3) 'loc_og_t2m_mou_8': More outgoing in the action phase month would lead to less likelyhood of churn, so company must offer customers with better packs with lower rates to make local calls last longer.\n",
    "\n",
    "4) 'arpu_8': Average revenue per user decrese in action month, more chances that customer will be churned."
   ]
  },
  {
   "cell_type": "code",
   "execution_count": null,
   "metadata": {},
   "outputs": [],
   "source": []
  }
 ],
 "metadata": {
  "kernelspec": {
   "display_name": "Python 3",
   "language": "python",
   "name": "python3"
  },
  "language_info": {
   "codemirror_mode": {
    "name": "ipython",
    "version": 3
   },
   "file_extension": ".py",
   "mimetype": "text/x-python",
   "name": "python",
   "nbconvert_exporter": "python",
   "pygments_lexer": "ipython3",
   "version": "3.7.6"
  }
 },
 "nbformat": 4,
 "nbformat_minor": 4
}
